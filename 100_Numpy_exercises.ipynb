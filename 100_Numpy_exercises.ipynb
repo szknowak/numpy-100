{
 "cells": [
  {
   "cell_type": "markdown",
   "id": "52249554",
   "metadata": {},
   "source": [
    "# 100 numpy exercises\n",
    "\n",
    "This is a collection of exercises that have been collected in the numpy mailing list, on stack overflow\n",
    "and in the numpy documentation. The goal of this collection is to offer a quick reference for both old\n",
    "and new users but also to provide a set of exercises for those who teach.\n",
    "\n",
    "\n",
    "If you find an error or think you've a better way to solve some of them, feel\n",
    "free to open an issue at <https://github.com/rougier/numpy-100>."
   ]
  },
  {
   "cell_type": "markdown",
   "id": "9f0e56c3",
   "metadata": {},
   "source": [
    "File automatically generated. See the documentation to update questions/answers/hints programmatically."
   ]
  },
  {
   "cell_type": "markdown",
   "id": "04b078a1",
   "metadata": {},
   "source": [
    "Run the `initialize.py` module, then for each question you can query the\n",
    "answer or an hint with `hint(n)` or `answer(n)` for `n` question number."
   ]
  },
  {
   "cell_type": "code",
   "execution_count": 2,
   "id": "2e6ba9b2",
   "metadata": {},
   "outputs": [],
   "source": [
    "%run initialise.py"
   ]
  },
  {
   "cell_type": "markdown",
   "id": "e1672806",
   "metadata": {},
   "source": [
    "#### 1. Import the numpy package under the name `np` (★☆☆)"
   ]
  },
  {
   "cell_type": "code",
   "execution_count": 3,
   "id": "6c52078e",
   "metadata": {},
   "outputs": [],
   "source": [
    "import numpy as np"
   ]
  },
  {
   "cell_type": "markdown",
   "id": "1d2a0271",
   "metadata": {},
   "source": [
    "#### 2. Print the numpy version and the configuration (★☆☆)"
   ]
  },
  {
   "cell_type": "code",
   "execution_count": 4,
   "id": "83f10626",
   "metadata": {},
   "outputs": [
    {
     "data": {
      "text/plain": [
       "'2.0.2'"
      ]
     },
     "execution_count": 4,
     "metadata": {},
     "output_type": "execute_result"
    }
   ],
   "source": [
    "np.__version__"
   ]
  },
  {
   "cell_type": "code",
   "execution_count": 5,
   "id": "023a2c52",
   "metadata": {},
   "outputs": [
    {
     "name": "stdout",
     "output_type": "stream",
     "text": [
      "Build Dependencies:\n",
      "  blas:\n",
      "    detection method: system\n",
      "    found: true\n",
      "    include directory: unknown\n",
      "    lib directory: unknown\n",
      "    name: accelerate\n",
      "    openblas configuration: unknown\n",
      "    pc file directory: unknown\n",
      "    version: unknown\n",
      "  lapack:\n",
      "    detection method: system\n",
      "    found: true\n",
      "    include directory: unknown\n",
      "    lib directory: unknown\n",
      "    name: accelerate\n",
      "    openblas configuration: unknown\n",
      "    pc file directory: unknown\n",
      "    version: unknown\n",
      "Compilers:\n",
      "  c:\n",
      "    commands: cc\n",
      "    linker: ld64\n",
      "    name: clang\n",
      "    version: 15.0.0\n",
      "  c++:\n",
      "    commands: c++\n",
      "    linker: ld64\n",
      "    name: clang\n",
      "    version: 15.0.0\n",
      "  cython:\n",
      "    commands: cython\n",
      "    linker: cython\n",
      "    name: cython\n",
      "    version: 3.0.11\n",
      "Machine Information:\n",
      "  build:\n",
      "    cpu: aarch64\n",
      "    endian: little\n",
      "    family: aarch64\n",
      "    system: darwin\n",
      "  host:\n",
      "    cpu: aarch64\n",
      "    endian: little\n",
      "    family: aarch64\n",
      "    system: darwin\n",
      "Python Information:\n",
      "  path: /private/var/folders/4d/0gnh84wj53j7wyk695q0tc_80000gn/T/build-env-kq4kuj35/bin/python\n",
      "  version: '3.9'\n",
      "SIMD Extensions:\n",
      "  baseline:\n",
      "  - NEON\n",
      "  - NEON_FP16\n",
      "  - NEON_VFPV4\n",
      "  - ASIMD\n",
      "  found:\n",
      "  - ASIMDHP\n",
      "  not found:\n",
      "  - ASIMDFHM\n",
      "\n"
     ]
    }
   ],
   "source": [
    "np.show_config()"
   ]
  },
  {
   "cell_type": "markdown",
   "id": "4490d971",
   "metadata": {},
   "source": [
    "#### 3. Create a null vector of size 10 (★☆☆)"
   ]
  },
  {
   "cell_type": "code",
   "execution_count": 6,
   "id": "df54025a",
   "metadata": {},
   "outputs": [
    {
     "data": {
      "text/plain": [
       "array([0., 0., 0., 0., 0., 0., 0., 0., 0., 0.])"
      ]
     },
     "execution_count": 6,
     "metadata": {},
     "output_type": "execute_result"
    }
   ],
   "source": [
    "null_vector = np.zeros(10)\n",
    "null_vector"
   ]
  },
  {
   "cell_type": "markdown",
   "id": "4a217c03",
   "metadata": {},
   "source": [
    "#### 4. How to find the memory size of any array (★☆☆)"
   ]
  },
  {
   "cell_type": "code",
   "execution_count": 7,
   "id": "5c5b0950",
   "metadata": {},
   "outputs": [
    {
     "data": {
      "text/plain": [
       "80"
      ]
     },
     "execution_count": 7,
     "metadata": {},
     "output_type": "execute_result"
    }
   ],
   "source": [
    "null_vector.size * null_vector.itemsize"
   ]
  },
  {
   "cell_type": "code",
   "execution_count": 8,
   "id": "5938fef7",
   "metadata": {},
   "outputs": [
    {
     "data": {
      "text/plain": [
       "80"
      ]
     },
     "execution_count": 8,
     "metadata": {},
     "output_type": "execute_result"
    }
   ],
   "source": [
    "null_vector.nbytes"
   ]
  },
  {
   "cell_type": "markdown",
   "id": "4a412447",
   "metadata": {},
   "source": [
    "#### 5. How to get the documentation of the numpy add function from the command line? (★☆☆)"
   ]
  },
  {
   "cell_type": "code",
   "execution_count": 9,
   "id": "fcb1248a",
   "metadata": {},
   "outputs": [
    {
     "name": "stdout",
     "output_type": "stream",
     "text": [
      "add(x1, x2, /, out=None, *, where=True, casting='same_kind', order='K', dtype=None, subok=True[, signature])\n",
      "\n",
      "Add arguments element-wise.\n",
      "\n",
      "Parameters\n",
      "----------\n",
      "x1, x2 : array_like\n",
      "    The arrays to be added.\n",
      "    If ``x1.shape != x2.shape``, they must be broadcastable to a common\n",
      "    shape (which becomes the shape of the output).\n",
      "out : ndarray, None, or tuple of ndarray and None, optional\n",
      "    A location into which the result is stored. If provided, it must have\n",
      "    a shape that the inputs broadcast to. If not provided or None,\n",
      "    a freshly-allocated array is returned. A tuple (possible only as a\n",
      "    keyword argument) must have length equal to the number of outputs.\n",
      "where : array_like, optional\n",
      "    This condition is broadcast over the input. At locations where the\n",
      "    condition is True, the `out` array will be set to the ufunc result.\n",
      "    Elsewhere, the `out` array will retain its original value.\n",
      "    Note that if an uninitialized `out` array is created via the default\n",
      "    ``out=None``, locations within it where the condition is False will\n",
      "    remain uninitialized.\n",
      "**kwargs\n",
      "    For other keyword-only arguments, see the\n",
      "    :ref:`ufunc docs <ufuncs.kwargs>`.\n",
      "\n",
      "Returns\n",
      "-------\n",
      "add : ndarray or scalar\n",
      "    The sum of `x1` and `x2`, element-wise.\n",
      "    This is a scalar if both `x1` and `x2` are scalars.\n",
      "\n",
      "Notes\n",
      "-----\n",
      "Equivalent to `x1` + `x2` in terms of array broadcasting.\n",
      "\n",
      "Examples\n",
      "--------\n",
      ">>> np.add(1.0, 4.0)\n",
      "5.0\n",
      ">>> x1 = np.arange(9.0).reshape((3, 3))\n",
      ">>> x2 = np.arange(3.0)\n",
      ">>> np.add(x1, x2)\n",
      "array([[  0.,   2.,   4.],\n",
      "       [  3.,   5.,   7.],\n",
      "       [  6.,   8.,  10.]])\n",
      "\n",
      "The ``+`` operator can be used as a shorthand for ``np.add`` on ndarrays.\n",
      "\n",
      ">>> x1 = np.arange(9.0).reshape((3, 3))\n",
      ">>> x2 = np.arange(3.0)\n",
      ">>> x1 + x2\n",
      "array([[ 0.,  2.,  4.],\n",
      "       [ 3.,  5.,  7.],\n",
      "       [ 6.,  8., 10.]])\n"
     ]
    }
   ],
   "source": [
    "print(np.add.__doc__)"
   ]
  },
  {
   "cell_type": "markdown",
   "id": "8e890e32",
   "metadata": {},
   "source": [
    "#### 6. Create a null vector of size 10 but the fifth value which is 1 (★☆☆)"
   ]
  },
  {
   "cell_type": "code",
   "execution_count": 10,
   "id": "452df2a7",
   "metadata": {},
   "outputs": [
    {
     "data": {
      "text/plain": [
       "array([0., 0., 0., 0., 1., 0., 0., 0., 0., 0.])"
      ]
     },
     "execution_count": 10,
     "metadata": {},
     "output_type": "execute_result"
    }
   ],
   "source": [
    "null_vector_6 = np.zeros(10)\n",
    "null_vector_6[4] = 1\n",
    "null_vector_6"
   ]
  },
  {
   "cell_type": "markdown",
   "id": "36562b7f",
   "metadata": {},
   "source": [
    "#### 7. Create a vector with values ranging from 10 to 49 (★☆☆)"
   ]
  },
  {
   "cell_type": "code",
   "execution_count": 11,
   "id": "10847d11",
   "metadata": {},
   "outputs": [
    {
     "data": {
      "text/plain": [
       "array([10, 11, 12, 13, 14, 15, 16, 17, 18, 19, 20, 21, 22, 23, 24, 25, 26,\n",
       "       27, 28, 29, 30, 31, 32, 33, 34, 35, 36, 37, 38, 39, 40, 41, 42, 43,\n",
       "       44, 45, 46, 47, 48, 49])"
      ]
     },
     "execution_count": 11,
     "metadata": {},
     "output_type": "execute_result"
    }
   ],
   "source": [
    "vec_10_49 = np.arange(10,50)\n",
    "vec_10_49"
   ]
  },
  {
   "cell_type": "markdown",
   "id": "d7d0e7ff",
   "metadata": {},
   "source": [
    "#### 8. Reverse a vector (first element becomes last) (★☆☆)"
   ]
  },
  {
   "cell_type": "code",
   "execution_count": 12,
   "id": "34722e83",
   "metadata": {},
   "outputs": [
    {
     "data": {
      "text/plain": [
       "array([49, 48, 47, 46, 45, 44, 43, 42, 41, 40, 39, 38, 37, 36, 35, 34, 33,\n",
       "       32, 31, 30, 29, 28, 27, 26, 25, 24, 23, 22, 21, 20, 19, 18, 17, 16,\n",
       "       15, 14, 13, 12, 11, 10])"
      ]
     },
     "execution_count": 12,
     "metadata": {},
     "output_type": "execute_result"
    }
   ],
   "source": [
    "vec_10_49_rev = vec_10_49[::-1]\n",
    "vec_10_49_rev"
   ]
  },
  {
   "cell_type": "markdown",
   "id": "1fb509ab",
   "metadata": {},
   "source": [
    "#### 9. Create a 3x3 matrix with values ranging from 0 to 8 (★☆☆)"
   ]
  },
  {
   "cell_type": "code",
   "execution_count": 13,
   "id": "e18eef56",
   "metadata": {},
   "outputs": [
    {
     "data": {
      "text/plain": [
       "array([[0., 1., 2.],\n",
       "       [3., 4., 5.],\n",
       "       [6., 7., 8.]])"
      ]
     },
     "execution_count": 13,
     "metadata": {},
     "output_type": "execute_result"
    }
   ],
   "source": [
    "mat_33_08 = np.zeros((3,3))\n",
    "\n",
    "for i in range(mat_33_08.shape[0]):\n",
    "    for j in range(mat_33_08.shape[1]):\n",
    "        mat_33_08[i,j] = (i * mat_33_08.shape[0])+j\n",
    "mat_33_08"
   ]
  },
  {
   "cell_type": "markdown",
   "id": "0d0120c4",
   "metadata": {},
   "source": [
    "#### 10. Find indices of non-zero elements from [1,2,0,0,4,0] (★☆☆)"
   ]
  },
  {
   "cell_type": "code",
   "execution_count": 14,
   "id": "9a402d06",
   "metadata": {},
   "outputs": [
    {
     "data": {
      "text/plain": [
       "(array([0, 1, 4]),)"
      ]
     },
     "execution_count": 14,
     "metadata": {},
     "output_type": "execute_result"
    }
   ],
   "source": [
    "non_zero_ids = np.nonzero(np.array([1,2,0,0,4,0]))\n",
    "non_zero_ids"
   ]
  },
  {
   "cell_type": "markdown",
   "id": "c001c117",
   "metadata": {},
   "source": [
    "#### 11. Create a 3x3 identity matrix (★☆☆)"
   ]
  },
  {
   "cell_type": "code",
   "execution_count": 15,
   "id": "e38459c2",
   "metadata": {},
   "outputs": [
    {
     "data": {
      "text/plain": [
       "array([[1., 0., 0.],\n",
       "       [0., 1., 0.],\n",
       "       [0., 0., 1.]])"
      ]
     },
     "execution_count": 15,
     "metadata": {},
     "output_type": "execute_result"
    }
   ],
   "source": [
    "np.identity(3)"
   ]
  },
  {
   "cell_type": "markdown",
   "id": "5f75e7a8",
   "metadata": {},
   "source": [
    "#### 12. Create a 3x3x3 array with random values (★☆☆)"
   ]
  },
  {
   "cell_type": "code",
   "execution_count": 16,
   "id": "94752bb3",
   "metadata": {},
   "outputs": [
    {
     "data": {
      "text/plain": [
       "array([[6.62923678e-01, 8.37106551e-02, 8.15463900e-01],\n",
       "       [2.46905702e-04, 3.77948321e-01, 8.25716867e-01],\n",
       "       [4.08740415e-01, 2.53640581e-01, 8.64423064e-01]])"
      ]
     },
     "execution_count": 16,
     "metadata": {},
     "output_type": "execute_result"
    }
   ],
   "source": [
    "np.random.random((3,3))"
   ]
  },
  {
   "cell_type": "markdown",
   "id": "7f012f49",
   "metadata": {},
   "source": [
    "#### 13. Create a 10x10 array with random values and find the minimum and maximum values (★☆☆)"
   ]
  },
  {
   "cell_type": "code",
   "execution_count": 17,
   "id": "c0643b1f",
   "metadata": {},
   "outputs": [
    {
     "data": {
      "text/plain": [
       "(np.float64(0.005350888444423663), np.float64(0.9986604969681359))"
      ]
     },
     "execution_count": 17,
     "metadata": {},
     "output_type": "execute_result"
    }
   ],
   "source": [
    "rand_1010 = np.random.random((10,10))\n",
    "min = rand_1010.min()\n",
    "max = rand_1010.max()\n",
    "min, max"
   ]
  },
  {
   "cell_type": "markdown",
   "id": "7d976fd0",
   "metadata": {},
   "source": [
    "#### 14. Create a random vector of size 30 and find the mean value (★☆☆)"
   ]
  },
  {
   "cell_type": "code",
   "execution_count": 18,
   "id": "e922a524",
   "metadata": {},
   "outputs": [
    {
     "data": {
      "text/plain": [
       "(array([0.56287229, 0.89803851, 0.20639218, 0.22437663, 0.88785664,\n",
       "        0.10433104, 0.81978642, 0.80185767, 0.608598  , 0.79740496,\n",
       "        0.00529453, 0.38537835, 0.76902416, 0.85243059, 0.82389173,\n",
       "        0.73022236, 0.79468224, 0.74396529, 0.93835992, 0.63394931,\n",
       "        0.5383801 , 0.39933016, 0.59322786, 0.68255897, 0.1585281 ,\n",
       "        0.45081613, 0.25289135, 0.86260432, 0.94992276, 0.48525228]),\n",
       " np.float64(0.5987408284067056))"
      ]
     },
     "execution_count": 18,
     "metadata": {},
     "output_type": "execute_result"
    }
   ],
   "source": [
    "rand_30 = np.random.random(30)\n",
    "mean = rand_30.mean()\n",
    "rand_30, mean"
   ]
  },
  {
   "cell_type": "markdown",
   "id": "c5266946",
   "metadata": {},
   "source": [
    "#### 15. Create a 2d array with 1 on the border and 0 inside (★☆☆)"
   ]
  },
  {
   "cell_type": "code",
   "execution_count": 19,
   "id": "6bc84dfe",
   "metadata": {},
   "outputs": [
    {
     "data": {
      "text/plain": [
       "array([[1., 1., 1., 1., 1.],\n",
       "       [1., 0., 0., 0., 1.],\n",
       "       [1., 0., 0., 0., 1.],\n",
       "       [1., 0., 0., 0., 1.],\n",
       "       [1., 1., 1., 1., 1.]])"
      ]
     },
     "execution_count": 19,
     "metadata": {},
     "output_type": "execute_result"
    }
   ],
   "source": [
    "zero_in = np.ones((5,5))\n",
    "zero_in[1:-1, 1:-1]=0\n",
    "zero_in"
   ]
  },
  {
   "cell_type": "markdown",
   "id": "2dd11b32",
   "metadata": {},
   "source": [
    "#### 16. How to add a border (filled with 0's) around an existing array? (★☆☆)"
   ]
  },
  {
   "cell_type": "code",
   "execution_count": 20,
   "id": "41e66e3e",
   "metadata": {},
   "outputs": [
    {
     "name": "stdout",
     "output_type": "stream",
     "text": [
      "[[1. 1. 1. 1. 1.]\n",
      " [1. 1. 1. 1. 1.]\n",
      " [1. 1. 1. 1. 1.]\n",
      " [1. 1. 1. 1. 1.]\n",
      " [1. 1. 1. 1. 1.]]\n"
     ]
    },
    {
     "data": {
      "text/plain": [
       "array([[0., 0., 0., 0., 0., 0., 0.],\n",
       "       [0., 1., 1., 1., 1., 1., 0.],\n",
       "       [0., 1., 1., 1., 1., 1., 0.],\n",
       "       [0., 1., 1., 1., 1., 1., 0.],\n",
       "       [0., 1., 1., 1., 1., 1., 0.],\n",
       "       [0., 1., 1., 1., 1., 1., 0.],\n",
       "       [0., 0., 0., 0., 0., 0., 0.]])"
      ]
     },
     "execution_count": 20,
     "metadata": {},
     "output_type": "execute_result"
    }
   ],
   "source": [
    "existing_arr = np.ones((5,5))\n",
    "print(existing_arr)\n",
    "border = np.zeros((existing_arr.shape[0] + 2, existing_arr.shape[1] + 2))\n",
    "border[1:-1, 1:-1] = existing_arr\n",
    "existing_arr = border\n",
    "existing_arr"
   ]
  },
  {
   "cell_type": "markdown",
   "id": "a7c39246",
   "metadata": {},
   "source": [
    "#### 17. What is the result of the following expression? (★☆☆)\n",
    "```python\n",
    "0 * np.nan\n",
    "np.nan == np.nan\n",
    "np.inf > np.nan\n",
    "np.nan - np.nan\n",
    "np.nan in set([np.nan])\n",
    "0.3 == 3 * 0.1\n",
    "```"
   ]
  },
  {
   "cell_type": "code",
   "execution_count": 21,
   "id": "d5f154f3",
   "metadata": {},
   "outputs": [
    {
     "data": {
      "text/plain": [
       "(nan, 0, 0, nan, 1, 0)"
      ]
     },
     "execution_count": 21,
     "metadata": {},
     "output_type": "execute_result"
    }
   ],
   "source": [
    "np.nan,0,0,np.nan,1,0"
   ]
  },
  {
   "cell_type": "markdown",
   "id": "757aff7a",
   "metadata": {},
   "source": [
    "#### 18. Create a 5x5 matrix with values 1,2,3,4 just below the diagonal (★☆☆)"
   ]
  },
  {
   "cell_type": "code",
   "execution_count": 22,
   "id": "2b9fb59c",
   "metadata": {},
   "outputs": [
    {
     "data": {
      "text/plain": [
       "array([[0., 0., 0., 0., 0.],\n",
       "       [1., 0., 0., 0., 0.],\n",
       "       [0., 2., 0., 0., 0.],\n",
       "       [0., 0., 3., 0., 0.],\n",
       "       [0., 0., 0., 4., 0.]])"
      ]
     },
     "execution_count": 22,
     "metadata": {},
     "output_type": "execute_result"
    }
   ],
   "source": [
    "below_diagonal = np.zeros((5,5))\n",
    "below_diagonal += np.diag(np.arange(1,5),k=-1)\n",
    "below_diagonal"
   ]
  },
  {
   "cell_type": "markdown",
   "id": "ae259b07",
   "metadata": {},
   "source": [
    "#### 19. Create a 8x8 matrix and fill it with a checkerboard pattern (★☆☆)"
   ]
  },
  {
   "cell_type": "code",
   "execution_count": 23,
   "id": "299f5e60",
   "metadata": {},
   "outputs": [
    {
     "data": {
      "text/plain": [
       "array([[1., 0., 1., 0., 1., 0., 1., 0.],\n",
       "       [0., 1., 0., 1., 0., 1., 0., 1.],\n",
       "       [1., 0., 1., 0., 1., 0., 1., 0.],\n",
       "       [0., 1., 0., 1., 0., 1., 0., 1.],\n",
       "       [1., 0., 1., 0., 1., 0., 1., 0.],\n",
       "       [0., 1., 0., 1., 0., 1., 0., 1.],\n",
       "       [1., 0., 1., 0., 1., 0., 1., 0.],\n",
       "       [0., 1., 0., 1., 0., 1., 0., 1.]])"
      ]
     },
     "execution_count": 23,
     "metadata": {},
     "output_type": "execute_result"
    }
   ],
   "source": [
    "checkerboard = np.zeros((8,8))\n",
    "checkerboard[::2,::2] = 1\n",
    "checkerboard[1::2,1::2] = 1\n",
    "checkerboard"
   ]
  },
  {
   "cell_type": "markdown",
   "id": "9f5d548e",
   "metadata": {},
   "source": [
    "#### 20. Consider a (6,7,8) shape array, what is the index (x,y,z) of the 100th element? (★☆☆)"
   ]
  },
  {
   "cell_type": "code",
   "execution_count": 24,
   "id": "22888cc4",
   "metadata": {},
   "outputs": [
    {
     "data": {
      "text/plain": [
       "(np.int64(1), np.int64(5), np.int64(3))"
      ]
     },
     "execution_count": 24,
     "metadata": {},
     "output_type": "execute_result"
    }
   ],
   "source": [
    "shape_678 = np.zeros((6,7,8))\n",
    "np.unravel_index(99, shape_678.shape)"
   ]
  },
  {
   "cell_type": "markdown",
   "id": "e1fe826b",
   "metadata": {},
   "source": [
    "#### 21. Create a checkerboard 8x8 matrix using the tile function (★☆☆)"
   ]
  },
  {
   "cell_type": "code",
   "execution_count": 25,
   "id": "9cb81fe1",
   "metadata": {},
   "outputs": [
    {
     "data": {
      "text/plain": [
       "array([[0, 1, 0, 1, 0, 1, 0, 1],\n",
       "       [1, 0, 1, 0, 1, 0, 1, 0],\n",
       "       [0, 1, 0, 1, 0, 1, 0, 1],\n",
       "       [1, 0, 1, 0, 1, 0, 1, 0],\n",
       "       [0, 1, 0, 1, 0, 1, 0, 1],\n",
       "       [1, 0, 1, 0, 1, 0, 1, 0],\n",
       "       [0, 1, 0, 1, 0, 1, 0, 1],\n",
       "       [1, 0, 1, 0, 1, 0, 1, 0]])"
      ]
     },
     "execution_count": 25,
     "metadata": {},
     "output_type": "execute_result"
    }
   ],
   "source": [
    "np.tile(np.array([[0,1],[1,0]]), (4,4))"
   ]
  },
  {
   "cell_type": "markdown",
   "id": "3cc99a9e",
   "metadata": {},
   "source": [
    "#### 22. Normalize a 5x5 random matrix (★☆☆)"
   ]
  },
  {
   "cell_type": "code",
   "execution_count": 26,
   "id": "fcdc0459",
   "metadata": {},
   "outputs": [
    {
     "data": {
      "text/plain": [
       "(np.float64(-1.2434497875801754e-16), np.float64(0.9999999999999999))"
      ]
     },
     "execution_count": 26,
     "metadata": {},
     "output_type": "execute_result"
    }
   ],
   "source": [
    "rnd_mat_5 = np.random.random((5,5))\n",
    "rnd_mat_5 = (rnd_mat_5 - rnd_mat_5.mean()) / rnd_mat_5.std()\n",
    "rnd_mat_5.mean(), rnd_mat_5.std()"
   ]
  },
  {
   "cell_type": "markdown",
   "id": "3cefb279",
   "metadata": {},
   "source": [
    "#### 23. Create a custom dtype that describes a color as four unsigned bytes (RGBA) (★☆☆)"
   ]
  },
  {
   "cell_type": "code",
   "execution_count": 27,
   "id": "7445cb2d",
   "metadata": {},
   "outputs": [
    {
     "data": {
      "text/plain": [
       "dtype([('R', 'u1'), ('G', 'u1'), ('B', 'u1'), ('A', 'u1')])"
      ]
     },
     "execution_count": 27,
     "metadata": {},
     "output_type": "execute_result"
    }
   ],
   "source": [
    "rgba_type = np.dtype([\n",
    "    ('R',np.ubyte),\n",
    "    ('G',np.ubyte),\n",
    "    ('B',np.ubyte),\n",
    "    ('A',np.ubyte)\n",
    "])\n",
    "rgba_type"
   ]
  },
  {
   "cell_type": "markdown",
   "id": "04177bf2",
   "metadata": {},
   "source": [
    "#### 24. Multiply a 5x3 matrix by a 3x2 matrix (real matrix product) (★☆☆)"
   ]
  },
  {
   "cell_type": "code",
   "execution_count": 28,
   "id": "ec8bd6da",
   "metadata": {},
   "outputs": [
    {
     "data": {
      "text/plain": [
       "array([[ 70, 103],\n",
       "       [ 78, 117],\n",
       "       [ 45, 110],\n",
       "       [ 75,  98],\n",
       "       [ 76, 109]])"
      ]
     },
     "execution_count": 28,
     "metadata": {},
     "output_type": "execute_result"
    }
   ],
   "source": [
    "np.random.randint(1,10,(5,3)) @ np.random.randint(1,10,(3,2))"
   ]
  },
  {
   "cell_type": "markdown",
   "id": "14a38540",
   "metadata": {},
   "source": [
    "#### 25. Given a 1D array, negate all elements which are between 3 and 8, in place. (★☆☆)"
   ]
  },
  {
   "cell_type": "code",
   "execution_count": 29,
   "id": "5b63b63b",
   "metadata": {},
   "outputs": [
    {
     "data": {
      "text/plain": [
       "array([ 0,  1,  2, -3, -4, -5, -6, -7, -8,  9])"
      ]
     },
     "execution_count": 29,
     "metadata": {},
     "output_type": "execute_result"
    }
   ],
   "source": [
    "d1 = np.arange(10)\n",
    "d1[3:9] = ~d1[3:9] + 1\n",
    "d1"
   ]
  },
  {
   "cell_type": "markdown",
   "id": "bb586fda",
   "metadata": {},
   "source": [
    "#### 26. What is the output of the following script? (★☆☆)\n",
    "```python\n",
    "# Author: Jake VanderPlas\n",
    "\n",
    "print(sum(range(5),-1))\n",
    "from numpy import *\n",
    "print(sum(range(5),-1))\n",
    "```"
   ]
  },
  {
   "cell_type": "code",
   "execution_count": 30,
   "id": "68ecfb8d",
   "metadata": {},
   "outputs": [
    {
     "data": {
      "text/plain": [
       "10"
      ]
     },
     "execution_count": 30,
     "metadata": {},
     "output_type": "execute_result"
    }
   ],
   "source": [
    "9\n",
    "10"
   ]
  },
  {
   "cell_type": "markdown",
   "id": "198cdc05",
   "metadata": {},
   "source": [
    "#### 27. Consider an integer vector Z, which of these expressions are legal? (★☆☆)\n",
    "```python\n",
    "Z**Z\n",
    "2 << Z >> 2\n",
    "Z <- Z\n",
    "1j*Z\n",
    "Z/1/1\n",
    "Z<Z>Z\n",
    "```"
   ]
  },
  {
   "cell_type": "code",
   "execution_count": 31,
   "id": "451181cf",
   "metadata": {},
   "outputs": [
    {
     "data": {
      "text/plain": [
       "(1, 1, 1, 1, 1, 0)"
      ]
     },
     "execution_count": 31,
     "metadata": {},
     "output_type": "execute_result"
    }
   ],
   "source": [
    "1,1,1,1,1,0"
   ]
  },
  {
   "cell_type": "markdown",
   "id": "d83bb54b",
   "metadata": {},
   "source": [
    "#### 28. What are the result of the following expressions? (★☆☆)\n",
    "```python\n",
    "np.array(0) / np.array(0)\n",
    "np.array(0) // np.array(0)\n",
    "np.array([np.nan]).astype(int).astype(float)\n",
    "```"
   ]
  },
  {
   "cell_type": "code",
   "execution_count": 32,
   "id": "52983a0b",
   "metadata": {},
   "outputs": [
    {
     "data": {
      "text/plain": [
       "(nan, 0, 0.0)"
      ]
     },
     "execution_count": 32,
     "metadata": {},
     "output_type": "execute_result"
    }
   ],
   "source": [
    "np.nan, 0, 0."
   ]
  },
  {
   "cell_type": "markdown",
   "id": "415d2d18",
   "metadata": {},
   "source": [
    "#### 29. How to round away from zero a float array ? (★☆☆)"
   ]
  },
  {
   "cell_type": "code",
   "execution_count": 33,
   "id": "4cce0af8",
   "metadata": {},
   "outputs": [
    {
     "name": "stdout",
     "output_type": "stream",
     "text": [
      "[-4.86194947  2.23791938 -3.57976895  3.86761392 -4.00587257 -4.17561057\n",
      " -2.21932671 -0.20365887  1.61130661 -3.44547466]\n"
     ]
    },
    {
     "data": {
      "text/plain": [
       "array([-4.,  3., -3.,  4., -4., -4., -2., -0.,  2., -3.])"
      ]
     },
     "execution_count": 33,
     "metadata": {},
     "output_type": "execute_result"
    }
   ],
   "source": [
    "rand_arr = (np.random.random(10) - 0.5) * 10\n",
    "print(rand_arr)\n",
    "neg_id = np.where(rand_arr < 0)\n",
    "pos_id = np.where(rand_arr > 0)\n",
    "rand_arr[pos_id] = np.ceil(rand_arr[pos_id])\n",
    "rand_arr[neg_id] = np.ceil(rand_arr[neg_id])\n",
    "rand_arr"
   ]
  },
  {
   "cell_type": "markdown",
   "id": "40ddc32c",
   "metadata": {},
   "source": [
    "#### 30. How to find common values between two arrays? (★☆☆)"
   ]
  },
  {
   "cell_type": "code",
   "execution_count": 34,
   "id": "27eff6b1",
   "metadata": {},
   "outputs": [
    {
     "name": "stdout",
     "output_type": "stream",
     "text": [
      "[9 8 6 1 4] [4 3 6 6 3]\n"
     ]
    },
    {
     "data": {
      "text/plain": [
       "array([4, 6])"
      ]
     },
     "execution_count": 34,
     "metadata": {},
     "output_type": "execute_result"
    }
   ],
   "source": [
    "first = np.random.randint(0,10,5)\n",
    "second = np.random.randint(0,10,5)\n",
    "print(first, second)\n",
    "np.intersect1d(first,second)"
   ]
  },
  {
   "cell_type": "markdown",
   "id": "96a2b00a",
   "metadata": {},
   "source": [
    "#### 31. How to ignore all numpy warnings (not recommended)? (★☆☆)"
   ]
  },
  {
   "cell_type": "code",
   "execution_count": 35,
   "id": "1bdde6e1",
   "metadata": {},
   "outputs": [],
   "source": [
    "defaults = np.seterr(all=\"ignore\")\n",
    "Z = np.ones(1) / 0\n",
    "_ = np.seterr(**defaults)"
   ]
  },
  {
   "cell_type": "markdown",
   "id": "5164e541",
   "metadata": {},
   "source": [
    "#### 32. Is the following expressions true? (★☆☆)\n",
    "```python\n",
    "np.sqrt(-1) == np.emath.sqrt(-1)\n",
    "```"
   ]
  },
  {
   "cell_type": "code",
   "execution_count": 36,
   "id": "d8673bdf",
   "metadata": {},
   "outputs": [
    {
     "data": {
      "text/plain": [
       "0"
      ]
     },
     "execution_count": 36,
     "metadata": {},
     "output_type": "execute_result"
    }
   ],
   "source": [
    "0"
   ]
  },
  {
   "cell_type": "markdown",
   "id": "6ff7fdf8",
   "metadata": {},
   "source": [
    "#### 33. How to get the dates of yesterday, today and tomorrow? (★☆☆)"
   ]
  },
  {
   "cell_type": "code",
   "execution_count": 37,
   "id": "f33f9cc2",
   "metadata": {},
   "outputs": [
    {
     "data": {
      "text/plain": [
       "(np.datetime64('2025-04-23'),\n",
       " np.datetime64('2025-04-22'),\n",
       " np.datetime64('2025-04-24'))"
      ]
     },
     "execution_count": 37,
     "metadata": {},
     "output_type": "execute_result"
    }
   ],
   "source": [
    "today = np.datetime64('today', 'D')\n",
    "\n",
    "yesterday = today - np.timedelta64(1, 'D')\n",
    "\n",
    "tomorrow = today + np.timedelta64(1, 'D')\n",
    "today, yesterday, tomorrow"
   ]
  },
  {
   "cell_type": "markdown",
   "id": "97dde2a7",
   "metadata": {},
   "source": [
    "#### 34. How to get all the dates corresponding to the month of July 2016? (★★☆)"
   ]
  },
  {
   "cell_type": "code",
   "execution_count": 38,
   "id": "3927a8e8",
   "metadata": {},
   "outputs": [
    {
     "data": {
      "text/plain": [
       "array(['2016-06-01', '2016-06-02', '2016-06-03', '2016-06-04',\n",
       "       '2016-06-05', '2016-06-06', '2016-06-07', '2016-06-08',\n",
       "       '2016-06-09', '2016-06-10', '2016-06-11', '2016-06-12',\n",
       "       '2016-06-13', '2016-06-14', '2016-06-15', '2016-06-16',\n",
       "       '2016-06-17', '2016-06-18', '2016-06-19', '2016-06-20',\n",
       "       '2016-06-21', '2016-06-22', '2016-06-23', '2016-06-24',\n",
       "       '2016-06-25', '2016-06-26', '2016-06-27', '2016-06-28',\n",
       "       '2016-06-29', '2016-06-30'], dtype='datetime64[D]')"
      ]
     },
     "execution_count": 38,
     "metadata": {},
     "output_type": "execute_result"
    }
   ],
   "source": [
    "np.arange('2016-06', '2016-07', dtype='datetime64[D]')"
   ]
  },
  {
   "cell_type": "markdown",
   "id": "78f4ad65",
   "metadata": {},
   "source": [
    "#### 35. How to compute ((A+B)*(-A/2)) in place (without copy)? (★★☆)"
   ]
  },
  {
   "cell_type": "code",
   "execution_count": 39,
   "id": "3c2f59ac",
   "metadata": {},
   "outputs": [
    {
     "data": {
      "text/plain": [
       "array([-10, -52, -12, -45, -24])"
      ]
     },
     "execution_count": 39,
     "metadata": {},
     "output_type": "execute_result"
    }
   ],
   "source": [
    "A = np.random.randint(0,10,5)\n",
    "B = np.random.randint(0,10,5)\n",
    "np.add(A,B,out=B)\n",
    "np.negative(A,out=A)\n",
    "np.divide(A,2,out=A, casting='unsafe')\n",
    "np.multiply(A,B, out=A)\n",
    "A"
   ]
  },
  {
   "cell_type": "markdown",
   "id": "1a194d91",
   "metadata": {},
   "source": [
    "#### 36. Extract the integer part of a random array of positive numbers using 4 different methods (★★☆)"
   ]
  },
  {
   "cell_type": "code",
   "execution_count": null,
   "id": "46a4ab0a",
   "metadata": {},
   "outputs": [],
   "source": []
  },
  {
   "cell_type": "markdown",
   "id": "23a9130d",
   "metadata": {},
   "source": [
    "#### 37. Create a 5x5 matrix with row values ranging from 0 to 4 (★★☆)"
   ]
  },
  {
   "cell_type": "code",
   "execution_count": 40,
   "id": "63c75db0",
   "metadata": {},
   "outputs": [
    {
     "data": {
      "text/plain": [
       "array([[0, 1, 2, 3, 4],\n",
       "       [0, 1, 2, 3, 4],\n",
       "       [0, 1, 2, 3, 4],\n",
       "       [0, 1, 2, 3, 4],\n",
       "       [0, 1, 2, 3, 4]])"
      ]
     },
     "execution_count": 40,
     "metadata": {},
     "output_type": "execute_result"
    }
   ],
   "source": [
    "np.tile(np.arange(5), (5,1))"
   ]
  },
  {
   "cell_type": "markdown",
   "id": "e225eafa",
   "metadata": {},
   "source": [
    "#### 38. Consider a generator function that generates 10 integers and use it to build an array (★☆☆)"
   ]
  },
  {
   "cell_type": "code",
   "execution_count": null,
   "id": "7c2acc82",
   "metadata": {},
   "outputs": [],
   "source": []
  },
  {
   "cell_type": "markdown",
   "id": "2f61a8f5",
   "metadata": {},
   "source": [
    "#### 39. Create a vector of size 10 with values ranging from 0 to 1, both excluded (★★☆)"
   ]
  },
  {
   "cell_type": "code",
   "execution_count": 41,
   "id": "a27cd904",
   "metadata": {},
   "outputs": [
    {
     "data": {
      "text/plain": [
       "array([0.09090909, 0.18181818, 0.27272727, 0.36363636, 0.45454545,\n",
       "       0.54545455, 0.63636364, 0.72727273, 0.81818182, 0.90909091])"
      ]
     },
     "execution_count": 41,
     "metadata": {},
     "output_type": "execute_result"
    }
   ],
   "source": [
    "np.linspace(0,1,11, endpoint=False)[1:]"
   ]
  },
  {
   "cell_type": "markdown",
   "id": "d5ae0694",
   "metadata": {},
   "source": [
    "#### 40. Create a random vector of size 10 and sort it (★★☆)"
   ]
  },
  {
   "cell_type": "code",
   "execution_count": 42,
   "id": "6ae5eb58",
   "metadata": {},
   "outputs": [
    {
     "data": {
      "text/plain": [
       "array([0.01431965, 0.08816855, 0.47341021, 0.58227219, 0.68213685,\n",
       "       0.69232734, 0.76943803, 0.78302173, 0.88841729, 0.92694391])"
      ]
     },
     "execution_count": 42,
     "metadata": {},
     "output_type": "execute_result"
    }
   ],
   "source": [
    "np.sort(np.random.rand(10))"
   ]
  },
  {
   "cell_type": "markdown",
   "id": "1a355962",
   "metadata": {},
   "source": [
    "#### 41. How to sum a small array faster than np.sum? (★★☆)"
   ]
  },
  {
   "cell_type": "code",
   "execution_count": null,
   "id": "70917f47",
   "metadata": {},
   "outputs": [],
   "source": []
  },
  {
   "cell_type": "markdown",
   "id": "42e65d4e",
   "metadata": {},
   "source": [
    "#### 42. Consider two random arrays A and B, check if they are equal (★★☆)"
   ]
  },
  {
   "cell_type": "code",
   "execution_count": 43,
   "id": "ca6dd579",
   "metadata": {},
   "outputs": [
    {
     "name": "stdout",
     "output_type": "stream",
     "text": [
      "[0] [1]\n"
     ]
    },
    {
     "data": {
      "text/plain": [
       "np.False_"
      ]
     },
     "execution_count": 43,
     "metadata": {},
     "output_type": "execute_result"
    }
   ],
   "source": [
    "A = np.random.randint(0,2,1)\n",
    "B = np.random.randint(0,2,1)\n",
    "print(A,B)\n",
    "np.all(A==B)"
   ]
  },
  {
   "cell_type": "markdown",
   "id": "37c295dd",
   "metadata": {},
   "source": [
    "#### 43. Make an array immutable (read-only) (★★☆)"
   ]
  },
  {
   "cell_type": "code",
   "execution_count": 44,
   "id": "cbbb8917",
   "metadata": {},
   "outputs": [],
   "source": [
    "arr = np.zeros(3)\n",
    "arr.flags.writeable = False\n",
    "#arr[0] = 1 - error"
   ]
  },
  {
   "cell_type": "markdown",
   "id": "e92096de",
   "metadata": {},
   "source": [
    "#### 44. Consider a random 10x2 matrix representing cartesian coordinates, convert them to polar coordinates (★★☆)"
   ]
  },
  {
   "cell_type": "code",
   "execution_count": 45,
   "id": "a89969af",
   "metadata": {},
   "outputs": [
    {
     "name": "stdout",
     "output_type": "stream",
     "text": [
      "[[3 1]\n",
      " [1 3]\n",
      " [4 3]\n",
      " [1 1]\n",
      " [4 1]\n",
      " [3 1]\n",
      " [4 2]\n",
      " [3 3]\n",
      " [3 1]\n",
      " [1 4]]\n"
     ]
    },
    {
     "data": {
      "text/plain": [
       "array([[3, 0],\n",
       "       [3, 1],\n",
       "       [5, 0],\n",
       "       [1, 0],\n",
       "       [4, 0],\n",
       "       [3, 0],\n",
       "       [4, 0],\n",
       "       [4, 0],\n",
       "       [3, 0],\n",
       "       [4, 1]])"
      ]
     },
     "execution_count": 45,
     "metadata": {},
     "output_type": "execute_result"
    }
   ],
   "source": [
    "A = np.random.randint(1,5,(10,2))\n",
    "print(A)\n",
    "\n",
    "r = np.sqrt((A[:,0]**2 + A[:,1]**2))\n",
    "t = np.arctan2(A[:,1], A[:,0])\n",
    "\n",
    "A[:,0] = r\n",
    "A[:,1] = t\n",
    "\n",
    "A"
   ]
  },
  {
   "cell_type": "markdown",
   "id": "a71d88ea",
   "metadata": {},
   "source": [
    "#### 45. Create random vector of size 10 and replace the maximum value by 0 (★★☆)"
   ]
  },
  {
   "cell_type": "code",
   "execution_count": 46,
   "id": "8403a440",
   "metadata": {},
   "outputs": [
    {
     "name": "stdout",
     "output_type": "stream",
     "text": [
      "[0.24439237 0.89474089 0.82606335 0.86562044 0.53186766 0.2126383\n",
      " 0.82859767 0.53714895 0.37079173 0.26874658]\n"
     ]
    },
    {
     "data": {
      "text/plain": [
       "array([0.24439237, 0.        , 0.82606335, 0.86562044, 0.53186766,\n",
       "       0.2126383 , 0.82859767, 0.53714895, 0.37079173, 0.26874658])"
      ]
     },
     "execution_count": 46,
     "metadata": {},
     "output_type": "execute_result"
    }
   ],
   "source": [
    "rand = np.random.rand(10)\n",
    "print(rand)\n",
    "rand[rand.argmax()] = 0\n",
    "rand"
   ]
  },
  {
   "cell_type": "markdown",
   "id": "261c253c",
   "metadata": {},
   "source": [
    "#### 46. Create a structured array with `x` and `y` coordinates covering the [0,1]x[0,1] area (★★☆)"
   ]
  },
  {
   "cell_type": "code",
   "execution_count": 47,
   "id": "42c72e94",
   "metadata": {},
   "outputs": [
    {
     "name": "stdout",
     "output_type": "stream",
     "text": [
      "[[(0.  , 0.  ) (0.25, 0.  ) (0.5 , 0.  ) (0.75, 0.  ) (1.  , 0.  )]\n",
      " [(0.  , 0.25) (0.25, 0.25) (0.5 , 0.25) (0.75, 0.25) (1.  , 0.25)]\n",
      " [(0.  , 0.5 ) (0.25, 0.5 ) (0.5 , 0.5 ) (0.75, 0.5 ) (1.  , 0.5 )]\n",
      " [(0.  , 0.75) (0.25, 0.75) (0.5 , 0.75) (0.75, 0.75) (1.  , 0.75)]\n",
      " [(0.  , 1.  ) (0.25, 1.  ) (0.5 , 1.  ) (0.75, 1.  ) (1.  , 1.  )]]\n"
     ]
    }
   ],
   "source": [
    "Z = np.zeros((5,5), [('x',float),('y',float)])\n",
    "Z['x'], Z['y'] = np.meshgrid(np.linspace(0,1,5),\n",
    "                             np.linspace(0,1,5))\n",
    "print(Z)"
   ]
  },
  {
   "cell_type": "markdown",
   "id": "265deebd",
   "metadata": {},
   "source": [
    "#### 47. Given two arrays, X and Y, construct the Cauchy matrix C (Cij =1/(xi - yj)) (★★☆)"
   ]
  },
  {
   "cell_type": "code",
   "execution_count": null,
   "id": "9fad2a0d",
   "metadata": {},
   "outputs": [],
   "source": []
  },
  {
   "cell_type": "markdown",
   "id": "f9007f53",
   "metadata": {},
   "source": [
    "#### 48. Print the minimum and maximum representable values for each numpy scalar type (★★☆)"
   ]
  },
  {
   "cell_type": "code",
   "execution_count": 48,
   "id": "8585b92b",
   "metadata": {},
   "outputs": [
    {
     "name": "stdout",
     "output_type": "stream",
     "text": [
      "-128\n",
      "127\n",
      "-2147483648\n",
      "2147483647\n",
      "-9223372036854775808\n",
      "9223372036854775807\n",
      "-3.4028235e+38\n",
      "3.4028235e+38\n",
      "1.1920929e-07\n",
      "-1.7976931348623157e+308\n",
      "1.7976931348623157e+308\n",
      "2.220446049250313e-16\n"
     ]
    }
   ],
   "source": [
    "for dtype in [np.int8, np.int32, np.int64]:\n",
    "   print(np.iinfo(dtype).min)\n",
    "   print(np.iinfo(dtype).max)\n",
    "for dtype in [np.float32, np.float64]:\n",
    "   print(np.finfo(dtype).min)\n",
    "   print(np.finfo(dtype).max)\n",
    "   print(np.finfo(dtype).eps)"
   ]
  },
  {
   "cell_type": "markdown",
   "id": "5130ea82",
   "metadata": {},
   "source": [
    "#### 49. How to print all the values of an array? (★★☆)"
   ]
  },
  {
   "cell_type": "code",
   "execution_count": 49,
   "id": "5764ec92",
   "metadata": {},
   "outputs": [],
   "source": [
    "np.set_printoptions(threshold=float(\"inf\"))"
   ]
  },
  {
   "cell_type": "markdown",
   "id": "56edae30",
   "metadata": {},
   "source": [
    "#### 50. How to find the closest value (to a given scalar) in a vector? (★★☆)"
   ]
  },
  {
   "cell_type": "code",
   "execution_count": 50,
   "id": "742518ef",
   "metadata": {},
   "outputs": [
    {
     "name": "stdout",
     "output_type": "stream",
     "text": [
      "[6 5 8 6 3 8 4 7 4 3]\n"
     ]
    },
    {
     "data": {
      "text/plain": [
       "np.int64(5)"
      ]
     },
     "execution_count": 50,
     "metadata": {},
     "output_type": "execute_result"
    }
   ],
   "source": [
    "vector = np.random.randint(0,10,10)\n",
    "scalar = 5\n",
    "print(vector)\n",
    "vector[np.argmin(np.abs(vector - scalar))]"
   ]
  },
  {
   "cell_type": "markdown",
   "id": "a8f3578d",
   "metadata": {},
   "source": [
    "#### 51. Create a structured array representing a position (x,y) and a color (r,g,b) (★★☆)"
   ]
  },
  {
   "cell_type": "code",
   "execution_count": 51,
   "id": "4e9c2e30",
   "metadata": {},
   "outputs": [
    {
     "data": {
      "text/plain": [
       "array([[((0., 0.), (0., 0., 0.))],\n",
       "       [((0., 0.), (0., 0., 0.))],\n",
       "       [((0., 0.), (0., 0., 0.))]],\n",
       "      dtype=[('position', [('x', '<f8'), ('y', '<f8')]), ('color', [('r', '<f8'), ('g', '<f8'), ('b', '<f8')])])"
      ]
     },
     "execution_count": 51,
     "metadata": {},
     "output_type": "execute_result"
    }
   ],
   "source": [
    "np.zeros((3,1), dtype=[('position', [('x', float),('y', float)]),('color', [('r', float),('g', float),('b', float)])])"
   ]
  },
  {
   "cell_type": "markdown",
   "id": "cd41c4dc",
   "metadata": {},
   "source": [
    "#### 52. Consider a random vector with shape (100,2) representing coordinates, find point by point distances (★★☆)"
   ]
  },
  {
   "cell_type": "code",
   "execution_count": 52,
   "id": "53f15c5d",
   "metadata": {},
   "outputs": [
    {
     "data": {
      "text/plain": [
       "array([[  0.        ,  48.33218389, 114.69088891,  16.2788206 ,\n",
       "        101.23734489,  72.9177619 ,  90.02221948,  24.08318916,\n",
       "         79.92496481,  58.24946352,  17.08800749,   7.28010989,\n",
       "         98.41239759,  49.81967483,  75.18643495,  43.829214  ,\n",
       "         90.66973034,  45.27692569,  77.38862966,  86.64871609,\n",
       "        115.12167476,  81.68843247,  19.10497317,  52.61178575,\n",
       "         25.8069758 ,  99.12618221,  85.90692638,  72.09022125,\n",
       "         38.32753579,  46.09772229, 116.82465493,  89.55445271,\n",
       "        107.80074211,  28.23118843,  87.09190548,  82.09750301,\n",
       "         66.48308055,  97.86214794,  28.01785145, 102.78618584,\n",
       "         55.02726597,  91.54780172,  86.21484791,  31.57530681,\n",
       "         77.1621669 ,  74.81310046,  66.21933252, 124.48293056,\n",
       "        121.91800523,  30.8058436 ,  89.56003573,  10.44030651,\n",
       "         80.80222769,  28.0713377 ,  65.80273551,  51.10772936,\n",
       "        100.12492197, 111.77208954, 108.97706181,  64.19501538,\n",
       "         62.80127387,  86.76981042,  57.14017851,  74.09453421,\n",
       "         31.01612484,  97.49871794,  86.37129153,  56.92099788,\n",
       "         87.98295289,  81.05553652,  40.04996879,  44.38468204,\n",
       "          8.54400375,  72.71863585,  71.16881339,  92.26592004,\n",
       "        107.80074211,  44.40720662,  52.17278984,  44.72135955,\n",
       "         90.35485598,   8.54400375,  51.2445119 ,  84.43340571,\n",
       "         76.65507159,  59.03388857,  13.45362405, 102.34256202,\n",
       "         88.75246475,  13.60147051,  17.88854382,  73.1641989 ,\n",
       "         99.60923652,  89.88882022,  60.03332408,  94.86832981,\n",
       "         94.33981132,  69.72087205,  60.5309838 ,  95.8853482 ],\n",
       "       [ 48.33218389,   0.        ,  72.89718787,  56.71860365,\n",
       "         73.10950691,  47.80167361,  83.76156637,  28.0713377 ,\n",
       "         32.55764119,  48.91829923,  31.30495168,  41.14608122,\n",
       "         94.3027041 ,  12.08304597,  29.06888371,  30.61045573,\n",
       "         77.38862966,  46.32493929,  30.41381265,  64.03124237,\n",
       "         79.07591289,  43.73785546,  42.01190308,  14.4222051 ,\n",
       "         29.01723626,  51.4003891 ,  37.57658846,  48.38388161,\n",
       "         38.01315562,  33.30165161,  77.25283166,  58.        ,\n",
       "         61.55485359,  33.54101966,  78.0320447 ,  78.40918314,\n",
       "         46.5188134 ,  80.00624976,  24.8394847 ,  77.64663547,\n",
       "          8.24621125,  89.20201791,  40.80441153,  39.56008089,\n",
       "         69.0651866 ,  63.28506933,  20.22374842,  81.63332653,\n",
       "         80.49844719,  51.97114584,  87.6184912 ,  38.01315562,\n",
       "         45.17742799,  46.69047012,  49.73932046,  30.        ,\n",
       "         60.40695324,  75.18643495,  64.89992296,  58.79625838,\n",
       "         30.59411708,  38.58756276,  30.87069808,  43.28972164,\n",
       "         44.38468204,  71.56814934,  46.17358552,  42.80186912,\n",
       "         55.03635162,  40.71854614,  46.5188134 ,  40.22437072,\n",
       "         39.81205847,  25.45584412,  24.0208243 ,  88.23264702,\n",
       "         69.26037828,  44.94441011,  11.40175425,   4.        ,\n",
       "         78.71467462,  39.81205847,  41.01219331,  62.36184731,\n",
       "         33.52610923,  17.11724277,  35.73513677,  66.28725368,\n",
       "         54.23098745,  37.10795063,  30.46309242,  28.86173938,\n",
       "         96.26006441,  41.76122604,  12.80624847,  58.85575588,\n",
       "         90.44335244,  59.6405902 ,  65.60487787,  94.20191081],\n",
       "       [114.69088891,  72.89718787,   0.        , 115.74541028,\n",
       "         37.85498646,  49.76946855,  79.15806971,  90.60905032,\n",
       "         43.93176527,  70.77428912,  99.80981916, 108.5771615 ,\n",
       "         86.97700846,  80.99382693,  67.11929678,  73.24616031,\n",
       "         66.18912297,  82.36504113,  44.64302857,  49.09175083,\n",
       "         19.20937271,  33.30165161,  99.90495483,  80.95677859,\n",
       "         89.10667764,  34.92849839,  49.01020302,  51.623638  ,\n",
       "         82.41965785,  72.20110802,   8.60232527,  33.73425559,\n",
       "         21.9317122 ,  88.52683209,  73.02739212,  81.05553652,\n",
       "         57.7754273 ,  59.03388857,  97.24710793,  44.64302857,\n",
       "         71.51223672,  87.20665112,  33.24154028,  89.20201791,\n",
       "         72.44308111,  66.91038783,  69.23149572,  10.29563014,\n",
       "          7.61577311, 100.40418318,  87.09190548, 105.89145386,\n",
       "         35.22782991,  97.41663102,  62.03224968,  65.4369926 ,\n",
       "         15.26433752,  17.        ,  11.40175425,  75.        ,\n",
       "         52.40229003,  45.        ,  59.03388857,  43.9089968 ,\n",
       "         93.23089617,  42.42640687,  28.31960452,  66.64833081,\n",
       "         32.57299495,  82.09750301,  87.46427842,  78.23042886,\n",
       "        107.16809227,  49.33558553,  64.62971453,  84.29116205,\n",
       "         12.04159458,  81.98780397,  78.4346862 ,  74.79304781,\n",
       "         69.18092223, 107.16809227,  71.69379332,  50.24937811,\n",
       "         75.00666637,  57.14017851, 101.31633629,  20.        ,\n",
       "         30.08321791, 101.17806086,  98.23441352,  72.1734023 ,\n",
       "         89.10667764,  53.46026562,  60.41522987,  24.04163056,\n",
       "         85.47514259,  68.8839604 ,  88.60022573,  90.55385138],\n",
       "       [ 16.2788206 ,  56.71860365, 115.74541028,   0.        ,\n",
       "         97.09788875,  69.8140387 ,  79.63039621,  28.86173938,\n",
       "         85.79627032,  51.88448708,  28.44292531,  21.02379604,\n",
       "         87.05170877,  61.03277808,  85.28774824,  42.52058325,\n",
       "         82.28000972,  38.01315562,  83.00602388,  81.49233093,\n",
       "        113.45483683,  82.46211251,  16.1245155 ,  64.07027392,\n",
       "         28.7923601 , 104.92378186,  93.40770846,  68.60029154,\n",
       "         34.05877273,  43.84062043, 116.69190203,  87.32124598,\n",
       "        111.89280585,  27.45906044,  77.66595136,  71.44928271,\n",
       "         62.42595614,  90.47651629,  41.23105626,  97.52948272,\n",
       "         64.38167441,  80.02499609,  90.35485598,  26.90724809,\n",
       "         68.15423685,  67.06713055,  76.23647421, 125.87692402,\n",
       "        122.57650672,  19.6468827 ,  78.02563681,  23.40939982,\n",
       "         80.72174428,  19.72308292,  60.53924347,  50.32891813,\n",
       "        100.65783626, 110.45361017, 111.50336318,  55.6596802 ,\n",
       "         63.41135545,  93.60555539,  56.72741841,  72.83543094,\n",
       "         23.85372088,  92.78469701,  87.80091116,  52.43090692,\n",
       "         86.37129153,  93.34345183,  32.20248438,  39.40812099,\n",
       "         21.54065923,  78.77182237,  80.62257748,  81.15417426,\n",
       "        107.48953437,  37.58989226,  63.        ,  52.77309921,\n",
       "         81.49233093,  21.54065923,  46.61544808,  79.25906888,\n",
       "         88.00568163,  63.56099433,  22.09072203, 101.17806086,\n",
       "         87.69264507,  20.        ,  28.16025568,  84.02380615,\n",
       "         88.00568163,  98.27003612,  66.76076692,  94.04786016,\n",
       "         83.09632964,  62.03224968,  49.16299421,  84.00595217],\n",
       "       [101.23734489,  73.10950691,  37.85498646,  97.09788875,\n",
       "          0.        ,  28.46049894,  42.10700654,  78.74642849,\n",
       "         58.18075283,  45.607017  ,  90.24965374,  96.79876032,\n",
       "         49.25444142,  84.48076704,  81.9390017 ,  57.5847202 ,\n",
       "         29.15475947,  59.40538696,  56.79788728,  16.2788206 ,\n",
       "         22.36067977,  32.31098884,  83.18653737,  85.84287973,\n",
       "         76.21679605,  61.55485359,  68.50547423,  29.15475947,\n",
       "         63.5295207 ,  55.15432893,  32.01562119,  15.5241747 ,\n",
       "         53.85164807,  73.00684899,  36.49657518,  45.35416188,\n",
       "         34.88552709,  21.21320344,  92.77930804,   7.21110255,\n",
       "         75.95393341,  50.03998401,  48.82622246,  70.71067812,\n",
       "         38.48376281,  34.66987165,  79.69943538,  46.09772229,\n",
       "         40.01249805,  78.60025445,  50.15974482,  94.86832981,\n",
       "         29.12043956,  77.38862966,  36.61966685,  50.96076922,\n",
       "         28.8444102 ,  22.        ,  44.28317965,  45.45327271,\n",
       "         43.0464865 ,  64.63745044,  45.89117562,  30.01666204,\n",
       "         73.24616031,   5.38516481,  34.13209633,  44.77722635,\n",
       "         18.97366596,  98.89893832,  65.21502894,  57.80138407,\n",
       "         95.51963149,  59.23681288,  77.25283166,  47.01063709,\n",
       "         25.96150997,  59.6405902 ,  82.73451517,  73.        ,\n",
       "         32.14031736,  95.51963149,  50.60632372,  18.38477631,\n",
       "         90.47098983,  56.32051136,  89.19641248,  18.78829423,\n",
       "         21.02379604,  88.02272434,  88.32326987,  86.16263691,\n",
       "         51.35172831,  75.21303079,  64.13267498,  20.51828453,\n",
       "         48.01041554,  38.41874542,  58.24946352,  53.03772242],\n",
       "       [ 72.9177619 ,  47.80167361,  49.76946855,  69.8140387 ,\n",
       "         28.46049894,   0.        ,  40.80441153,  50.28916384,\n",
       "         44.10215414,  21.02379604,  61.84658438,  68.35202996,\n",
       "         51.2249939 ,  59.77457654,  63.78087488,  29.15475947,\n",
       "         31.2409987 ,  33.42154993,  41.61730409,  16.2788206 ,\n",
       "         43.84062043,  21.21320344,  55.22680509,  61.68468205,\n",
       "         47.75981575,  56.04462508,  55.75840744,   2.        ,\n",
       "         35.80502758,  26.83281573,  48.54894438,  17.69180601,\n",
       "         55.00909016,  44.72135955,  34.20526275,  38.48376281,\n",
       "          8.06225775,  32.31098884,  65.06919394,  31.144823  ,\n",
       "         52.39274759,  48.02082881,  39.2173431 ,  43.01162634,\n",
       "         28.23118843,  21.54065923,  59.07622195,  60.00833275,\n",
       "         55.47071299,  52.34500931,  47.01063709,  66.40783086,\n",
       "         17.02938637,  50.32891813,  12.36931688,  22.56102835,\n",
       "         34.78505426,  41.10960958,  49.64876635,  26.07680962,\n",
       "         17.4642492 ,  52.83937925,  18.        ,   8.54400375,\n",
       "         46.09772229,  25.3179778 ,  27.07397274,  17.69180601,\n",
       "         17.49285568,  80.43009387,  38.94868419,  30.47950131,\n",
       "         67.06713055,  41.77319715,  58.25804665,  46.04345773,\n",
       "         39.44616585,  33.30165161,  58.52349955,  46.87216658,\n",
       "         33.24154028,  67.06713055,  23.34523506,  14.56021978,\n",
       "         71.84010022,  32.64965543,  60.74537019,  32.20248438,\n",
       "         19.6977156 ,  59.61543424,  59.9082632 ,  67.00746227,\n",
       "         53.41348144,  62.96824597,  41.67733197,  25.94224354,\n",
       "         48.01041554,  21.21320344,  39.45883931,  52.69724851],\n",
       "       [ 90.02221948,  83.76156637,  79.15806971,  79.63039621,\n",
       "         42.10700654,  40.80441153,   0.        ,  74.21590126,\n",
       "         84.8763807 ,  35.84689666,  85.90692638,  88.45903006,\n",
       "         10.63014581,  95.7183368 , 103.96634071,  55.54277631,\n",
       "         13.        ,  45.54119015,  82.41965785,  31.04834939,\n",
       "         64.38167441,  60.37383539,  71.11258679,  98.18350167,\n",
       "         71.06335202,  95.34149149,  96.5194281 ,  39.20459157,\n",
       "         54.34151268,  52.39274759,  74.02702209,  47.5394573 ,\n",
       "         91.48223871,  65.30696747,   6.70820393,   8.24621125,\n",
       "         38.20994635,  21.84032967,  93.92017888,  36.67424164,\n",
       "         90.        ,   8.06225775,  79.17701687,  59.53990259,\n",
       "         14.76482306,  20.61552813,  98.41239759,  88.        ,\n",
       "         82.02438662,  60.20797289,   8.06225775,  87.82368701,\n",
       "         55.90169944,  62.        ,  34.20526275,  53.85164807,\n",
       "         67.26812024,  64.07027392,  83.5463943 ,  26.92582404,\n",
       "         56.56854249,  93.49331527,  53.41348144,  49.09175083,\n",
       "         59.07622195,  37.01351105,  65.3911309 ,  41.18252056,\n",
       "         50.28916384, 120.24142381,  50.15974482,  48.76474136,\n",
       "         87.57282684,  82.46211251,  98.2903861 ,   5.38516481,\n",
       "         67.11929678,  46.69047012,  95.13148795,  81.63332653,\n",
       "         10.        ,  87.57282684,  44.38468204,  30.6757233 ,\n",
       "        111.73182179,  71.50524456,  81.88406438,  59.21148537,\n",
       "         53.45091206,  79.63039621,  83.95236745, 106.7941946 ,\n",
       "         12.72792206, 103.73041984,  80.72174428,  57.27128425,\n",
       "          7.21110255,  24.18677324,  30.59411708,  12.08304597],\n",
       "       [ 24.08318916,  28.0713377 ,  90.60905032,  28.86173938,\n",
       "         78.74642849,  50.28916384,  74.21590126,   0.        ,\n",
       "         57.27128425,  39.20459157,  12.        ,  18.35755975,\n",
       "         83.81527307,  34.20526275,  57.        ,  21.37755833,\n",
       "         72.1734023 ,  29.15475947,  54.56189146,  65.11528238,\n",
       "         91.41662868,  57.62811814,  14.03566885,  37.36308338,\n",
       "          3.16227766,  76.4852927 ,  64.56004957,  49.72926704,\n",
       "         19.92485885,  24.18677324,  92.80086206,  66.21178143,\n",
       "         84.31488599,   9.43398113,  70.03570518,  67.05221846,\n",
       "         44.72135955,  78.05767099,  20.80865205,  81.0246876 ,\n",
       "         36.        ,  77.49193506,  62.68173578,  16.40121947,\n",
       "         60.01666435,  56.22277119,  48.01041554, 100.41912169,\n",
       "         97.83659847,  25.94224354,  75.61084578,  16.15549442,\n",
       "         56.8594759 ,  20.59126028,  45.09988914,  27.85677655,\n",
       "         76.05918748,  87.98295289,  85.0411665 ,  47.29693436,\n",
       "         38.83297568,  64.84597135,  33.54101966,  50.53711507,\n",
       "         19.84943324,  75.43208866,  62.28964601,  36.05551275,\n",
       "         64.41273166,  66.70832032,  26.07680962,  25.49509757,\n",
       "         17.        ,  50.15974482,  52.08646657,  77.49193506,\n",
       "         83.81527307,  27.85677655,  35.6931366 ,  24.08318916,\n",
       "         72.44308111,  17.        ,  31.01612484,  62.96824597,\n",
       "         60.5309838 ,  35.51056181,  10.81665383,  78.54934755,\n",
       "         65.        ,  10.63014581,  10.        ,  56.22277119,\n",
       "         85.38149682,  69.42621983,  37.94733192,  71.02112362,\n",
       "         79.69943538,  51.35172831,  48.37354649,  82.28000972],\n",
       "       [ 79.92496481,  32.55764119,  43.93176527,  85.79627032,\n",
       "         58.18075283,  44.10215414,  84.8763807 ,  57.27128425,\n",
       "          0.        ,  57.97413216,  63.2455532 ,  72.9451849 ,\n",
       "         95.21029356,  38.07886553,  24.51530134,  48.09365863,\n",
       "         74.51845409,  63.07138812,   3.        ,  56.56854249,\n",
       "         55.32630477,  26.40075756,  69.89277502,  37.57658846,\n",
       "         57.00877125,  19.23538406,  11.66190379,  45.79301257,\n",
       "         58.21511831,  49.        ,  50.15974482,  43.26661531,\n",
       "         29.20616373,  59.20304046,  78.23681998,  82.36504113,\n",
       "         48.33218389,  72.9177619 ,  57.28001397,  64.66065264,\n",
       "         28.8444102 ,  92.11405973,  11.        ,  62.96824597,\n",
       "         72.06941099,  65.36818798,  25.3179778 ,  51.26402247,\n",
       "         51.41984053,  75.95393341,  91.0659102 ,  69.89277502,\n",
       "         30.47950131,  71.38627319,  53.31041174,  42.04759208,\n",
       "         35.22782991,  51.35172831,  34.17601498,  66.73080248,\n",
       "         31.04834939,   9.21954446,  37.48332963,  35.80502758,\n",
       "         67.89698079,  59.07622195,  24.16609195,  51.41984053,\n",
       "         39.66106403,  41.10960958,  66.03029608,  57.00877125,\n",
       "         71.56116265,   7.21110255,  21.        ,  90.13878189,\n",
       "         44.10215414,  62.03224968,  35.35533906,  35.60898763,\n",
       "         76.83749085,  71.56116265,  53.46026562,  55.90169944,\n",
       "         32.984845  ,  22.56102835,  66.73080248,  44.38468204,\n",
       "         37.21558813,  67.53517602,  62.12889827,  29.27456234,\n",
       "         97.41663102,  18.86796226,  20.        ,  38.62641583,\n",
       "         92.08691547,  63.97655821,  78.10249676,  96.79876032],\n",
       "       [ 58.24946352,  48.91829923,  70.77428912,  51.88448708,\n",
       "         45.607017  ,  21.02379604,  35.84689666,  39.20459157,\n",
       "         57.97413216,   0.        ,  51.15662225,  55.22680509,\n",
       "         46.06517123,  60.6052803 ,  72.40165744,  19.6977156 ,\n",
       "         33.01514804,  13.89244399,  55.08175742,  29.68164416,\n",
       "         64.03124237,  40.44749683,  39.29376541,  63.2534584 ,\n",
       "         36.12478374,  73.24616031,  69.26037828,  19.23538406,\n",
       "         20.09975124,  16.55294536,  69.46221995,  38.27531842,\n",
       "         74.43117626,  31.01612484,  31.04834939,  29.68164416,\n",
       "         13.        ,  39.62322551,  58.24087911,  45.65084884,\n",
       "         55.86591089,  40.49691346,  56.14267539,  26.68332813,\n",
       "         21.1896201 ,  17.02938637,  65.60487787,  81.0246876 ,\n",
       "         76.47875522,  33.01514804,  38.83297568,  54.03702434,\n",
       "         36.87817783,  32.20248438,   9.21954446,  19.10497317,\n",
       "         55.71355311,  61.6116872 ,  70.09279564,   9.89949494,\n",
       "         26.92582404,  67.18630813,  21.02379604,  27.65863337,\n",
       "         28.23118843,  41.0487515 ,  46.5295605 ,   6.70820393,\n",
       "         38.47076812,  87.6184912 ,  19.72308292,  14.03566885,\n",
       "         54.14794548,  53.48831648,  66.57326791,  39.8246155 ,\n",
       "         60.41522987,  14.31782106,  60.30754513,  46.40043103,\n",
       "         33.24154028,  54.14794548,   8.54400375,  27.45906044,\n",
       "         79.40403012,  39.44616585,  48.0416486 ,  53.        ,\n",
       "         40.71854614,  46.17358552,  49.16299421,  74.40430095,\n",
       "         47.88527958,  76.21679605,  48.25971405,  46.95742753,\n",
       "         42.05948169,  12.16552506,  20.22374842,  45.48626166],\n",
       "       [ 17.08800749,  31.30495168,  99.80981916,  28.44292531,\n",
       "         90.24965374,  61.84658438,  85.90692638,  12.        ,\n",
       "         63.2455532 ,  51.15662225,   0.        ,   9.8488578 ,\n",
       "         95.33624704,  33.13608305,  58.24946352,  33.24154028,\n",
       "         84.14867795,  40.52159918,  60.80296045,  76.94153625,\n",
       "        101.9656805 ,  67.41661516,  19.10497317,  36.05551275,\n",
       "         15.03329638,  82.37718131,  68.87670143,  61.39218191,\n",
       "         31.57530681,  36.12478374, 102.62553289,  77.25283166,\n",
       "         91.54780172,  20.61552813,  81.88406438,  78.58753082,\n",
       "         56.56854249,  90.04998612,  13.        ,  92.76313923,\n",
       "         37.94733192,  88.88756943,  70.09279564,  26.92582404,\n",
       "         71.84705979,  68.18357573,  49.24428901, 109.34349546,\n",
       "        107.20074627,  33.24154028,  86.97700846,   6.70820393,\n",
       "         67.11929678,  28.42534081,  57.07889277,  39.29376541,\n",
       "         85.70297544,  98.41239759,  93.38094024,  59.03388857,\n",
       "         49.1934955 ,  69.83552105,  44.59820624,  61.46543744,\n",
       "         29.15475947,  87.09764635,  71.61005516,  48.0416486 ,\n",
       "         75.23961722,  65.06919394,  36.76955262,  37.33630941,\n",
       "          8.54400375,  56.0357029 ,  54.12023651,  89.02246907,\n",
       "         93.81364506,  39.29376541,  35.35533906,  27.78488798,\n",
       "         84.38009244,   8.54400375,  43.01162634,  74.81310046,\n",
       "         60.13318551,  43.13930922,   6.70820393,  89.0056178 ,\n",
       "         75.58438992,   9.43398113,   2.        ,  56.43580424,\n",
       "         96.84007435,  72.80109889,  43.26661531,  81.41252975,\n",
       "         91.21403401,  63.28506933,  59.09314681,  93.60555539],\n",
       "       [  7.28010989,  41.14608122, 108.5771615 ,  21.02379604,\n",
       "         96.79876032,  68.35202996,  88.45903006,  18.35755975,\n",
       "         72.9451849 ,  55.22680509,   9.8488578 ,   0.        ,\n",
       "         97.32420048,  42.57933771,  67.91170739,  39.2173431 ,\n",
       "         88.09086218,  43.0464865 ,  70.45565982,  82.71033793,\n",
       "        109.772492  ,  75.80237463,  17.72004515,  45.39823785,\n",
       "         20.61552813,  92.11405973,  78.72102642,  67.67569726,\n",
       "         35.12833614,  41.76122604, 111.01801656,  84.52810184,\n",
       "        101.04454463,  24.33105012,  85.0529247 ,  80.75270893,\n",
       "         62.36184731,  94.76286192,  21.02379604,  98.762341  ,\n",
       "         47.75981575,  90.60905032,  79.51100553,  29.01723626,\n",
       "         75.02666193,  72.11102551,  58.94064811, 118.25819211,\n",
       "        115.88356225,  31.30495168,  88.64536085,   3.16227766,\n",
       "         75.16648189,  27.51363298,  62.16912417,  46.09772229,\n",
       "         94.20191081, 106.32967601, 102.53292154,  62.03224968,\n",
       "         57.14017851,  79.64923101,  51.88448708,  68.8839604 ,\n",
       "         29.61418579,  93.30058949,  80.28075735,  53.15072906,\n",
       "         82.76472679,  74.00675645,  38.32753579,  41.19465985,\n",
       "          1.41421356,  65.73431372,  63.89053138,  91.08238029,\n",
       "        102.07840124,  42.01190308,  44.91102315,  37.58989226,\n",
       "         88.00568163,   1.41421356,  47.67598976,  80.52328856,\n",
       "         69.46221995,  52.40229003,   7.61577311,  96.89685237,\n",
       "         83.35466394,   9.05538514,  10.81665383,  65.9241989 ,\n",
       "         98.65596789,  82.63776376,  53.        ,  89.35882721,\n",
       "         93.21480569,  67.06713055,  59.9082632 ,  95.12623192],\n",
       "       [ 98.41239759,  94.3027041 ,  86.97700846,  87.05170877,\n",
       "         49.25444142,  51.2249939 ,  10.63014581,  83.81527307,\n",
       "         95.21029356,  46.06517123,  95.33624704,  97.32420048,\n",
       "          0.        , 106.23088063, 114.56002793,  65.74191966,\n",
       "         21.54065923,  54.81788029,  92.80086206,  40.31128874,\n",
       "         71.0070419 ,  70.32780389,  79.76214641, 108.72442228,\n",
       "         80.65358021, 105.09519494, 106.83164325,  49.67896939,\n",
       "         63.89053138,  62.60990337,  81.22191822,  56.64803615,\n",
       "        100.56838469,  74.72616677,  17.02938637,  16.76305461,\n",
       "         48.83646179,  28.0713377 , 103.81714695,  43.01162634,\n",
       "        100.60318086,   7.07106781,  89.18520057,  68.65857558,\n",
       "         25.23885893,  31.2409987 , 109.04127659,  95.33624704,\n",
       "         89.20201791,  68.02940541,   9.05538514,  96.88137076,\n",
       "         65.8634952 ,  70.34912935,  44.82186966,  64.35060217,\n",
       "         75.96051606,  71.1758386 ,  92.17917335,  36.76955262,\n",
       "         67.17886572, 103.73041984,  64.03124237,  59.40538696,\n",
       "         67.74215822,  44.55333882,  75.13321503,  51.623638  ,\n",
       "         59.61543424, 130.86252328,  59.03388857,  58.52349955,\n",
       "         96.50906693,  92.9569793 , 108.8944443 ,   6.32455532,\n",
       "         74.96665926,  56.04462508, 105.68348972,  92.11405973,\n",
       "         18.78829423,  96.50906693,  54.56189146,  40.24922359,\n",
       "        122.34786471,  82.13403679,  91.00549434,  67.26812024,\n",
       "         62.76941931,  88.64536085,  93.40770846, 117.41379817,\n",
       "          2.23606798, 114.03946685,  91.35097153,  66.09841148,\n",
       "          4.12310563,  34.66987165,  38.01315562,   5.        ],\n",
       "       [ 49.81967483,  12.08304597,  80.99382693,  61.03277808,\n",
       "         84.48076704,  59.77457654,  95.7183368 ,  34.20526275,\n",
       "         38.07886553,  60.6052803 ,  33.13608305,  42.57933771,\n",
       "        106.23088063,   0.        ,  25.63201124,  41.72529209,\n",
       "         89.47066558,  56.85068161,  36.67424164,  75.96051606,\n",
       "         88.95504483,  54.08326913,  48.05205511,   3.16227766,\n",
       "         36.05551275,  55.31726674,  39.62322551,  60.40695324,\n",
       "         48.01041554,  44.59820624,  86.127812  ,  69.18092223,\n",
       "         67.11929678,  41.62931659,  90.04998612,  90.21086409,\n",
       "         58.6003413 ,  92.0271699 ,  22.47220505,  89.26925563,\n",
       "          9.48683298, 101.01980004,  47.92702787,  48.3011387 ,\n",
       "         80.99382693,  75.29276194,  17.        ,  89.05054744,\n",
       "         88.60022573,  59.80802622,  99.40321926,  39.45883931,\n",
       "         56.00892786,  54.4242593 ,  61.77378085,  41.88078318,\n",
       "         69.63476143,  85.        ,  72.01388755,  70.43436661,\n",
       "         42.44997055,  41.77319715,  42.95346319,  54.91812087,\n",
       "         52.80151513,  83.18653737,  55.73149917,  54.64430437,\n",
       "         66.06814664,  32.55764119,  56.30275304,  50.99019514,\n",
       "         41.43669871,  31.78049716,  22.47220505, 100.12492197,\n",
       "         78.64477096,  55.4436651 ,   2.82842712,  14.2126704 ,\n",
       "         90.78546139,  41.43669871,  52.49761899,  74.33034374,\n",
       "         27.01851217,  28.16025568,  39.        ,  76.4198927 ,\n",
       "         65.        ,  41.0487515 ,  33.01514804,  23.34523506,\n",
       "        108.16653826,  41.88078318,  21.21320344,  69.18092223,\n",
       "        102.34256202,  71.56116265,  76.4852927 , 106.01886625],\n",
       "       [ 75.18643495,  29.06888371,  67.11929678,  85.28774824,\n",
       "         81.9390017 ,  63.78087488, 103.96634071,  57.        ,\n",
       "         24.51530134,  72.40165744,  58.24946352,  67.91170739,\n",
       "        114.56002793,  25.63201124,   0.        ,  57.00877125,\n",
       "         95.01578816,  73.1641989 ,  25.29822128,  78.23681998,\n",
       "         79.76214641,  49.65883607,  71.0070419 ,  23.2594067 ,\n",
       "         58.07753438,  35.11409973,  18.68154169,  65.11528238,\n",
       "         65.80273551,  59.09314681,  74.00675645,  66.64082833,\n",
       "         48.76474136,  62.51399843,  97.5807358 , 100.12492197,\n",
       "         65.8559033 ,  94.86832981,  48.10405388,  88.10221337,\n",
       "         21.        , 110.53506231,  35.35533906,  68.24954212,\n",
       "         90.02777349,  83.5463943 ,   9.05538514,  73.1641989 ,\n",
       "         74.33034374,  80.89499366, 109.22453937,  64.76109943,\n",
       "         53.23532662,  75.66372975,  70.29224708,  53.71219601,\n",
       "         59.68249325,  75.80237463,  56.43580424,  82.09750301,\n",
       "         47.42362281,  22.36067977,  51.6139516 ,  56.40035461,\n",
       "         73.1641989 ,  82.29823813,  48.38388161,  65.73431372,\n",
       "         63.07138812,  17.        ,  74.33034374,  66.85057965,\n",
       "         66.70832032,  22.82542442,   5.83095189, 108.97706181,\n",
       "         68.46897107,  71.86793444,  23.08679276,  33.06055051,\n",
       "         97.        ,  66.70832032,  65.76473219,  77.20103626,\n",
       "          8.54400375,  33.01514804,  63.63961031,  68.8839604 ,\n",
       "         60.92618485,  65.37583651,  57.87054518,   5.09901951,\n",
       "        116.69190203,  17.80449381,  24.18677324,  62.93647591,\n",
       "        111.07204869,  81.05553652,  91.24143795, 115.43396381],\n",
       "       [ 43.829214  ,  30.61045573,  73.24616031,  42.52058325,\n",
       "         57.5847202 ,  29.15475947,  55.54277631,  21.37755833,\n",
       "         48.09365863,  19.6977156 ,  33.24154028,  39.2173431 ,\n",
       "         65.74191966,  41.72529209,  57.00877125,   0.        ,\n",
       "         51.7880295 ,  16.15549442,  45.09988914,  43.73785546,\n",
       "         71.61005516,  40.        ,  26.90724809,  44.55333882,\n",
       "         18.68154169,  66.09841148,  58.07753438,  28.46049894,\n",
       "         10.19803903,   3.16227766,  74.24957912,  45.79301257,\n",
       "         70.9365914 ,  15.8113883 ,  50.59644256,  49.24428901,\n",
       "         23.34523506,  57.00877125,  38.83297568,  59.66573556,\n",
       "         38.27531842,  60.03332408,  50.        ,  16.1245155 ,\n",
       "         40.85339643,  36.138622  ,  49.1934955 ,  83.40863265,\n",
       "         80.05623024,  28.46049894,  58.30951895,  37.36308338,\n",
       "         38.20994635,  24.59674775,  24.0208243 ,   7.81024968,\n",
       "         58.13776741,  68.41052551,  69.46221995,  29.15475947,\n",
       "         21.09502311,  57.00877125,  14.2126704 ,  30.61045573,\n",
       "         20.61552813,  54.12023651,  45.48626166,  15.13274595,\n",
       "         44.40720662,  70.83078427,  18.02775638,   9.8488578 ,\n",
       "         37.94733192,  42.01190308,  51.26402247,  59.48108943,\n",
       "         65.06919394,  14.86606875,  41.77319715,  27.58622845,\n",
       "         52.39274759,  37.94733192,  11.18033989,  41.59326869,\n",
       "         63.0634601 ,  26.07680962,  31.6227766 ,  59.03388857,\n",
       "         45.45327271,  30.46309242,  31.25699922,  58.13776741,\n",
       "         67.53517602,  64.38167441,  33.24154028,  51.73973328,\n",
       "         61.7170965 ,  31.6227766 ,  35.        ,  65.        ],\n",
       "       [ 90.66973034,  77.38862966,  66.18912297,  82.28000972,\n",
       "         29.15475947,  31.2409987 ,  13.        ,  72.1734023 ,\n",
       "         74.51845409,  33.01514804,  84.14867795,  88.09086218,\n",
       "         21.54065923,  89.47066558,  95.01578816,  51.7880295 ,\n",
       "          0.        ,  45.39823785,  72.24956747,  18.78829423,\n",
       "         51.4781507 ,  49.09175083,  71.56814934,  91.67878708,\n",
       "         69.11584478,  83.6480723 ,  86.05230967,  30.        ,\n",
       "         53.00943312,  48.66210024,  61.03277808,  35.11409973,\n",
       "         79.0569415 ,  64.        ,   7.61577311,  17.        ,\n",
       "         30.87069808,  10.        ,  90.60905032,  24.04163056,\n",
       "         82.85529555,  21.02379604,  67.95586803,  59.21148537,\n",
       "         14.31782106,  16.        ,  90.21086409,  75.        ,\n",
       "         69.02897942,  62.64183905,  21.02379604,  87.00574694,\n",
       "         44.65422712,  63.34824386,  28.16025568,  48.38388161,\n",
       "         54.5710546 ,  51.0881591 ,  70.83078427,  26.68332813,\n",
       "         48.25971405,  82.80096618,  46.5188134 ,  38.89730068,\n",
       "         59.8414572 ,  24.0208243 ,  53.71219601,  36.67424164,\n",
       "         38.07886553, 111.6646766 ,  50.80354318,  47.        ,\n",
       "         87.05170877,  72.83543094,  89.49860334,  18.11077028,\n",
       "         54.14794548,  46.27094121,  88.54942123,  75.76938696,\n",
       "          3.        ,  87.05170877,  41.19465985,  18.86796226,\n",
       "        103.07764064,  63.51377803,  81.0061726 ,  46.27094121,\n",
       "         41.23105626,  79.0569415 ,  82.15229759,  98.23441352,\n",
       "         23.76972865,  93.23625904,  72.6704892 ,  44.64302857,\n",
       "         19.41648784,  21.02379604,  35.51056181,  24.51530134],\n",
       "       [ 45.27692569,  46.32493929,  82.36504113,  38.01315562,\n",
       "         59.40538696,  33.42154993,  45.54119015,  29.15475947,\n",
       "         63.07138812,  13.89244399,  40.52159918,  43.0464865 ,\n",
       "         54.81788029,  56.85068161,  73.1641989 ,  16.15549442,\n",
       "         45.39823785,   0.        ,  60.07495318,  43.56604182,\n",
       "         77.15568676,  50.32891813,  26.17250466,  59.81638571,\n",
       "         26.        ,  80.22468448,  73.55270219,  31.89043744,\n",
       "          9.43398113,  14.31782106,  81.84130986,  51.0881591 ,\n",
       "         83.43260753,  19.92485885,  42.01190308,  38.07886553,\n",
       "         25.49509757,  52.88667129,  49.64876635,  59.53990259,\n",
       "         54.20332093,  48.38388161,  63.50590524,  14.03566885,\n",
       "         32.        ,  29.61418579,  65.30696747,  92.66067127,\n",
       "         88.50988645,  19.20937271,  46.4865572 ,  42.29657197,\n",
       "         47.42362281,  18.38477631,  22.8035085 ,  21.02379604,\n",
       "         67.11929678,  74.51845409,  80.41144197,  19.        ,\n",
       "         33.37663854,  72.1734023 ,  26.17250466,  38.47076812,\n",
       "         14.56021978,  54.91812087,  56.30275304,  15.8113883 ,\n",
       "         50.80354318,  86.83317338,   5.83095189,   6.32455532,\n",
       "         42.10700654,  57.42821606,  67.41661516,  48.50773134,\n",
       "         72.6704892 ,   1.41421356,  57.20139858,  43.01162634,\n",
       "         45.09988914,  42.10700654,  10.77032961,  41.34005322,\n",
       "         79.15806971,  41.77319715,  36.34556369,  65.60487787,\n",
       "         52.69724851,  34.13209633,  38.60051813,  74.24957912,\n",
       "         56.32051136,  80.0624756 ,  49.33558553,  59.07622195,\n",
       "         50.69516742,  24.51530134,  19.84943324,  53.14132102],\n",
       "       [ 77.38862966,  30.41381265,  44.64302857,  83.00602388,\n",
       "         56.79788728,  41.61730409,  82.41965785,  54.56189146,\n",
       "          3.        ,  55.08175742,  60.80296045,  70.45565982,\n",
       "         92.80086206,  36.67424164,  25.29822128,  45.09988914,\n",
       "         72.24956747,  60.07495318,   0.        ,  54.4885309 ,\n",
       "         55.08175742,  24.69817807,  67.06713055,  36.40054945,\n",
       "         54.23098745,  21.9317122 ,  14.31782106,  43.26661531,\n",
       "         55.22680509,  46.        ,  50.48762225,  41.67733197,\n",
       "         31.144823  ,  56.32051136,  75.80237463,  79.75587753,\n",
       "         45.61797891,  70.9365914 ,  55.22680509,  63.13477647,\n",
       "         27.29468813,  89.58794562,  11.40175425,  60.01666435,\n",
       "         69.46221995,  62.76941931,  25.01999201,  52.39274759,\n",
       "         52.20153254,  72.99315036,  88.50988645,  67.42403132,\n",
       "         28.60069929,  68.44705983,  50.56678752,  39.05124838,\n",
       "         35.0142828 ,  51.0881591 ,  35.34119409,  63.90618123,\n",
       "         28.16025568,  12.16552506,  34.525353  ,  33.42154993,\n",
       "         64.93843238,  57.45432969,  23.08679276,  48.50773134,\n",
       "         38.07886553,  42.15447782,  63.03173804,  54.00925847,\n",
       "         69.0651866 ,   5.        ,  21.21320344,  87.658428  ,\n",
       "         44.        ,  59.03388857,  34.0147027 ,  33.30165161,\n",
       "         74.51845409,  69.0651866 ,  50.48762225,  53.74011537,\n",
       "         33.83784863,  19.6468827 ,  64.14047084,  43.73785546,\n",
       "         35.77708764,  64.88451279,  59.6405902 ,  29.83286778,\n",
       "         95.        ,  21.47091055,  17.69180601,  37.64306045,\n",
       "         89.62700486,  61.26989473,  75.18643495,  94.3027041 ],\n",
       "       [ 86.64871609,  64.03124237,  49.09175083,  81.49233093,\n",
       "         16.2788206 ,  16.2788206 ,  31.04834939,  65.11528238,\n",
       "         56.56854249,  29.68164416,  76.94153625,  82.71033793,\n",
       "         40.31128874,  75.96051606,  78.23681998,  43.73785546,\n",
       "         18.78829423,  43.56604182,  54.4885309 ,   0.        ,\n",
       "         37.16180835,  30.61045573,  68.15423685,  77.79460136,\n",
       "         62.36986452,  64.88451279,  67.94115101,  16.03121954,\n",
       "         48.46648326,  41.        ,  45.12205669,  16.4924225 ,\n",
       "         60.44005295,  58.52349955,  24.51530134,  32.        ,\n",
       "         20.39607805,  16.64331698,  81.        ,  16.15549442,\n",
       "         68.35202996,  39.05124838,  49.40647731,  55.54277631,\n",
       "         23.53720459,  18.78829423,  74.30343195,  58.54912467,\n",
       "         52.95280918,  62.68173578,  38.63935817,  81.0246876 ,\n",
       "         26.2488095 ,  61.77378085,  21.02379604,  38.05259518,\n",
       "         36.34556369,  35.73513677,  52.61178575,  29.20616373,\n",
       "         33.52610923,  64.5368112 ,  34.13209633,  21.9544984 ,\n",
       "         57.70615219,  11.40175425,  34.98571137,  29.73213749,\n",
       "         19.31320792,  95.13148795,  49.39635614,  42.54409477,\n",
       "         81.49233093,  55.6057551 ,  72.9451849 ,  36.40054945,\n",
       "         37.21558813,  43.9089968 ,  74.63243263,  63.15061362,\n",
       "         21.54065923,  81.49233093,  35.4682957 ,   2.23606798,\n",
       "         86.53323061,  48.46648326,  75.18643495,  29.15475947,\n",
       "         22.47220505,  73.76313442,  74.96665926,  81.83520025,\n",
       "         42.54409477,  75.07329752,  57.27128425,  26.30589288,\n",
       "         37.94733192,  22.20360331,  42.19004622,  43.01162634],\n",
       "       [115.12167476,  79.07591289,  19.20937271, 113.45483683,\n",
       "         22.36067977,  43.84062043,  64.38167441,  91.41662868,\n",
       "         55.32630477,  64.03124237, 101.9656805 , 109.772492  ,\n",
       "         71.0070419 ,  88.95504483,  79.76214641,  71.61005516,\n",
       "         51.4781507 ,  77.15568676,  55.08175742,  37.16180835,\n",
       "          0.        ,  35.44009029,  98.4073168 ,  89.56003573,\n",
       "         89.35882721,  51.42956348,  63.0634601 ,  45.27692569,\n",
       "         79.39773297,  69.8140387 ,  11.18033989,  26.17250466,\n",
       "         40.        ,  87.4185335 ,  58.85575588,  67.68308504,\n",
       "         51.66236541,  43.01162634, 101.84301645,  28.        ,\n",
       "         79.63039621,  72.24956747,  44.40720662,  86.55634003,\n",
       "         60.40695324,  55.94640292,  80.02499609,  25.        ,\n",
       "         18.68154169,  96.17692031,  72.44308111, 107.42439202,\n",
       "         34.92849839,  94.11163584,  54.81788029,  64.07027392,\n",
       "         20.09975124,   4.        ,  29.20616373,  65.8634952 ,\n",
       "         52.77309921,  58.94064811,  57.98275606,  41.0487515 ,\n",
       "         89.87213139,  27.65863337,  33.24154028,  61.52235366,\n",
       "         27.20294102,  95.90099061,  82.75868534,  74.27651042,\n",
       "        108.40664186,  59.        ,  76.23647421,  69.18092223,\n",
       "         11.40175425,  77.1038261 ,  86.70063437,  80.08120878,\n",
       "         54.45181356, 108.40664186,  67.17886572,  38.91015292,\n",
       "         88.1192374 ,  62.09669879, 102.21545871,  13.        ,\n",
       "         26.41968963, 101.5480182 , 100.18482919,  84.59314393,\n",
       "         73.02739212,  68.62215386,  67.74215822,  20.61552813,\n",
       "         70.06425622,  59.05929224,  79.17701687,  75.02666193],\n",
       "       [ 81.68843247,  43.73785546,  33.30165161,  82.46211251,\n",
       "         32.31098884,  21.21320344,  60.37383539,  57.62811814,\n",
       "         26.40075756,  40.44749683,  67.41661516,  75.80237463,\n",
       "         70.32780389,  54.08326913,  49.65883607,  40.        ,\n",
       "         49.09175083,  50.32891813,  24.69817807,  30.61045573,\n",
       "         35.44009029,   0.        ,  66.60330322,  55.        ,\n",
       "         55.97320788,  35.11409973,  37.48332963,  23.19482701,\n",
       "         49.39635614,  39.11521443,  35.22782991,  17.        ,\n",
       "         34.05877273,  55.22680509,  53.66563146,  59.13543777,\n",
       "         28.01785145,  46.66904756,  66.48308055,  38.47076812,\n",
       "         45.        ,  68.02940541,  18.86796226,  56.0357029 ,\n",
       "         49.04079934,  42.44997055,  47.5394573 ,  43.41658669,\n",
       "         40.31128874,  67.60177512,  67.23094526,  73.23933369,\n",
       "          4.47213595,  64.35060217,  33.        ,  32.20248438,\n",
       "         18.43908891,  31.6227766 ,  30.08321791,  47.01063709,\n",
       "         19.10497317,  33.9705755 ,  25.8069758 ,  13.        ,\n",
       "         60.20797289,  32.75667871,   6.08276253,  35.17101079,\n",
       "         13.41640786,  66.64082833,  55.03635162,  45.61797891,\n",
       "         74.40430095,  26.92582404,  44.94441011,  65.74191966,\n",
       "         26.41968963,  49.76946855,  52.0096145 ,  44.64302857,\n",
       "         51.623638  ,  74.40430095,  39.56008089,  30.23243292,\n",
       "         58.18075283,  26.68332813,  68.41052551,  22.56102835,\n",
       "         11.40175425,  68.11754546,  65.73431372,  53.85164807,\n",
       "         72.56031973,  44.55333882,  33.        ,  15.13274595,\n",
       "         67.53517602,  42.42640687,  60.07495318,  72.44998275],\n",
       "       [ 19.10497317,  42.01190308,  99.90495483,  16.1245155 ,\n",
       "         83.18653737,  55.22680509,  71.11258679,  14.03566885,\n",
       "         69.89277502,  39.29376541,  19.10497317,  17.72004515,\n",
       "         79.76214641,  48.05205511,  71.0070419 ,  26.90724809,\n",
       "         71.56814934,  26.17250466,  67.06713055,  68.15423685,\n",
       "         98.4073168 ,  66.60330322,   0.        ,  51.19570294,\n",
       "         13.15294644,  88.95504483,  77.87810989,  54.20332093,\n",
       "         19.6977156 ,  28.60069929, 101.13851887,  72.42237223,\n",
       "         95.77055915,  11.40175425,  68.02940541,  63.28506933,\n",
       "         48.3011387 ,  78.85429601,  31.6227766 ,  84.30895563,\n",
       "         50.009999  ,  72.99315036,  74.24284477,  12.64911064,\n",
       "         58.07753438,  55.73149917,  62.03224968, 109.98636279,\n",
       "        106.83164325,  14.2126704 ,  71.02112362,  17.88854382,\n",
       "         65.05382387,   9.8488578 ,  47.16990566,  34.6554469 ,\n",
       "         84.89994111,  95.26804291,  95.4410813 ,  45.09988914,\n",
       "         47.50789408,  77.88452991,  41.01219331,  57.48912941,\n",
       "         12.04159458,  79.20227269,  71.84010022,  38.48376281,\n",
       "         71.21797526,  80.60397013,  21.        ,  25.63201124,\n",
       "         17.08800749,  62.93647591,  66.03029608,  73.55270219,\n",
       "         91.96738552,  25.3179778 ,  49.64876635,  38.01315562,\n",
       "         71.25307011,  17.08800749,  32.69556545,  65.9241989 ,\n",
       "         74.54528825,  47.5394573 ,  12.80624847,  85.91274643,\n",
       "         72.34638899,  10.        ,  17.80449381,  70.25667228,\n",
       "         81.04936767,  83.02409289,  51.19570294,  78.64477096,\n",
       "         75.66372975,  50.6359556 ,  42.20189569,  77.46612163],\n",
       "       [ 52.61178575,  14.4222051 ,  80.95677859,  64.07027392,\n",
       "         85.84287973,  61.68468205,  98.18350167,  37.36308338,\n",
       "         37.57658846,  63.2534584 ,  36.05551275,  45.39823785,\n",
       "        108.72442228,   3.16227766,  23.2594067 ,  44.55333882,\n",
       "         91.67878708,  59.81638571,  36.40054945,  77.79460136,\n",
       "         89.56003573,  55.        ,  51.19570294,   0.        ,\n",
       "         39.2173431 ,  54.20332093,  38.20994635,  62.39390996,\n",
       "         51.03920062,  47.38143096,  86.34813258,  70.45565982,\n",
       "         66.37017402,  44.77722635,  92.43916919,  92.80086206,\n",
       "         60.8276253 ,  93.9840412 ,  25.        ,  90.80198236,\n",
       "         10.        , 103.60019305,  47.75981575,  51.42956348,\n",
       "         83.48652586,  77.69813383,  15.        ,  88.76936408,\n",
       "         88.54377448,  62.96824597, 102.00490184,  42.29657197,\n",
       "         57.14017851,  57.5847202 ,  64.14047084,  44.40720662,\n",
       "         70.03570518,  85.58621384,  71.69379332,  73.10950691,\n",
       "         44.27188724,  40.60788101,  45.17742799,  56.5154846 ,\n",
       "         55.94640292,  84.72307832,  56.32051136,  57.20139858,\n",
       "         67.26812024,  29.42787794,  59.36328832,  53.90732789,\n",
       "         44.28317965,  31.6227766 ,  20.61552813, 102.6498904 ,\n",
       "         79.07591289,  58.41232747,   3.16227766,  16.97056275,\n",
       "         93.05912099,  44.28317965,  55.22680509,  76.21679605,\n",
       "         24.08318916,  29.61418579,  42.01190308,  77.1621669 ,\n",
       "         66.06814664,  44.10215414,  36.        ,  20.61552813,\n",
       "        110.67971811,  40.        ,  22.        ,  70.0285656 ,\n",
       "        104.86181383,  74.06078585,  79.39773297, 108.60018416],\n",
       "       [ 25.8069758 ,  29.01723626,  89.10667764,  28.7923601 ,\n",
       "         76.21679605,  47.75981575,  71.06335202,   3.16227766,\n",
       "         57.00877125,  36.12478374,  15.03329638,  20.61552813,\n",
       "         80.65358021,  36.05551275,  58.07753438,  18.68154169,\n",
       "         69.11584478,  26.        ,  54.23098745,  62.36986452,\n",
       "         89.35882721,  55.97320788,  13.15294644,  39.2173431 ,\n",
       "          0.        ,  76.15773106,  64.76109943,  47.12748667,\n",
       "         16.76305461,  21.37755833,  91.04943712,  63.95310782,\n",
       "         83.52843827,   6.40312424,  66.91038783,  63.89053138,\n",
       "         41.97618372,  75.10659092,  23.85372088,  78.33900689,\n",
       "         37.12142239,  74.33034374,  61.91122677,  13.45362405,\n",
       "         56.88585061,  53.15072906,  49.16299421,  99.00505038,\n",
       "         96.26006441,  23.76972865,  72.44998275,  18.68154169,\n",
       "         55.        ,  18.38477631,  42.19004622,  25.49509757,\n",
       "         74.41102069,  85.98255637,  83.86894539,  44.14748011,\n",
       "         37.01351105,  64.84597135,  31.38470965,  48.37354649,\n",
       "         17.20465053,  72.80109889,  60.81118318,  33.13608305,\n",
       "         62.2655603 ,  68.41052551,  23.02172887,  22.36067977,\n",
       "         19.31320792,  49.979996  ,  53.        ,  74.33034374,\n",
       "         82.00609733,  24.69817807,  37.36308338,  25.01999201,\n",
       "         69.35416354,  19.31320792,  28.        ,  60.20797289,\n",
       "         61.98386887,  34.88552709,  13.        ,  76.55063684,\n",
       "         62.96824597,  12.20655562,  13.03840481,  57.55866572,\n",
       "         82.21921916,  69.87131028,  38.07886553,  69.0651866 ,\n",
       "         76.53757247,  48.25971405,  45.27692569,  79.12016178],\n",
       "       [ 99.12618221,  51.4003891 ,  34.92849839, 104.92378186,\n",
       "         61.55485359,  56.04462508,  95.34149149,  76.4852927 ,\n",
       "         19.23538406,  73.24616031,  82.37718131,  92.11405973,\n",
       "        105.09519494,  55.31726674,  35.11409973,  66.09841148,\n",
       "         83.6480723 ,  80.22468448,  21.9317122 ,  64.88451279,\n",
       "         51.42956348,  35.11409973,  88.95504483,  54.20332093,\n",
       "         76.15773106,   0.        ,  16.55294536,  57.97413216,\n",
       "         76.29547824,  66.61080993,  43.01162634,  49.09175083,\n",
       "         14.03566885,  78.10889834,  88.63972022,  94.24436323,\n",
       "         61.98386887,  79.88116173,  75.82216035,  68.68041933,\n",
       "         46.66904756, 103.07764064,  17.11724277,  81.49233093,\n",
       "         84.11896338,  77.49193506,  39.96248241,  39.01281841,\n",
       "         41.30375286,  94.36630755, 102.31813134,  89.04493248,\n",
       "         39.56008089,  89.9888882 ,  67.08203932,  59.41380311,\n",
       "         33.42154993,  47.88527958,  23.53720459,  81.04936767,\n",
       "         47.01063709,  13.60147051,  54.08326913,  47.5394573 ,\n",
       "         86.34813258,  64.03124237,  29.96664813,  67.06713055,\n",
       "         45.79301257,  48.16637832,  83.72574276,  74.43117626,\n",
       "         90.73588044,  26.41968963,  34.4818793 , 100.72239076,\n",
       "         40.31128874,  79.30952024,  52.49761899,  54.64430437,\n",
       "         86.31338251,  90.73588044,  70.0285656 ,  64.84597135,\n",
       "         41.97618372,  41.43669871,  85.95929269,  44.04543109,\n",
       "         42.72001873,  86.76981042,  81.3019065 ,  40.16217126,\n",
       "        107.33126292,  19.02629759,  39.11521443,  41.10960958,\n",
       "        102.45974819,  77.12976079,  93.43446901, 107.42439202],\n",
       "       [ 85.90692638,  37.57658846,  49.01020302,  93.40770846,\n",
       "         68.50547423,  55.75840744,  96.5194281 ,  64.56004957,\n",
       "         11.66190379,  69.26037828,  68.87670143,  78.72102642,\n",
       "        106.83164325,  39.62322551,  18.68154169,  58.07753438,\n",
       "         86.05230967,  73.55270219,  14.31782106,  67.94115101,\n",
       "         63.0634601 ,  37.48332963,  77.87810989,  38.20994635,\n",
       "         64.76109943,  16.55294536,   0.        ,  57.45432969,\n",
       "         68.00735254,  59.30430001,  56.32051136,  54.03702434,\n",
       "         30.08321791,  67.74215822,  89.87213139,  94.02127419,\n",
       "         59.93329626,  84.14867795,  61.03277808,  75.21303079,\n",
       "         31.6227766 , 103.77379245,  19.72308292,  72.1734023 ,\n",
       "         83.72574276,  77.02596965,  23.60084744,  54.58937626,\n",
       "         56.0357029 ,  85.21150157, 102.72779565,  75.58438992,\n",
       "         41.72529209,  80.39900497,  64.88451279,  52.61178575,\n",
       "         43.32435804,  59.20304046,  38.05259518,  78.18567644,\n",
       "         42.3792402 ,   4.12310563,  48.50773134,  47.4341649 ,\n",
       "         77.1621669 ,  69.8140387 ,  34.40930107,  62.64183905,\n",
       "         50.44799302,  33.13608305,  76.10519036,  67.36467917,\n",
       "         77.38862966,  16.1245155 ,  18.02775638, 101.78899744,\n",
       "         51.66236541,  72.44308111,  36.79673899,  41.23105626,\n",
       "         88.40814442,  77.38862966,  64.32728814,  67.35725648,\n",
       "         26.07680962,  32.01562119,  73.1641989 ,  53.31041174,\n",
       "         47.80167361,  74.33034374,  68.02940541,  23.76972865,\n",
       "        109.04127659,   7.21110255,  26.68332813,  48.37354649,\n",
       "        103.73041984,  75.58438992,  89.28605714, 108.45275469],\n",
       "       [ 72.09022125,  48.38388161,  51.623638  ,  68.60029154,\n",
       "         29.15475947,   2.        ,  39.20459157,  49.72926704,\n",
       "         45.79301257,  19.23538406,  61.39218191,  67.67569726,\n",
       "         49.67896939,  60.40695324,  65.11528238,  28.46049894,\n",
       "         30.        ,  31.89043744,  43.26661531,  16.03121954,\n",
       "         45.27692569,  23.19482701,  54.20332093,  62.39390996,\n",
       "         47.12748667,  57.97413216,  57.45432969,   0.        ,\n",
       "         34.66987165,  26.        ,  50.24937811,  19.20937271,\n",
       "         57.00877125,  43.8634244 ,  32.64965543,  36.67424164,\n",
       "          6.40312424,  31.6227766 ,  65.00769185,  31.40063694,\n",
       "         53.22593353,  46.32493929,  41.10960958,  41.88078318,\n",
       "         26.40075756,  19.6977156 ,  60.21627687,  61.84658438,\n",
       "         57.24508713,  50.91168825,  45.27692569,  65.80273551,\n",
       "         19.02629759,  49.04079934,  10.44030651,  22.20360331,\n",
       "         36.68787266,  42.63801121,  51.623638  ,  24.08318916,\n",
       "         18.35755975,  54.58937626,  18.11077028,  10.44030651,\n",
       "         44.82186966,  25.70992026,  29.06888371,  16.2788206 ,\n",
       "         19.23538406,  81.68843247,  37.48332963,  29.20616373,\n",
       "         66.40783086,  43.27817002,  59.54829972,  44.40720662,\n",
       "         41.18252056,  31.82766093,  59.23681288,  47.29693436,\n",
       "         31.89043744,  66.40783086,  22.02271555,  14.14213562,\n",
       "         73.10950691,  33.61547263,  60.08327554,  33.83784863,\n",
       "         21.54065923,  58.87274412,  59.43904441,  68.24954212,\n",
       "         51.85556865,  64.66065264,  42.72001873,  27.73084925,\n",
       "         46.40043103,  19.23538406,  37.48332963,  51.03920062],\n",
       "       [ 38.32753579,  38.01315562,  82.41965785,  34.05877273,\n",
       "         63.5295207 ,  35.80502758,  54.34151268,  19.92485885,\n",
       "         58.21511831,  20.09975124,  31.57530681,  35.12833614,\n",
       "         63.89053138,  48.01041554,  65.80273551,  10.19803903,\n",
       "         53.00943312,   9.43398113,  55.22680509,  48.46648326,\n",
       "         79.39773297,  49.39635614,  19.6977156 ,  51.03920062,\n",
       "         16.76305461,  76.29547824,  68.00735254,  34.66987165,\n",
       "          0.        ,  10.29563014,  82.8794305 ,  53.26349594,\n",
       "         80.99382693,  11.04536102,  50.35871325,  47.12748667,\n",
       "         28.65309756,  59.68249325,  40.24922359,  64.62197769,\n",
       "         46.09772229,  57.5847202 ,  60.16643583,   7.21110255,\n",
       "         40.31128874,  37.01351105,  57.5847202 ,  92.65527508,\n",
       "         89.02246907,  18.38477631,  55.71355311,  34.        ,\n",
       "         47.20169488,  15.        ,  27.51363298,  17.4642492 ,\n",
       "         67.20119047,  76.4198927 ,  79.17701687,  27.45906044,\n",
       "         30.87069808,  67.06713055,  23.70653918,  38.94868419,\n",
       "         10.81665383,  59.50630219,  55.07267925,  18.78829423,\n",
       "         52.34500931,  78.72102642,   8.54400375,   6.08276253,\n",
       "         34.05877273,  52.0096145 ,  60.16643583,  57.56735186,\n",
       "         73.66138744,   8.06225775,  48.54894438,  34.4818793 ,\n",
       "         53.03772242,  34.05877273,  13.        ,  46.23851209,\n",
       "         71.30918594,  36.        ,  28.        ,  67.17886572,\n",
       "         53.75872022,  26.07680962,  29.61418579,  66.48308055,\n",
       "         65.4599114 ,  74.16872656,  42.57933771,  60.14149982,\n",
       "         59.77457654,  32.        ,  29.20616373,  62.39390996],\n",
       "       [ 46.09772229,  33.30165161,  72.20110802,  43.84062043,\n",
       "         55.15432893,  26.83281573,  52.39274759,  24.18677324,\n",
       "         49.        ,  16.55294536,  36.12478374,  41.76122604,\n",
       "         62.60990337,  44.59820624,  59.09314681,   3.16227766,\n",
       "         48.66210024,  14.31782106,  46.        ,  41.        ,\n",
       "         69.8140387 ,  39.11521443,  28.60069929,  47.38143096,\n",
       "         21.37755833,  66.61080993,  59.30430001,  26.        ,\n",
       "         10.29563014,   0.        ,  72.86288493,  43.829214  ,\n",
       "         70.83784299,  17.88854382,  47.4341649 ,  46.14108798,\n",
       "         20.61552813,  54.        ,  41.97618372,  57.00877125,\n",
       "         40.80441153,  56.93856338,  50.21951812,  17.02938637,\n",
       "         37.69615365,  32.984845  ,  51.4781507 ,  82.41965785,\n",
       "         78.87331615,  28.63564213,  55.22680509,  40.02499219,\n",
       "         37.01351105,  25.23885893,  21.        ,   7.28010989,\n",
       "         57.00877125,  66.70832032,  68.8839604 ,  26.07680962,\n",
       "         20.61552813,  58.03447251,  13.41640786,  29.        ,\n",
       "         21.09502311,  51.54609588,  44.77722635,  12.04159458,\n",
       "         42.63801121,  73.24616031,  17.11724277,   8.06225775,\n",
       "         40.52159918,  43.18564576,  53.31041174,  56.35601121,\n",
       "         63.65532185,  13.15294644,  44.55333882,  30.41381265,\n",
       "         49.24428901,  40.52159918,   8.06225775,  38.83297568,\n",
       "         65.36818798,  27.45906044,  34.20526275,  57.38466694,\n",
       "         43.8634244 ,  32.89376841,  34.13209633,  60.41522987,\n",
       "         64.41273166,  65.76473219,  35.11409973,  50.20956084,\n",
       "         58.5918083 ,  28.46049894,  32.44996148,  61.91122677],\n",
       "       [116.82465493,  77.25283166,   8.60232527, 116.69190203,\n",
       "         32.01562119,  48.54894438,  74.02702209,  92.80086206,\n",
       "         50.15974482,  69.46221995, 102.62553289, 111.01801656,\n",
       "         81.22191822,  86.127812  ,  74.00675645,  74.24957912,\n",
       "         61.03277808,  81.84130986,  50.48762225,  45.12205669,\n",
       "         11.18033989,  35.22782991, 101.13851887,  86.34813258,\n",
       "         91.04943712,  43.01162634,  56.32051136,  50.24937811,\n",
       "         82.8794305 ,  72.86288493,   0.        ,  31.30495168,\n",
       "         30.41381265,  89.87213139,  68.18357573,  76.65507159,\n",
       "         56.60388679,  53.15072906, 101.07917689,  38.32753579,\n",
       "         76.65507159,  82.00609733,  39.20459157,  89.87213139,\n",
       "         68.65857558,  63.60031446,  75.42545989,  14.14213562,\n",
       "          8.        , 100.42410069,  82.0548597 , 108.46658472,\n",
       "         36.12478374,  97.83659847,  60.41522987,  66.48308055,\n",
       "         17.        ,  10.04987562,  19.6977156 ,  72.61542536,\n",
       "         54.03702434,  52.23983155,  60.14149982,  43.93176527,\n",
       "         93.60555539,  37.01351105,  31.30495168,  66.03029608,\n",
       "         31.06444913,  89.45389874,  87.20091743,  78.24321057,\n",
       "        109.62207807,  54.91812087,  71.11258679,  79.        ,\n",
       "          9.21954446,  81.60882305,  83.67795409,  78.79086241,\n",
       "         64.03124237, 109.62207807,  71.40028011,  46.57252409,\n",
       "         82.09750301,  60.8358447 , 103.60019305,  16.55294536,\n",
       "         29.20616373, 103.23274674, 100.95543571,  79.        ,\n",
       "         83.29465769,  61.18823416,  65.1459899 ,  22.8035085 ,\n",
       "         80.02499609,  66.12866247,  86.16263691,  85.0529247 ],\n",
       "       [ 89.55445271,  58.        ,  33.73425559,  87.32124598,\n",
       "         15.5241747 ,  17.69180601,  47.5394573 ,  66.21178143,\n",
       "         43.26661531,  38.27531842,  77.25283166,  84.52810184,\n",
       "         56.64803615,  69.18092223,  66.64082833,  45.79301257,\n",
       "         35.11409973,  51.0881591 ,  41.67733197,  16.4924225 ,\n",
       "         26.17250466,  17.        ,  72.42237223,  70.45565982,\n",
       "         63.95310782,  49.09175083,  54.03702434,  19.20937271,\n",
       "         53.26349594,  43.829214  ,  31.30495168,   0.        ,\n",
       "         43.96589587,  61.58733636,  41.        ,  48.16637832,\n",
       "         25.61249695,  30.8058436 ,  78.64477096,  21.47091055,\n",
       "         60.5309838 ,  55.54277631,  34.6554469 ,  60.44005295,\n",
       "         39.01281841,  33.24154028,  64.19501538,  43.68065934,\n",
       "         38.62641583,  70.03570518,  55.10898293,  82.3468275 ,\n",
       "         13.60147051,  67.94115101,  29.15475947,  38.47076812,\n",
       "         20.02498439,  23.43074903,  36.22154055,  41.43669871,\n",
       "         28.63564213,  50.32891813,  32.69556545,  15.8113883 ,\n",
       "         63.70243323,  15.8113883 ,  19.79898987,  35.38361203,\n",
       "          3.60555128,  83.63013811,  56.63920903,  48.10405388,\n",
       "         83.19254774,  43.8634244 ,  61.84658438,  52.88667129,\n",
       "         22.47220505,  50.99019514,  67.36467917,  58.13776741,\n",
       "         37.94733192,  83.19254774,  41.01219331,  17.11724277,\n",
       "         75.15317691,  41.0487515 ,  76.92203845,  14.76482306,\n",
       "          6.40312424,  76.05918748,  75.3923073 ,  70.77428912,\n",
       "         58.87274412,  60.95900262,  48.66210024,  10.        ,\n",
       "         54.40588203,  35.17101079,  55.02726597,  59.48108943],\n",
       "       [107.80074211,  61.55485359,  21.9317122 , 111.89280585,\n",
       "         53.85164807,  55.00909016,  91.48223871,  84.31488599,\n",
       "         29.20616373,  74.43117626,  91.54780172, 101.04454463,\n",
       "        100.56838469,  67.11929678,  48.76474136,  70.9365914 ,\n",
       "         79.0569415 ,  83.43260753,  31.144823  ,  60.44005295,\n",
       "         40.        ,  34.05877273,  95.77055915,  66.37017402,\n",
       "         83.52843827,  14.03566885,  30.08321791,  57.00877125,\n",
       "         80.99382693,  70.83784299,  30.41381265,  43.96589587,\n",
       "          0.        ,  84.53401682,  84.89994111,  91.59148432,\n",
       "         62.07253821,  73.8241153 ,  86.37129153,  61.05735009,\n",
       "         58.00862005,  99.45853407,  21.63330765,  86.92525525,\n",
       "         81.88406438,  75.53806987,  52.80151513,  25.        ,\n",
       "         27.65863337,  99.3680029 ,  98.95453501,  98.08159868,\n",
       "         38.        ,  95.46203434,  67.0298441 ,  63.5688603 ,\n",
       "         25.05992817,  36.87817783,  10.81665383,  81.0061726 ,\n",
       "         50.28916384,  26.57066051,  57.56735186,  47.04253395,\n",
       "         91.54780172,  57.24508713,  28.01785145,  68.8839604 ,\n",
       "         41.23105626,  62.20128616,  87.64131446,  78.16009212,\n",
       "         99.63934966,  36.12478374,  47.5394573 ,  96.84007435,\n",
       "         29.69848481,  82.71033793,  64.35060217,  64.35060217,\n",
       "         81.90848552,  99.63934966,  72.78049189,  60.87692502,\n",
       "         55.90169944,  48.82622246,  94.40338977,  35.22782991,\n",
       "         38.07886553,  94.86832981,  90.27181177,  53.85164807,\n",
       "        102.78618584,  33.06055051,  48.7954916 ,  34.53983208,\n",
       "         98.37174391,  76.10519036,  94.1328848 , 103.4456379 ],\n",
       "       [ 28.23118843,  33.54101966,  88.52683209,  27.45906044,\n",
       "         73.00684899,  44.72135955,  65.30696747,   9.43398113,\n",
       "         59.20304046,  31.01612484,  20.61552813,  24.33105012,\n",
       "         74.72616677,  41.62931659,  62.51399843,  15.8113883 ,\n",
       "         64.        ,  19.92485885,  56.32051136,  58.52349955,\n",
       "         87.4185335 ,  55.22680509,  11.40175425,  44.77722635,\n",
       "          6.40312424,  78.10889834,  67.74215822,  43.8634244 ,\n",
       "         11.04536102,  17.88854382,  89.87213139,  61.58733636,\n",
       "         84.53401682,   0.        ,  61.40032573,  57.97413216,\n",
       "         38.27531842,  70.45565982,  30.23243292,  74.63243263,\n",
       "         41.77319715,  68.30812543,  63.07138812,   7.07106781,\n",
       "         51.35172831,  48.        ,  53.75872022,  98.59513173,\n",
       "         95.48298278,  18.43908891,  66.40783086,  23.02172887,\n",
       "         53.75872022,  13.15294644,  37.85498646,  23.43074903,\n",
       "         73.55270219,  84.20213774,  84.05355436,  38.47076812,\n",
       "         36.12478374,  67.46851117,  29.73213749,  46.40043103,\n",
       "         11.18033989,  69.28924881,  60.44005295,  28.86173938,\n",
       "         60.21627687,  73.68174808,  16.64331698,  17.        ,\n",
       "         23.19482701,  52.39274759,  57.218878  ,  68.41052551,\n",
       "         80.72174428,  18.68154169,  42.72001873,  29.61418579,\n",
       "         64.07027392,  23.19482701,  23.34523506,  56.32051136,\n",
       "         66.94027188,  36.68787266,  17.02938637,  74.81310046,\n",
       "         61.22091146,  15.29705854,  18.68154169,  62.36986452,\n",
       "         76.24303247,  73.24616031,  41.19465985,  67.47592163,\n",
       "         70.60453243,  43.01162634,  38.94868419,  73.05477397],\n",
       "       [ 87.09190548,  78.0320447 ,  73.02739212,  77.66595136,\n",
       "         36.49657518,  34.20526275,   6.70820393,  70.03570518,\n",
       "         78.23681998,  31.04834939,  81.88406438,  85.0529247 ,\n",
       "         17.02938637,  90.04998612,  97.5807358 ,  50.59644256,\n",
       "          7.61577311,  42.01190308,  75.80237463,  24.51530134,\n",
       "         58.85575588,  53.66563146,  68.02940541,  92.43916919,\n",
       "         66.91038783,  88.63972022,  89.87213139,  32.64965543,\n",
       "         50.35871325,  47.4341649 ,  68.18357573,  41.        ,\n",
       "         84.89994111,  61.40032573,   0.        ,   9.43398113,\n",
       "         32.01562119,  17.49285568,  89.28605714,  31.6227766 ,\n",
       "         84.05355436,  14.56021978,  72.47068373,  56.0357029 ,\n",
       "         10.04987562,  14.76482306,  92.19544457,  82.0548597 ,\n",
       "         76.1642961 ,  58.05170109,  14.14213562,  84.21401309,\n",
       "         49.1934955 ,  59.30430001,  28.3019434 ,  48.3011387 ,\n",
       "         60.8276253 ,  58.30951895,  77.1038261 ,  23.02172887,\n",
       "         50.24937811,  86.82165628,  47.4341649 ,  42.43819035,\n",
       "         56.08029957,  31.25699922,  58.69412236,  35.84689666,\n",
       "         43.68065934, 113.95174417,  47.04253395,  44.55333882,\n",
       "         84.09518417,  75.92759709,  91.93475948,  12.08304597,\n",
       "         61.00819617,  43.0464865 ,  89.35882721,  76.05918748,\n",
       "          5.        ,  84.09518417,  39.56008089,  24.04163056,\n",
       "        105.41821474,  65.29931087,  78.23042886,  53.03772242,\n",
       "         46.84015371,  76.10519036,  79.906195  , 100.49875621,\n",
       "         19.20937271,  97.08243919,  74.51845409,  50.80354318,\n",
       "         13.89244399,  18.97366596,  29.54657341,  18.78829423],\n",
       "       [ 82.09750301,  78.40918314,  81.05553652,  71.44928271,\n",
       "         45.35416188,  38.48376281,   8.24621125,  67.05221846,\n",
       "         82.36504113,  29.68164416,  78.58753082,  80.75270893,\n",
       "         16.76305461,  90.21086409, 100.12492197,  49.24428901,\n",
       "         17.        ,  38.07886553,  79.75587753,  32.        ,\n",
       "         67.68308504,  59.13543777,  63.28506933,  92.80086206,\n",
       "         63.89053138,  94.24436323,  94.02127419,  36.67424164,\n",
       "         47.12748667,  46.14108798,  76.65507159,  48.16637832,\n",
       "         91.59148432,  57.97413216,   9.43398113,   0.        ,\n",
       "         34.40930107,  26.92582404,  87.09190548,  40.85339643,\n",
       "         85.0411665 ,  10.81665383,  77.62087348,  51.97114584,\n",
       "         10.29563014,  17.        ,  94.06912352,  90.35485598,\n",
       "         84.59314393,  52.08646657,   9.21954446,  80.23091673,\n",
       "         54.70831747,  54.03702434,  29.83286778,  48.41487375,\n",
       "         68.18357573,  66.91038783,  84.38009244,  20.1246118 ,\n",
       "         52.80151513,  91.24143795,  48.7954916 ,  47.01063709,\n",
       "         51.2445119 ,  40.02499219,  64.56004957,  35.60898763,\n",
       "         50.48762225, 116.04309544,  42.42640687,  41.78516483,\n",
       "         79.906195  ,  79.32212806,  94.36630755,  10.44030651,\n",
       "         69.11584478,  39.29376541,  89.81091248,  76.02631123,\n",
       "         14.4222051 ,  79.906195  ,  38.07886553,  31.06444913,\n",
       "        107.62899238,  67.26812024,  74.33034374,  61.07372594,\n",
       "         53.60037313,  72.00694411,  76.65507159, 102.6498904 ,\n",
       "         18.38477631, 101.21264743,  76.4198927 ,  58.13776741,\n",
       "         12.64911064,  19.10497317,  22.36067977,  15.8113883 ],\n",
       "       [ 66.48308055,  46.5188134 ,  57.7754273 ,  62.42595614,\n",
       "         34.88552709,   8.06225775,  38.20994635,  44.72135955,\n",
       "         48.33218389,  13.        ,  56.56854249,  62.36184731,\n",
       "         48.83646179,  58.6003413 ,  65.8559033 ,  23.34523506,\n",
       "         30.87069808,  25.49509757,  45.61797891,  20.39607805,\n",
       "         51.66236541,  28.01785145,  48.3011387 ,  60.8276253 ,\n",
       "         41.97618372,  61.98386887,  59.93329626,   6.40312424,\n",
       "         28.65309756,  20.61552813,  56.60388679,  25.61249695,\n",
       "         62.07253821,  38.27531842,  32.01562119,  34.40930107,\n",
       "          0.        ,  34.36568055,  61.13100686,  36.40054945,\n",
       "         52.15361924,  44.68780594,  44.91102315,  35.84689666,\n",
       "         24.20743687,  17.69180601,  60.20797289,  68.02940541,\n",
       "         63.5295207 ,  44.55333882,  43.41658669,  60.63827174,\n",
       "         24.18677324,  42.80186912,   5.09901951,  18.11077028,\n",
       "         42.72001873,  49.04079934,  57.27128425,  19.10497317,\n",
       "         18.43908891,  57.38466694,  15.65247584,  15.03329638,\n",
       "         38.60051813,  31.01612484,  34.05877273,  10.        ,\n",
       "         25.55386468,  82.03657721,  31.11269837,  23.02172887,\n",
       "         61.13100686,  44.94441011,  60.14149982,  43.13930922,\n",
       "         47.50789408,  25.45584412,  57.70615219,  44.94441011,\n",
       "         32.24903099,  61.13100686,  15.8113883 ,  18.24828759,\n",
       "         73.53910524,  33.30165161,  54.81788029,  40.22437072,\n",
       "         27.73084925,  53.45091206,  54.58937626,  68.59300256,\n",
       "         50.93132631,  67.08203932,  42.52058325,  34.        ,\n",
       "         45.254834  ,  15.65247584,  32.06243908,  49.57822102],\n",
       "       [ 97.86214794,  80.00624976,  59.03388857,  90.47651629,\n",
       "         21.21320344,  32.31098884,  21.84032967,  78.05767099,\n",
       "         72.9177619 ,  39.62322551,  90.04998612,  94.76286192,\n",
       "         28.0713377 ,  92.0271699 ,  94.86832981,  57.00877125,\n",
       "         10.        ,  52.88667129,  70.9365914 ,  16.64331698,\n",
       "         43.01162634,  46.66904756,  78.85429601,  93.9840412 ,\n",
       "         75.10659092,  79.88116173,  84.14867795,  31.6227766 ,\n",
       "         59.68249325,  54.        ,  53.15072906,  30.8058436 ,\n",
       "         73.8241153 ,  70.45565982,  17.49285568,  26.92582404,\n",
       "         34.36568055,   0.        ,  95.4253635 ,  15.03329638,\n",
       "         84.69356528,  29.42787794,  65.19202405,  66.28725368,\n",
       "         23.60084744,  23.40939982,  90.91754506,  67.26812024,\n",
       "         61.13100686,  70.9365914 ,  29.83286778,  93.43446901,\n",
       "         42.44997055,  71.16881339,  33.        ,  52.46903849,\n",
       "         48.84669897,  43.10452412,  64.84597135,  34.92849839,\n",
       "         49.76946855,  80.62257748,  49.47726751,  38.58756276,\n",
       "         67.44627492,  16.76305461,  50.44799302,  42.01190308,\n",
       "         34.20526275, 111.77208954,  58.52349955,  53.60037313,\n",
       "         93.64827815,  72.20110802,  89.58794562,  26.30589288,\n",
       "         47.07440918,  53.60037313,  90.82400564,  78.84795495,\n",
       "         12.52996409,  93.64827815,  47.16990566,  17.88854382,\n",
       "        103.17460928,  64.88451279,  87.46427842,  39.56008089,\n",
       "         37.20215048,  85.70880935,  88.05112151,  98.47842403,\n",
       "         30.14962686,  91.21951546,  73.79024326,  39.35733731,\n",
       "         27.07397274,  28.46049894,  45.        ,  32.01562119],\n",
       "       [ 28.01785145,  24.8394847 ,  97.24710793,  41.23105626,\n",
       "         92.77930804,  65.06919394,  93.92017888,  20.80865205,\n",
       "         57.28001397,  58.24087911,  13.        ,  21.02379604,\n",
       "        103.81714695,  22.47220505,  48.10405388,  38.83297568,\n",
       "         90.60905032,  49.64876635,  55.22680509,  81.        ,\n",
       "        101.84301645,  66.48308055,  31.6227766 ,  25.        ,\n",
       "         23.85372088,  75.82216035,  61.03277808,  65.00769185,\n",
       "         40.24922359,  41.97618372, 101.07917689,  78.64477096,\n",
       "         86.37129153,  30.23243292,  89.28605714,  87.09190548,\n",
       "         61.13100686,  95.4253635 ,   0.        ,  96.18731725,\n",
       "         29.41088234,  97.69339793,  65.60487787,  37.20215048,\n",
       "         79.40403012,  74.95331881,  39.39543121, 106.23088063,\n",
       "        104.80935073,  45.45327271,  95.85405573,  18.11077028,\n",
       "         67.05221846,  40.36087214,  62.64982043,  43.0464865 ,\n",
       "         84.09518417,  98.08159868,  89.62700486,  67.06713055,\n",
       "         50.009999  ,  62.62587325,  47.09564736,  62.96824597,\n",
       "         40.36087214,  90.27181177,  69.7782201 ,  53.93514624,\n",
       "         76.15773106,  53.03772242,  46.87216658,  45.31004304,\n",
       "         20.09975124,  50.24937811,  44.72135955,  97.49871794,\n",
       "         92.70382948,  48.3011387 ,  25.07987241,  22.47220505,\n",
       "         91.21951546,  20.09975124,  49.72926704,  79.00632886,\n",
       "         48.83646179,  40.24922359,  19.6977156 ,  88.86506625,\n",
       "         75.96051606,  22.36067977,  13.89244399,  45.607017  ,\n",
       "        105.47511555,  64.00781202,  37.64306045,  81.27115109,\n",
       "         99.72462083,  70.34202158,  69.11584478, 102.55242562],\n",
       "       [102.78618584,  77.64663547,  44.64302857,  97.52948272,\n",
       "          7.21110255,  31.144823  ,  36.67424164,  81.0246876 ,\n",
       "         64.66065264,  45.65084884,  92.76313923,  98.762341  ,\n",
       "         43.01162634,  89.26925563,  88.10221337,  59.66573556,\n",
       "         24.04163056,  59.53990259,  63.13477647,  16.15549442,\n",
       "         28.        ,  38.47076812,  84.30895563,  90.80198236,\n",
       "         78.33900689,  68.68041933,  75.21303079,  31.40063694,\n",
       "         64.62197769,  57.00877125,  38.32753579,  21.47091055,\n",
       "         61.05735009,  74.63243263,  31.6227766 ,  40.85339643,\n",
       "         36.40054945,  15.03329638,  96.18731725,   0.        ,\n",
       "         81.0246876 ,  44.40720662,  55.6057551 ,  71.69379332,\n",
       "         35.22782991,  32.52691193,  85.44003745,  52.46903849,\n",
       "         46.27094121,  78.54934755,  44.72135955,  97.01546269,\n",
       "         34.92849839,  77.82673063,  37.16180835,  53.60037313,\n",
       "         36.05551275,  28.28427125,  51.42956348,  43.93176527,\n",
       "         47.16990566,  71.40028011,  49.09175083,  34.36568055,\n",
       "         73.79024326,   6.08276253,  40.80441153,  45.88027899,\n",
       "         25.05992817, 105.09519494,  65.36818798,  58.69412236,\n",
       "         97.52948272,  65.30696747,  83.25863319,  41.30375286,\n",
       "         32.89376841,  59.94163828,  87.66413178,  77.23341246,\n",
       "         26.92582404,  97.52948272,  51.623638  ,  18.38477631,\n",
       "         96.60745313,  61.18823416,  91.21403401,  25.94224354,\n",
       "         27.45906044,  89.84430978,  90.80198236,  92.19544457,\n",
       "         45.04442252,  82.00609733,  69.37578828,  27.58622845,\n",
       "         42.10700654,  36.87817783,  55.97320788,  47.04253395],\n",
       "       [ 55.02726597,   8.24621125,  71.51223672,  64.38167441,\n",
       "         75.95393341,  52.39274759,  90.        ,  36.        ,\n",
       "         28.8444102 ,  55.86591089,  37.94733192,  47.75981575,\n",
       "        100.60318086,   9.48683298,  21.        ,  38.27531842,\n",
       "         82.85529555,  54.20332093,  27.29468813,  68.35202996,\n",
       "         79.63039621,  45.        ,  50.009999  ,  10.        ,\n",
       "         37.12142239,  46.66904756,  31.6227766 ,  53.22593353,\n",
       "         46.09772229,  40.80441153,  76.65507159,  60.5309838 ,\n",
       "         58.00862005,  41.77319715,  84.05355436,  85.0411665 ,\n",
       "         52.15361924,  84.69356528,  29.41088234,  81.0246876 ,\n",
       "          0.        ,  95.77577982,  38.48376281,  47.80167361,\n",
       "         75.43208866,  69.4046108 ,  12.04159458,  79.62411695,\n",
       "         79.12016178,  60.20797289,  94.26027795,  44.59820624,\n",
       "         47.16990566,  54.91812087,  55.80322571,  36.76955262,\n",
       "         60.20797289,  75.66372975,  62.60990337,  65.76473219,\n",
       "         34.92849839,  33.30165161,  36.61966685,  46.84015371,\n",
       "         52.63078947,  74.95331881,  46.38965402,  49.51767361,\n",
       "         57.31491952,  32.64965543,  54.62600113,  48.02082881,\n",
       "         46.4865572 ,  22.36067977,  16.2788206 ,  94.64142856,\n",
       "         69.23149572,  52.83937925,   7.07106781,  12.16552506,\n",
       "         84.38009244,  46.4865572 ,  48.27007354,  66.85057965,\n",
       "         25.29822128,  19.92485885,  42.95346319,  67.18630813,\n",
       "         56.08029957,  44.55333882,  37.36308338,  20.61552813,\n",
       "        102.61578826,  34.92849839,  12.        ,  60.03332408,\n",
       "         96.8297475 ,  66.06814664,  73.23933369, 100.76705811],\n",
       "       [ 91.54780172,  89.20201791,  87.20665112,  80.02499609,\n",
       "         50.03998401,  48.02082881,   8.06225775,  77.49193506,\n",
       "         92.11405973,  40.49691346,  88.88756943,  90.60905032,\n",
       "          7.07106781, 101.01980004, 110.53506231,  60.03332408,\n",
       "         21.02379604,  48.38388161,  89.58794562,  39.05124838,\n",
       "         72.24956747,  68.02940541,  72.99315036, 103.60019305,\n",
       "         74.33034374, 103.07764064, 103.77379245,  46.32493929,\n",
       "         57.5847202 ,  56.93856338,  82.00609733,  55.54277631,\n",
       "         99.45853407,  68.30812543,  14.56021978,  10.81665383,\n",
       "         44.68780594,  29.42787794,  97.69339793,  44.40720662,\n",
       "         95.77577982,   0.        ,  86.76404785,  62.09669879,\n",
       "         20.51828453,  27.01851217, 104.65180362,  96.00520819,\n",
       "         90.00555538,  61.07372594,   2.        ,  90.24411338,\n",
       "         63.56099433,  63.50590524,  40.31128874,  59.20304046,\n",
       "         75.31268154,  72.02777242,  91.59148432,  30.88689042,\n",
       "         63.12685641, 100.84641788,  59.41380311,  56.43580424,\n",
       "         61.        ,  45.        ,  73.1641989 ,  46.40043103,\n",
       "         58.24087911, 126.58988901,  52.39274759,  52.39274759,\n",
       "         89.82204629,  89.40357935, 104.80458005,   3.16227766,\n",
       "         75.16648189,  49.64876635, 100.60318086,  86.83893136,\n",
       "         18.02775638,  89.82204629,  48.87739764,  38.60051813,\n",
       "        118.13974776,  77.79460136,  84.40379138,  67.26812024,\n",
       "         61.40032573,  82.        ,  86.97700846, 113.17243481,\n",
       "          8.06225775, 110.98198052,  86.97700846,  65.30696747,\n",
       "          3.60555128,  29.73213749,  31.06444913,   5.        ],\n",
       "       [ 86.21484791,  40.80441153,  33.24154028,  90.35485598,\n",
       "         48.82622246,  39.2173431 ,  79.17701687,  62.68173578,\n",
       "         11.        ,  56.14267539,  70.09279564,  79.51100553,\n",
       "         89.18520057,  47.92702787,  35.35533906,  50.        ,\n",
       "         67.95586803,  63.50590524,  11.40175425,  49.40647731,\n",
       "         44.40720662,  18.86796226,  74.24284477,  47.75981575,\n",
       "         61.91122677,  17.11724277,  19.72308292,  41.10960958,\n",
       "         60.16643583,  50.21951812,  39.20459157,  34.6554469 ,\n",
       "         21.63330765,  63.07138812,  72.47068373,  77.62087348,\n",
       "         44.91102315,  65.19202405,  65.60487787,  55.6057551 ,\n",
       "         38.48376281,  86.76404785,   0.        ,  65.78753681,\n",
       "         67.41661516,  60.74537019,  36.22154055,  41.14608122,\n",
       "         40.80441153,  78.44743463,  85.90692638,  76.57675888,\n",
       "         23.32380758,  74.33034374,  50.009999  ,  42.95346319,\n",
       "         24.33105012,  40.44749683,  24.18677324,  63.95310782,\n",
       "         30.14962686,  15.8113883 ,  37.33630941,  30.6757233 ,\n",
       "         70.51950085,  50.32891813,  14.86606875,  50.009999  ,\n",
       "         31.11269837,  51.66236541,  67.26812024,  57.87054518,\n",
       "         78.10249676,  16.15549442,  32.        ,  84.53401682,\n",
       "         33.13608305,  62.64982043,  45.31004304,  43.27817002,\n",
       "         70.49113419,  78.10249676,  53.15072906,  49.09175083,\n",
       "         43.73785546,  27.20294102,  72.80109889,  33.83784863,\n",
       "         28.31960452,  73.23933369,  68.76772499,  40.19950248,\n",
       "         91.41662868,  26.40075756,  28.01785145,  28.65309756,\n",
       "         86.3539229 ,  60.16643583,  76.32168761,  91.24143795],\n",
       "       [ 31.57530681,  39.56008089,  89.20201791,  26.90724809,\n",
       "         70.71067812,  43.01162634,  59.53990259,  16.40121947,\n",
       "         62.96824597,  26.68332813,  26.92582404,  29.01723626,\n",
       "         68.65857558,  48.3011387 ,  68.24954212,  16.1245155 ,\n",
       "         59.21148537,  14.03566885,  60.01666435,  55.54277631,\n",
       "         86.55634003,  56.0357029 ,  12.64911064,  51.42956348,\n",
       "         13.45362405,  81.49233093,  72.1734023 ,  41.88078318,\n",
       "          7.21110255,  17.02938637,  89.87213139,  60.44005295,\n",
       "         86.92525525,   7.07106781,  56.0357029 ,  51.97114584,\n",
       "         35.84689666,  66.28725368,  37.20215048,  71.69379332,\n",
       "         47.80167361,  62.09669879,  65.78753681,   0.        ,\n",
       "         46.01086828,  43.28972164,  59.66573556,  99.40321926,\n",
       "         95.90099061,  13.03840481,  60.16643583,  28.28427125,\n",
       "         54.03702434,   8.54400375,  34.53983208,  23.85372088,\n",
       "         74.02702209,  83.5463943 ,  85.58621384,  33.01514804,\n",
       "         37.21558813,  71.56814934,  30.23243292,  45.96737974,\n",
       "          5.        ,  66.64082833,  61.58733636,  25.94224354,\n",
       "         59.46427499,  80.05623024,   9.8488578 ,  13.        ,\n",
       "         28.0713377 ,  56.43580424,  62.80127387,  62.36986452,\n",
       "         80.65977932,  13.        ,  49.24428901,  35.73513677,\n",
       "         59.03388857,  28.0713377 ,  20.1246118 ,  53.31041174,\n",
       "         73.08214556,  40.44749683,  22.36067977,  74.27651042,\n",
       "         60.81118318,  20.09975124,  25.07987241,  68.41052551,\n",
       "         70.09279564,  78.00640999,  46.01086828,  67.17886572,\n",
       "         64.5368112 ,  38.20994635,  32.20248438,  66.76076692],\n",
       "       [ 77.1621669 ,  69.0651866 ,  72.44308111,  68.15423685,\n",
       "         38.48376281,  28.23118843,  14.76482306,  60.01666435,\n",
       "         72.06941099,  21.1896201 ,  71.84705979,  75.02666193,\n",
       "         25.23885893,  80.99382693,  90.02777349,  40.85339643,\n",
       "         14.31782106,  32.        ,  69.46221995,  23.53720459,\n",
       "         60.40695324,  49.04079934,  58.07753438,  83.48652586,\n",
       "         56.88585061,  84.11896338,  83.72574276,  26.40075756,\n",
       "         40.31128874,  37.69615365,  68.65857558,  39.01281841,\n",
       "         81.88406438,  51.35172831,  10.04987562,  10.29563014,\n",
       "         24.20743687,  23.60084744,  79.40403012,  35.22782991,\n",
       "         75.43208866,  20.51828453,  67.41661516,  46.01086828,\n",
       "          0.        ,   6.70820393,  84.14867795,  82.03657721,\n",
       "         76.4852927 ,  48.50773134,  19.20937271,  74.16872656,\n",
       "         44.64302857,  49.49747468,  19.79898987,  39.11521443,\n",
       "         59.        ,  59.20304046,  75.05997602,  13.        ,\n",
       "         42.63801121,  80.95060222,  38.94868419,  36.76955262,\n",
       "         46.17358552,  33.10589071,  54.5710546 ,  26.41968963,\n",
       "         41.0487515 , 106.07544485,  37.12142239,  34.525353  ,\n",
       "         74.06078585,  69.0651866 ,  84.29116205,  19.20937271,\n",
       "         60.67124525,  33.01514804,  80.44874144,  66.88796603,\n",
       "         13.34166406,  74.06078585,  29.73213749,  22.20360331,\n",
       "         97.62171889,  57.28001397,  68.18357573,  52.61178575,\n",
       "         44.10215414,  66.06814664,  69.87131028,  92.65527508,\n",
       "         27.20294102,  90.91754506,  66.46803743,  49.01020302,\n",
       "         21.40093456,   9.43398113,  21.40093456,  25.45584412],\n",
       "       [ 74.81310046,  63.28506933,  66.91038783,  67.06713055,\n",
       "         34.66987165,  21.54065923,  20.61552813,  56.22277119,\n",
       "         65.36818798,  17.02938637,  68.18357573,  72.11102551,\n",
       "         31.2409987 ,  75.29276194,  83.5463943 ,  36.138622  ,\n",
       "         16.        ,  29.61418579,  62.76941931,  18.78829423,\n",
       "         55.94640292,  42.44997055,  55.73149917,  77.69813383,\n",
       "         53.15072906,  77.49193506,  77.02596965,  19.6977156 ,\n",
       "         37.01351105,  32.984845  ,  63.60031446,  33.24154028,\n",
       "         75.53806987,  48.        ,  14.76482306,  17.        ,\n",
       "         17.69180601,  23.40939982,  74.95331881,  32.52691193,\n",
       "         69.4046108 ,  27.01851217,  60.74537019,  43.28972164,\n",
       "          6.70820393,   0.        ,  77.83315489,  76.68767828,\n",
       "         71.30918594,  47.5394573 ,  25.8069758 ,  71.0070419 ,\n",
       "         38.07886553,  47.80167361,  13.60147051,  33.54101966,\n",
       "         53.08483776,  54.4242593 ,  69.        ,  11.66190379,\n",
       "         36.12478374,  74.24284477,  32.80243893,  30.08321791,\n",
       "         44.14748011,  29.41088234,  48.05205511,  21.1896201 ,\n",
       "         35.0142828 ,  99.70456359,  35.17101079,  31.        ,\n",
       "         71.06335202,  62.42595614,  77.83315489,  25.45584412,\n",
       "         55.31726674,  30.41381265,  74.62573283,  61.29437168,\n",
       "         16.2788206 ,  71.06335202,  25.3179778 ,  17.08800749,\n",
       "         91.21951546,  50.93132631,  65.00769185,  47.29693436,\n",
       "         38.        ,  63.07138812,  66.18912297,  86.2670273 ,\n",
       "         33.30165161,  84.21995013,  60.14149982,  43.18564576,\n",
       "         27.58622845,   5.09901951,  23.60084744,  31.89043744],\n",
       "       [ 66.21933252,  20.22374842,  69.23149572,  76.23647421,\n",
       "         79.69943538,  59.07622195,  98.41239759,  48.01041554,\n",
       "         25.3179778 ,  65.60487787,  49.24428901,  58.94064811,\n",
       "        109.04127659,  17.        ,   9.05538514,  49.1934955 ,\n",
       "         90.21086409,  65.30696747,  25.01999201,  74.30343195,\n",
       "         80.02499609,  47.5394573 ,  62.03224968,  15.        ,\n",
       "         49.16299421,  39.96248241,  23.60084744,  60.21627687,\n",
       "         57.5847202 ,  51.4781507 ,  75.42545989,  64.19501538,\n",
       "         52.80151513,  53.75872022,  92.19544457,  94.06912352,\n",
       "         60.20797289,  90.91754506,  39.39543121,  85.44003745,\n",
       "         12.04159458, 104.65180362,  36.22154055,  59.66573556,\n",
       "         84.14867795,  77.83315489,   0.        ,  76.24303247,\n",
       "         76.68767828,  72.18032973, 103.24727599,  55.78530272,\n",
       "         50.59644256,  66.91038783,  64.35060217,  46.61544808,\n",
       "         60.        ,  76.02631123,  59.20304046,  75.43208866,\n",
       "         42.01190308,  26.41968963,  45.27692569,  52.35456045,\n",
       "         64.5368112 ,  79.47955712,  47.38143096,  59.03388857,\n",
       "         60.7289058 ,  22.02271555,  66.12866247,  59.03388857,\n",
       "         57.72347876,  21.09502311,   5.65685425, 103.27632836,\n",
       "         69.007246  ,  63.97655821,  14.31782106,  24.18677324,\n",
       "         92.00543462,  57.72347876,  58.52349955,  73.06161783,\n",
       "         13.89244399,  26.90724809,  54.58937626,  68.35934464,\n",
       "         58.94064811,  56.32051136,  48.83646179,   8.94427191,\n",
       "        111.12605455,  25.        ,  17.69180601,  61.81423784,\n",
       "        105.41821474,  74.96665926,  83.86298349, 109.60383205],\n",
       "       [124.48293056,  81.63332653,  10.29563014, 125.87692402,\n",
       "         46.09772229,  60.00833275,  88.        , 100.41912169,\n",
       "         51.26402247,  81.0246876 , 109.34349546, 118.25819211,\n",
       "         95.33624704,  89.05054744,  73.1641989 ,  83.40863265,\n",
       "         75.        ,  92.66067127,  52.39274759,  58.54912467,\n",
       "         25.        ,  43.41658669, 109.98636279,  88.76936408,\n",
       "         99.00505038,  39.01281841,  54.58937626,  61.84658438,\n",
       "         92.65527508,  82.41965785,  14.14213562,  43.68065934,\n",
       "         25.        ,  98.59513173,  82.0548597 ,  90.35485598,\n",
       "         68.02940541,  67.26812024, 106.23088063,  52.46903849,\n",
       "         79.62411695,  96.00520819,  41.14608122,  99.40321926,\n",
       "         82.03657721,  76.68767828,  76.24303247,   0.        ,\n",
       "          6.32455532, 110.67520047,  96.00520819, 115.52056094,\n",
       "         45.48626166, 107.64757313,  72.23572523,  75.60423269,\n",
       "         25.55386468,  24.18677324,  17.08800749,  85.07055895,\n",
       "         62.48199741,  50.80354318,  69.20260111,  54.20332093,\n",
       "        103.46980236,  51.00980298,  38.20994635,  76.94153625,\n",
       "         42.72001873,  87.14355972,  97.75479528,  88.50988645,\n",
       "        116.84605256,  57.27128425,  71.30918594,  93.02150289,\n",
       "         21.37755833,  92.28217596,  86.40601831,  83.76156637,\n",
       "         78.        , 116.84605256,  81.98780397,  59.8414572 ,\n",
       "         80.62257748,  66.4003012 , 111.07204869,  29.42787794,\n",
       "         40.31128874, 111.01801656, 107.81465578,  78.26237921,\n",
       "         97.41663102,  58.03447251,  68.9637586 ,  34.17601498,\n",
       "         94.08506789,  78.84795495,  98.67117107,  99.12618221],\n",
       "       [121.91800523,  80.49844719,   7.61577311, 122.57650672,\n",
       "         40.01249805,  55.47071299,  82.02438662,  97.83659847,\n",
       "         51.41984053,  76.47875522, 107.20074627, 115.88356225,\n",
       "         89.20201791,  88.60022573,  74.33034374,  80.05623024,\n",
       "         69.02897942,  88.50988645,  52.20153254,  52.95280918,\n",
       "         18.68154169,  40.31128874, 106.83164325,  88.54377448,\n",
       "         96.26006441,  41.30375286,  56.0357029 ,  57.24508713,\n",
       "         89.02246907,  78.87331615,   8.        ,  38.62641583,\n",
       "         27.65863337,  95.48298278,  76.1642961 ,  84.59314393,\n",
       "         63.5295207 ,  61.13100686, 104.80935073,  46.27094121,\n",
       "         79.12016178,  90.00555538,  40.80441153,  95.90099061,\n",
       "         76.4852927 ,  71.30918594,  76.68767828,   6.32455532,\n",
       "          0.        , 106.83164325,  90.04998612, 113.22985472,\n",
       "         41.86884283, 104.01922899,  67.54257916,  72.24956747,\n",
       "         21.9317122 ,  18.02775638,  18.        ,  80.05623024,\n",
       "         59.39696962,  52.08646657,  65.8559033 ,  50.21951812,\n",
       "         99.80981916,  45.01110974,  35.60898763,  72.71863585,\n",
       "         38.01315562,  89.0056178 ,  93.74433316,  84.62860037,\n",
       "        114.47707194,  56.92099788,  72.00694411,  87.        ,\n",
       "         16.15549442,  88.20430828,  86.03487665,  82.36504113,\n",
       "         72.02777242, 114.47707194,  77.93587107,  54.34151268,\n",
       "         82.09750301,  64.66065264, 108.5771615 ,  24.04163056,\n",
       "         35.84689666, 108.37435121, 105.60303026,  79.40403012,\n",
       "         91.26883367,  60.13318551,  68.02940541,  29.52964612,\n",
       "         88.02272434,  73.68174808,  93.63759929,  93.04837452],\n",
       "       [ 30.8058436 ,  51.97114584, 100.40418318,  19.6468827 ,\n",
       "         78.60025445,  52.34500931,  60.20797289,  25.94224354,\n",
       "         75.95393341,  33.01514804,  33.24154028,  31.30495168,\n",
       "         68.02940541,  59.80802622,  80.89499366,  28.46049894,\n",
       "         62.64183905,  19.20937271,  72.99315036,  62.68173578,\n",
       "         96.17692031,  67.60177512,  14.2126704 ,  62.96824597,\n",
       "         23.76972865,  94.36630755,  85.21150157,  50.91168825,\n",
       "         18.38477631,  28.63564213, 100.42410069,  70.03570518,\n",
       "         99.3680029 ,  18.43908891,  58.05170109,  52.08646657,\n",
       "         44.55333882,  70.9365914 ,  45.45327271,  78.54934755,\n",
       "         60.20797289,  61.07372594,  78.44743463,  13.03840481,\n",
       "         48.50773134,  47.5394573 ,  72.18032973, 110.67520047,\n",
       "        106.83164325,   0.        ,  59.07622195,  31.90611227,\n",
       "         65.19202405,   5.38516481,  42.01190308,  35.84689666,\n",
       "         85.14693183,  93.43446901,  97.49358953,  36.05551275,\n",
       "         49.24428901,  84.59314393,  42.04759208,  56.61271942,\n",
       "          8.06225775,  74.06078585,  73.35529974,  34.6554469 ,\n",
       "         69.52697318,  92.04890005,  13.45362405,  22.20360331,\n",
       "         30.88689042,  69.46221995,  75.53806987,  62.        ,\n",
       "         91.21403401,  19.10497317,  61.03277808,  48.05205511,\n",
       "         61.84658438,  30.88689042,  29.06888371,  60.46486583,\n",
       "         85.37564055,  53.46026562,  27.01851217,  84.3860178 ,\n",
       "         71.21797526,  24.20743687,  31.82766093,  80.8084154 ,\n",
       "         69.11584478,  91.02197537,  59.        ,  77.62087348,\n",
       "         64.00781202,  42.54409477,  30.01666204,  65.27633568],\n",
       "       [ 89.56003573,  87.6184912 ,  87.09190548,  78.02563681,\n",
       "         50.15974482,  47.01063709,   8.06225775,  75.61084578,\n",
       "         91.0659102 ,  38.83297568,  86.97700846,  88.64536085,\n",
       "          9.05538514,  99.40321926, 109.22453937,  58.30951895,\n",
       "         21.02379604,  46.4865572 ,  88.50988645,  38.63935817,\n",
       "         72.44308111,  67.23094526,  71.02112362, 102.00490184,\n",
       "         72.44998275, 102.31813134, 102.72779565,  45.27692569,\n",
       "         55.71355311,  55.22680509,  82.0548597 ,  55.10898293,\n",
       "         98.95453501,  66.40783086,  14.14213562,   9.21954446,\n",
       "         43.41658669,  29.83286778,  95.85405573,  44.72135955,\n",
       "         94.26027795,   2.        ,  85.90692638,  60.16643583,\n",
       "         19.20937271,  25.8069758 , 103.24727599,  96.00520819,\n",
       "         90.04998612,  59.07622195,   0.        ,  88.29496022,\n",
       "         62.76941931,  61.52235366,  38.94868419,  57.62811814,\n",
       "         74.96665926,  72.11102551,  91.24143795,  29.15475947,\n",
       "         61.84658438,  99.84988733,  57.98275606,  55.47071299,\n",
       "         59.03388857,  45.04442252,  72.44998275,  44.82186966,\n",
       "         57.72347876, 125.20782723,  50.44799302,  50.56678752,\n",
       "         87.86353055,  88.23264702, 103.47946656,   4.24264069,\n",
       "         75.05997602,  47.75981575,  99.02019996,  85.21150157,\n",
       "         18.02775638,  87.86353055,  47.16990566,  38.07886553,\n",
       "        116.77756634,  76.4198927 ,  82.46211251,  67.11929678,\n",
       "         60.87692502,  80.04998438,  85.07055895, 111.80339887,\n",
       "         10.04987562, 109.93179704,  85.58621384,  64.93843238,\n",
       "          5.38516481,  28.28427125,  29.06888371,   6.70820393],\n",
       "       [ 10.44030651,  38.01315562, 105.89145386,  23.40939982,\n",
       "         94.86832981,  66.40783086,  87.82368701,  16.15549442,\n",
       "         69.89277502,  54.03702434,   6.70820393,   3.16227766,\n",
       "         96.88137076,  39.45883931,  64.76109943,  37.36308338,\n",
       "         87.00574694,  42.29657197,  67.42403132,  81.0246876 ,\n",
       "        107.42439202,  73.23933369,  17.88854382,  42.29657197,\n",
       "         18.68154169,  89.04493248,  75.58438992,  65.80273551,\n",
       "         34.        ,  40.02499219, 108.46658472,  82.3468275 ,\n",
       "         98.08159868,  23.02172887,  84.21401309,  80.23091673,\n",
       "         60.63827174,  93.43446901,  18.11077028,  97.01546269,\n",
       "         44.59820624,  90.24411338,  76.57675888,  28.28427125,\n",
       "         74.16872656,  71.0070419 ,  55.78530272, 115.52056094,\n",
       "        113.22985472,  31.90611227,  88.29496022,   0.        ,\n",
       "         72.71863585,  27.73084925,  60.67124525,  44.01136217,\n",
       "         91.60785992, 103.94229168,  99.70456359,  61.20457499,\n",
       "         54.70831747,  76.53757247,  49.65883607,  66.64082833,\n",
       "         29.41088234,  91.48223871,  77.62087348,  51.623638  ,\n",
       "         80.49844719,  71.        ,  37.85498646,  40.01249805,\n",
       "          2.        ,  62.68173578,  60.7289058 ,  90.60905032,\n",
       "         99.5690715 ,  41.19465985,  41.77319715,  34.4818793 ,\n",
       "         87.02298547,   2.        ,  46.27094121,  78.85429601,\n",
       "         66.37017402,  49.51767361,   6.        ,  94.51454914,\n",
       "         81.0061726 ,   8.24621125,   7.81024968,  62.80127387,\n",
       "         98.27003612,  79.47955712,  49.92995093,  86.95401083,\n",
       "         92.76313923,  66.        ,  59.77457654,  94.83142939],\n",
       "       [ 80.80222769,  45.17742799,  35.22782991,  80.72174428,\n",
       "         29.12043956,  17.02938637,  55.90169944,  56.8594759 ,\n",
       "         30.47950131,  36.87817783,  67.11929678,  75.16648189,\n",
       "         65.8634952 ,  56.00892786,  53.23532662,  38.20994635,\n",
       "         44.65422712,  47.42362281,  28.60069929,  26.2488095 ,\n",
       "         34.92849839,   4.47213595,  65.05382387,  57.14017851,\n",
       "         55.        ,  39.56008089,  41.72529209,  19.02629759,\n",
       "         47.20169488,  37.01351105,  36.12478374,  13.60147051,\n",
       "         38.        ,  53.75872022,  49.1934955 ,  54.70831747,\n",
       "         24.18677324,  42.44997055,  67.05221846,  34.92849839,\n",
       "         47.16990566,  63.56099433,  23.32380758,  54.03702434,\n",
       "         44.64302857,  38.07886553,  50.59644256,  45.48626166,\n",
       "         41.86884283,  65.19202405,  62.76941931,  72.71863585,\n",
       "          0.        ,  62.20128616,  29.06888371,  30.41381265,\n",
       "         20.        ,  31.30495168,  33.24154028,  43.01162634,\n",
       "         18.02775638,  38.28837944,  24.04163056,   9.21954446,\n",
       "         58.00862005,  29.06888371,  10.04987562,  31.95309062,\n",
       "         10.19803903,  70.23531875,  52.35456045,  43.0464865 ,\n",
       "         73.78346698,  30.41381265,  48.33218389,  61.26989473,\n",
       "         27.01851217,  46.95742753,  54.08326913,  45.70557953,\n",
       "         47.16990566,  73.78346698,  36.67424164,  25.8069758 ,\n",
       "         61.7170965 ,  28.0713377 ,  67.67569726,  21.9317122 ,\n",
       "          9.05538514,  67.20119047,  65.36818798,  57.27128425,\n",
       "         68.09552114,  48.83646179,  35.22782991,  14.31782106,\n",
       "         63.0634601 ,  38.20994635,  56.22277119,  67.9779376 ],\n",
       "       [ 28.0713377 ,  46.69047012,  97.41663102,  19.72308292,\n",
       "         77.38862966,  50.32891813,  62.        ,  20.59126028,\n",
       "         71.38627319,  32.20248438,  28.42534081,  27.51363298,\n",
       "         70.34912935,  54.4242593 ,  75.66372975,  24.59674775,\n",
       "         63.34824386,  18.38477631,  68.44705983,  61.77378085,\n",
       "         94.11163584,  64.35060217,   9.8488578 ,  57.5847202 ,\n",
       "         18.38477631,  89.9888882 ,  80.39900497,  49.04079934,\n",
       "         15.        ,  25.23885893,  97.83659847,  67.94115101,\n",
       "         95.46203434,  13.15294644,  59.30430001,  54.03702434,\n",
       "         42.80186912,  71.16881339,  40.36087214,  77.82673063,\n",
       "         54.91812087,  63.50590524,  74.33034374,   8.54400375,\n",
       "         49.49747468,  47.80167361,  66.91038783, 107.64757313,\n",
       "        104.01922899,   5.38516481,  61.52235366,  27.73084925,\n",
       "         62.20128616,   0.        ,  40.81666326,  32.24903099,\n",
       "         82.20097323,  91.21951546,  94.02127419,  36.67424164,\n",
       "         45.65084884,  79.906195  ,  38.58756276,  53.90732789,\n",
       "          4.24264069,  73.06161783,  69.97142274,  32.80243893,\n",
       "         67.17886572,  86.68333173,  12.64911064,  19.84943324,\n",
       "         26.92582404,  64.77653896,  70.34912935,  64.19501538,\n",
       "         88.6171541 ,  17.88854382,  55.6596802 ,  42.75511665,\n",
       "         62.80127387,  26.92582404,  27.01851217,  59.53990259,\n",
       "         80.04998438,  48.83646179,  22.47220505,  82.03657721,\n",
       "         68.68041933,  19.72308292,  26.90724809,  75.50496672,\n",
       "         71.56814934,  86.092973  ,  54.03702434,  75.07329752,\n",
       "         66.2721661 ,  42.72001873,  32.55764119,  67.89698079],\n",
       "       [ 65.80273551,  49.73932046,  62.03224968,  60.53924347,\n",
       "         36.61966685,  12.36931688,  34.20526275,  45.09988914,\n",
       "         53.31041174,   9.21954446,  57.07889277,  62.16912417,\n",
       "         44.82186966,  61.77378085,  70.29224708,  24.0208243 ,\n",
       "         28.16025568,  22.8035085 ,  50.56678752,  21.02379604,\n",
       "         54.81788029,  33.        ,  47.16990566,  64.14047084,\n",
       "         42.19004622,  67.08203932,  64.88451279,  10.44030651,\n",
       "         27.51363298,  21.        ,  60.41522987,  29.15475947,\n",
       "         67.0298441 ,  37.85498646,  28.3019434 ,  29.83286778,\n",
       "          5.09901951,  33.        ,  62.64982043,  37.16180835,\n",
       "         55.80322571,  40.31128874,  50.009999  ,  34.53983208,\n",
       "         19.79898987,  13.60147051,  64.35060217,  72.23572523,\n",
       "         67.54257916,  42.01190308,  38.94868419,  60.67124525,\n",
       "         29.06888371,  40.81666326,   0.        ,  20.24845673,\n",
       "         47.12748667,  52.43090692,  61.98386887,  14.03566885,\n",
       "         23.02172887,  62.39390996,  19.20937271,  20.        ,\n",
       "         36.7151195 ,  32.24903099,  39.01281841,   9.05538514,\n",
       "         29.54657341,  86.27861844,  28.60069929,  21.54065923,\n",
       "         61.        ,  49.73932046,  64.5368112 ,  38.94868419,\n",
       "         51.42956348,  23.02172887,  61.05735009,  47.85394446,\n",
       "         29.15475947,  61.        ,  14.56021978,  18.78829423,\n",
       "         77.83315489,  37.48332963,  54.74486277,  43.9089968 ,\n",
       "         31.95309062,  53.15072906,  55.08175742,  72.86288493,\n",
       "         46.86149806,  72.01388755,  46.66904756,  38.07886553,\n",
       "         41.10960958,  10.81665383,  27.16615541,  45.254834  ],\n",
       "       [ 51.10772936,  30.        ,  65.4369926 ,  50.32891813,\n",
       "         50.96076922,  22.56102835,  53.85164807,  27.85677655,\n",
       "         42.04759208,  19.10497317,  39.29376541,  46.09772229,\n",
       "         64.35060217,  41.88078318,  53.71219601,   7.81024968,\n",
       "         48.38388161,  21.02379604,  39.05124838,  38.05259518,\n",
       "         64.07027392,  32.20248438,  34.6554469 ,  44.40720662,\n",
       "         25.49509757,  59.41380311,  52.61178575,  22.20360331,\n",
       "         17.4642492 ,   7.28010989,  66.48308055,  38.47076812,\n",
       "         63.5688603 ,  23.43074903,  48.3011387 ,  48.41487375,\n",
       "         18.11077028,  52.46903849,  43.0464865 ,  53.60037313,\n",
       "         36.76955262,  59.20304046,  42.95346319,  23.85372088,\n",
       "         39.11521443,  33.54101966,  46.61544808,  75.60423269,\n",
       "         72.24956747,  35.84689666,  57.62811814,  44.01136217,\n",
       "         30.41381265,  32.24903099,  20.24845673,   0.        ,\n",
       "         50.32891813,  60.80296045,  61.77378085,  29.        ,\n",
       "         13.41640786,  51.15662225,   6.40312424,  23.02172887,\n",
       "         28.17800561,  47.85394446,  37.73592453,  12.80624847,\n",
       "         36.89173349,  68.60029154,  24.33105012,  15.03329638,\n",
       "         44.77722635,  36.49657518,  47.88527958,  58.24946352,\n",
       "         57.31491952,  20.        ,  41.40048309,  27.78488798,\n",
       "         49.39635614,  44.77722635,  12.08304597,  36.01388621,\n",
       "         60.46486583,  21.1896201 ,  38.48376281,  51.4003891 ,\n",
       "         37.80211634,  37.58989226,  37.36308338,  55.47071299,\n",
       "         66.28725368,  59.22837158,  29.52964612,  44.04543109,\n",
       "         60.46486583,  29.68164416,  37.57658846,  64.20280368],\n",
       "       [100.12492197,  60.40695324,  15.26433752, 100.65783626,\n",
       "         28.8444102 ,  34.78505426,  67.26812024,  76.05918748,\n",
       "         35.22782991,  55.71355311,  85.70297544,  94.20191081,\n",
       "         75.96051606,  69.63476143,  59.68249325,  58.13776741,\n",
       "         54.5710546 ,  67.11929678,  35.0142828 ,  36.34556369,\n",
       "         20.09975124,  18.43908891,  84.89994111,  70.03570518,\n",
       "         74.41102069,  33.42154993,  43.32435804,  36.68787266,\n",
       "         67.20119047,  57.00877125,  17.        ,  20.02498439,\n",
       "         25.05992817,  73.55270219,  60.8276253 ,  68.18357573,\n",
       "         42.72001873,  48.84669897,  84.09518417,  36.05551275,\n",
       "         60.20797289,  75.31268154,  24.33105012,  74.02702209,\n",
       "         59.        ,  53.08483776,  60.        ,  25.55386468,\n",
       "         21.9317122 ,  85.14693183,  74.96665926,  91.60785992,\n",
       "         20.        ,  82.20097323,  47.12748667,  50.32891813,\n",
       "          0.        ,  16.1245155 ,  16.2788206 ,  60.41522987,\n",
       "         37.48332963,  39.2173431 ,  43.93176527,  28.65309756,\n",
       "         78.00640999,  32.20248438,  14.31782106,  51.42956348,\n",
       "         18.11077028,  75.92759709,  72.20110802,  62.96824597,\n",
       "         92.80086206,  39.05124838,  56.14267539,  72.56721023,\n",
       "          9.05538514,  66.73080248,  67.26812024,  61.84658438,\n",
       "         57.48912941,  92.80086206,  56.43580424,  37.12142239,\n",
       "         68.0661443 ,  43.8634244 ,  86.83317338,  10.63014581,\n",
       "         15.29705854,  86.55634003,  84.05355436,  64.49806199,\n",
       "         78.16009212,  49.24428901,  48.50773134,  10.04987562,\n",
       "         73.97972695,  54.58937626,  73.97972695,  79.07591289],\n",
       "       [111.77208954,  75.18643495,  17.        , 110.45361017,\n",
       "         22.        ,  41.10960958,  64.07027392,  87.98295289,\n",
       "         51.35172831,  61.6116872 ,  98.41239759, 106.32967601,\n",
       "         71.1758386 ,  85.        ,  75.80237463,  68.41052551,\n",
       "         51.0881591 ,  74.51845409,  51.0881591 ,  35.73513677,\n",
       "          4.        ,  31.6227766 ,  95.26804291,  85.58621384,\n",
       "         85.98255637,  47.88527958,  59.20304046,  42.63801121,\n",
       "         76.4198927 ,  66.70832032,  10.04987562,  23.43074903,\n",
       "         36.87817783,  84.20213774,  58.30951895,  66.91038783,\n",
       "         49.04079934,  43.10452412,  98.08159868,  28.28427125,\n",
       "         75.66372975,  72.02777242,  40.44749683,  83.5463943 ,\n",
       "         59.20304046,  54.4242593 ,  76.02631123,  24.18677324,\n",
       "         18.02775638,  93.43446901,  72.11102551, 103.94229168,\n",
       "         31.30495168,  91.21951546,  52.43090692,  60.80296045,\n",
       "         16.1245155 ,   0.        ,  26.17250466,  63.95310782,\n",
       "         49.24428901,  55.08175742,  54.64430437,  37.80211634,\n",
       "         86.97700846,  27.07397274,  29.27456234,  58.79625838,\n",
       "         24.08318916,  91.98369421,  80.05623024,  71.42128534,\n",
       "        104.95713411,  55.        ,  72.24956747,  69.007246  ,\n",
       "          7.61577311,  74.41102069,  82.73451517,  76.24303247,\n",
       "         54.08326913, 104.95713411,  64.38167441,  37.33630941,\n",
       "         84.17244205,  58.24087911,  98.79271228,   9.43398113,\n",
       "         23.02172887,  98.18350167,  96.64884893,  80.62257748,\n",
       "         73.24616031,  64.84597135,  63.78871374,  17.        ,\n",
       "         70.00714249,  57.27128425,  77.38862966,  75.02666193],\n",
       "       [108.97706181,  64.89992296,  11.40175425, 111.50336318,\n",
       "         44.28317965,  49.64876635,  83.5463943 ,  85.0411665 ,\n",
       "         34.17601498,  70.09279564,  93.38094024, 102.53292154,\n",
       "         92.17917335,  72.01388755,  56.43580424,  69.46221995,\n",
       "         70.83078427,  80.41144197,  35.34119409,  52.61178575,\n",
       "         29.20616373,  30.08321791,  95.4410813 ,  71.69379332,\n",
       "         83.86894539,  23.53720459,  38.05259518,  51.623638  ,\n",
       "         79.17701687,  68.8839604 ,  19.6977156 ,  36.22154055,\n",
       "         10.81665383,  84.05355436,  77.1038261 ,  84.38009244,\n",
       "         57.27128425,  64.84597135,  89.62700486,  51.42956348,\n",
       "         62.60990337,  91.59148432,  24.18677324,  85.58621384,\n",
       "         75.05997602,  69.        ,  59.20304046,  17.08800749,\n",
       "         18.        ,  97.49358953,  91.24143795,  99.70456359,\n",
       "         33.24154028,  94.02127419,  61.98386887,  61.77378085,\n",
       "         16.2788206 ,  26.17250466,   0.        ,  75.66372975,\n",
       "         48.37354649,  34.13209633,  55.47071299,  42.44997055,\n",
       "         89.94442729,  48.10405388,  24.16609195,  65.1459899 ,\n",
       "         34.0147027 ,  71.0070419 ,  85.08818954,  75.6439026 ,\n",
       "        101.11874208,  40.24922359,  54.34151268,  88.84255737,\n",
       "         19.20937271,  79.84985911,  69.35416354,  67.20119047,\n",
       "         73.75635566, 101.11874208,  69.64194139,  53.33854141,\n",
       "         64.12487817,  50.24937811,  95.52486587,  25.49509757,\n",
       "         31.        ,  95.67131231,  91.93475948,  61.52235366,\n",
       "         94.3716059 ,  42.19004622,  52.15361924,  26.30589288,\n",
       "         90.24411338,  70.17834424,  89.10667764,  95.34149149],\n",
       "       [ 64.19501538,  58.79625838,  75.        ,  55.6596802 ,\n",
       "         45.45327271,  26.07680962,  26.92582404,  47.29693436,\n",
       "         66.73080248,   9.89949494,  59.03388857,  62.03224968,\n",
       "         36.76955262,  70.43436661,  82.09750301,  29.15475947,\n",
       "         26.68332813,  19.        ,  63.90618123,  29.20616373,\n",
       "         65.8634952 ,  47.01063709,  45.09988914,  73.10950691,\n",
       "         44.14748011,  81.04936767,  78.18567644,  24.08318916,\n",
       "         27.45906044,  26.07680962,  72.61542536,  41.43669871,\n",
       "         81.0061726 ,  38.47076812,  23.02172887,  20.1246118 ,\n",
       "         19.10497317,  34.92849839,  67.06713055,  43.93176527,\n",
       "         65.76473219,  30.88689042,  63.95310782,  33.01514804,\n",
       "         13.        ,  11.66190379,  75.43208866,  85.07055895,\n",
       "         80.05623024,  36.05551275,  29.15475947,  61.20457499,\n",
       "         43.01162634,  36.67424164,  14.03566885,  29.        ,\n",
       "         60.41522987,  63.95310782,  75.66372975,   0.        ,\n",
       "         35.84689666,  75.89466384,  30.52867504,  34.0147027 ,\n",
       "         33.24154028,  40.36087214,  53.        ,  16.40121947,\n",
       "         42.44997055,  97.45255256,  24.18677324,  21.84032967,\n",
       "         61.07372594,  62.64982043,  76.2758153 ,  30.46309242,\n",
       "         63.90618123,  20.02498439,  70.17834424,  56.22277119,\n",
       "         26.17250466,  61.07372594,  18.02775638,  27.20294102,\n",
       "         89.20201791,  49.09175083,  55.22680509,  56.08029957,\n",
       "         45.12205669,  53.08483776,  57.07013229,  84.20213774,\n",
       "         38.48376281,  85.23496935,  58.00862005,  50.96076922,\n",
       "         32.69556545,   7.07106781,  13.60147051,  35.84689666],\n",
       "       [ 62.80127387,  30.59411708,  52.40229003,  63.41135545,\n",
       "         43.0464865 ,  17.4642492 ,  56.56854249,  38.83297568,\n",
       "         31.04834939,  26.92582404,  49.1934955 ,  57.14017851,\n",
       "         67.17886572,  42.44997055,  47.42362281,  21.09502311,\n",
       "         48.25971405,  33.37663854,  28.16025568,  33.52610923,\n",
       "         52.77309921,  19.10497317,  47.50789408,  44.27188724,\n",
       "         37.01351105,  47.01063709,  42.3792402 ,  18.35755975,\n",
       "         30.87069808,  20.61552813,  54.03702434,  28.63564213,\n",
       "         50.28916384,  36.12478374,  50.24937811,  52.80151513,\n",
       "         18.43908891,  49.76946855,  50.009999  ,  47.16990566,\n",
       "         34.92849839,  63.12685641,  30.14962686,  37.21558813,\n",
       "         42.63801121,  36.12478374,  42.01190308,  62.48199741,\n",
       "         59.39696962,  49.24428901,  61.84658438,  54.70831747,\n",
       "         18.02775638,  45.65084884,  23.02172887,  13.41640786,\n",
       "         37.48332963,  49.24428901,  48.37354649,  35.84689666,\n",
       "          0.        ,  40.26164428,   7.28010989,  13.03840481,\n",
       "         41.59326869,  41.10960958,  24.41311123,  20.39607805,\n",
       "         26.2488095 ,  63.70243323,  37.36308338,  27.89265136,\n",
       "         55.75840744,  26.83281573,  41.72529209,  61.55485359,\n",
       "         45.        ,  32.55764119,  41.10960958,  30.06659276,\n",
       "         50.        ,  55.75840744,  23.02172887,  31.95309062,\n",
       "         55.1724569 ,  15.26433752,  49.64876635,  39.8246155 ,\n",
       "         26.40075756,  49.2036584 ,  47.41307836,  50.24937811,\n",
       "         69.29646456,  49.39635614,  24.41311123,  32.24903099,\n",
       "         63.65532185,  33.83784863,  47.07440918,  68.01470429],\n",
       "       [ 86.76981042,  38.58756276,  45.        ,  93.60555539,\n",
       "         64.63745044,  52.83937925,  93.49331527,  64.84597135,\n",
       "          9.21954446,  67.18630813,  69.83552105,  79.64923101,\n",
       "        103.73041984,  41.77319715,  22.36067977,  57.00877125,\n",
       "         82.80096618,  72.1734023 ,  12.16552506,  64.5368112 ,\n",
       "         58.94064811,  33.9705755 ,  77.88452991,  40.60788101,\n",
       "         64.84597135,  13.60147051,   4.12310563,  54.58937626,\n",
       "         67.06713055,  58.03447251,  52.23983155,  50.32891813,\n",
       "         26.57066051,  67.46851117,  86.82165628,  91.24143795,\n",
       "         57.38466694,  80.62257748,  62.62587325,  71.40028011,\n",
       "         33.30165161, 100.84641788,  15.8113883 ,  71.56814934,\n",
       "         80.95060222,  74.24284477,  26.41968963,  50.80354318,\n",
       "         52.08646657,  84.59314393,  99.84988733,  76.53757247,\n",
       "         38.28837944,  79.906195  ,  62.39390996,  51.15662225,\n",
       "         39.2173431 ,  55.08175742,  34.13209633,  75.89466384,\n",
       "         40.26164428,   0.        ,  46.69047012,  44.41846463,\n",
       "         76.53103945,  66.06814664,  30.61045573,  60.63827174,\n",
       "         46.75467891,  37.21558813,  75.        ,  66.06814664,\n",
       "         78.29431652,  15.13274595,  21.02379604,  98.79271228,\n",
       "         47.5394573 ,  71.11258679,  38.94868419,  42.05948169,\n",
       "         85.21150157,  78.29431652,  62.64982043,  64.03124237,\n",
       "         30.01666204,  31.144823  ,  73.8241153 ,  49.24428901,\n",
       "         44.04543109,  74.8465096 ,  68.8839604 ,  27.45906044,\n",
       "        105.9481005 ,  10.63014581,  26.92582404,  44.41846463,\n",
       "        100.70253224,  73.00684899,  87.32124598, 105.47511555],\n",
       "       [ 57.14017851,  30.87069808,  59.03388857,  56.72741841,\n",
       "         45.89117562,  18.        ,  53.41348144,  33.54101966,\n",
       "         37.48332963,  21.02379604,  44.59820624,  51.88448708,\n",
       "         64.03124237,  42.95346319,  51.6139516 ,  14.2126704 ,\n",
       "         46.5188134 ,  26.17250466,  34.525353  ,  34.13209633,\n",
       "         57.98275606,  25.8069758 ,  41.01219331,  45.17742799,\n",
       "         31.38470965,  54.08326913,  48.50773134,  18.11077028,\n",
       "         23.70653918,  13.41640786,  60.14149982,  32.69556545,\n",
       "         57.56735186,  29.73213749,  47.4341649 ,  48.7954916 ,\n",
       "         15.65247584,  49.47726751,  47.09564736,  49.09175083,\n",
       "         36.61966685,  59.41380311,  37.33630941,  30.23243292,\n",
       "         38.94868419,  32.80243893,  45.27692569,  69.20260111,\n",
       "         65.8559033 ,  42.04759208,  57.98275606,  49.65883607,\n",
       "         24.04163056,  38.58756276,  19.20937271,   6.40312424,\n",
       "         43.93176527,  54.64430437,  55.47071299,  30.52867504,\n",
       "          7.28010989,  46.69047012,   0.        ,  17.        ,\n",
       "         34.4818793 ,  43.18564576,  31.38470965,  14.31782106,\n",
       "         30.88689042,  67.26812024,  30.08321791,  20.61552813,\n",
       "         50.53711507,  32.57299495,  45.80392996,  58.13776741,\n",
       "         50.99019514,  25.3179778 ,  42.05948169,  29.41088234,\n",
       "         47.88527958,  50.53711507,  16.03121954,  32.24903099,\n",
       "         58.89821729,  18.60107524,  44.29446918,  45.22167622,\n",
       "         31.6227766 ,  43.56604182,  42.72001873,  53.90732789,\n",
       "         66.06814664,  55.36244214,  27.65863337,  37.80211634,\n",
       "         60.30754513,  29.69848481,  40.80441153,  64.38167441],\n",
       "       [ 74.09453421,  43.28972164,  43.9089968 ,  72.83543094,\n",
       "         30.01666204,   8.54400375,  49.09175083,  50.53711507,\n",
       "         35.80502758,  27.65863337,  61.46543744,  68.8839604 ,\n",
       "         59.40538696,  54.91812087,  56.40035461,  30.61045573,\n",
       "         38.89730068,  38.47076812,  33.42154993,  21.9544984 ,\n",
       "         41.0487515 ,  13.        ,  57.48912941,  56.5154846 ,\n",
       "         48.37354649,  47.5394573 ,  47.4341649 ,  10.44030651,\n",
       "         38.94868419,  29.        ,  43.93176527,  15.8113883 ,\n",
       "         47.04253395,  46.40043103,  42.43819035,  47.01063709,\n",
       "         15.03329638,  38.58756276,  62.96824597,  34.36568055,\n",
       "         46.84015371,  56.43580424,  30.6757233 ,  45.96737974,\n",
       "         36.76955262,  30.08321791,  52.35456045,  54.20332093,\n",
       "         50.21951812,  56.61271942,  55.47071299,  66.64082833,\n",
       "          9.21954446,  53.90732789,  20.        ,  23.02172887,\n",
       "         28.65309756,  37.80211634,  42.44997055,  34.0147027 ,\n",
       "         13.03840481,  44.41846463,  17.        ,   0.        ,\n",
       "         49.67896939,  28.28427125,  19.02629759,  22.84731932,\n",
       "         13.89244399,  73.23933369,  43.56604182,  34.40930107,\n",
       "         67.53517602,  33.9705755 ,  51.03920062,  54.3783045 ,\n",
       "         34.71310992,  38.07886553,  53.36665626,  43.01162634,\n",
       "         41.10960958,  67.53517602,  27.78488798,  20.80865205,\n",
       "         64.63745044,  26.92582404,  61.29437168,  28.42534081,\n",
       "         14.86606875,  60.53924347,  59.61543424,  59.9082632 ,\n",
       "         61.6116872 ,  54.64430437,  35.4682957 ,  21.21320344,\n",
       "         56.30275304,  29.61418579,  47.09564736,  61.05735009],\n",
       "       [ 31.01612484,  44.38468204,  93.23089617,  23.85372088,\n",
       "         73.24616031,  46.09772229,  59.07622195,  19.84943324,\n",
       "         67.89698079,  28.23118843,  29.15475947,  29.61418579,\n",
       "         67.74215822,  52.80151513,  73.1641989 ,  20.61552813,\n",
       "         59.8414572 ,  14.56021978,  64.93843238,  57.70615219,\n",
       "         89.87213139,  60.20797289,  12.04159458,  55.94640292,\n",
       "         17.20465053,  86.34813258,  77.1621669 ,  44.82186966,\n",
       "         10.81665383,  21.09502311,  93.60555539,  63.70243323,\n",
       "         91.54780172,  11.18033989,  56.08029957,  51.2445119 ,\n",
       "         38.60051813,  67.44627492,  40.36087214,  73.79024326,\n",
       "         52.63078947,  61.        ,  70.51950085,   5.        ,\n",
       "         46.17358552,  44.14748011,  64.5368112 , 103.46980236,\n",
       "         99.80981916,   8.06225775,  59.03388857,  29.41088234,\n",
       "         58.00862005,   4.24264069,  36.7151195 ,  28.17800561,\n",
       "         78.00640999,  86.97700846,  89.94442729,  33.24154028,\n",
       "         41.59326869,  76.53103945,  34.4818793 ,  49.67896939,\n",
       "          0.        ,  68.9637586 ,  65.8634952 ,  28.60069929,\n",
       "         62.93647591,  84.7584804 ,   9.05538514,  15.62049935,\n",
       "         28.86173938,  61.40032573,  67.74215822,  61.52235366,\n",
       "         84.3860178 ,  13.92838828,  53.85164807,  40.52159918,\n",
       "         59.41380311,  28.86173938,  22.8035085 ,  55.47071299,\n",
       "         77.88452991,  45.39823785,  23.76972865,  77.79460136,\n",
       "         64.44377394,  21.1896201 ,  27.45906044,  73.24616031,\n",
       "         69.05070601,  83.00602388,  51.00980298,  70.83784299,\n",
       "         63.63961031,  39.05124838,  30.3644529 ,  65.51335742],\n",
       "       [ 97.49871794,  71.56814934,  42.42640687,  92.78469701,\n",
       "          5.38516481,  25.3179778 ,  37.01351105,  75.43208866,\n",
       "         59.07622195,  41.0487515 ,  87.09764635,  93.30058949,\n",
       "         44.55333882,  83.18653737,  82.29823813,  54.12023651,\n",
       "         24.0208243 ,  54.91812087,  57.45432969,  11.40175425,\n",
       "         27.65863337,  32.75667871,  79.20227269,  84.72307832,\n",
       "         72.80109889,  64.03124237,  69.8140387 ,  25.70992026,\n",
       "         59.50630219,  51.54609588,  37.01351105,  15.8113883 ,\n",
       "         57.24508713,  69.28924881,  31.25699922,  40.02499219,\n",
       "         31.01612484,  16.76305461,  90.27181177,   6.08276253,\n",
       "         74.95331881,  45.        ,  50.32891813,  66.64082833,\n",
       "         33.10589071,  29.41088234,  79.47955712,  51.00980298,\n",
       "         45.01110974,  74.06078585,  45.04442252,  91.48223871,\n",
       "         29.06888371,  73.06161783,  32.24903099,  47.85394446,\n",
       "         32.20248438,  27.07397274,  48.10405388,  40.36087214,\n",
       "         41.10960958,  66.06814664,  43.18564576,  28.28427125,\n",
       "         68.9637586 ,   0.        ,  35.4682957 ,  40.71854614,\n",
       "         19.41648784,  99.2975327 ,  60.74537019,  53.66563146,\n",
       "         92.04890005,  59.48108943,  77.38862966,  42.01190308,\n",
       "         30.41381265,  55.22680509,  81.58431222,  71.1758386 ,\n",
       "         27.01851217,  92.04890005,  46.5188134 ,  13.60147051,\n",
       "         90.78546139,  55.10898293,  85.72630868,  22.8035085 ,\n",
       "         22.02271555,  84.43340571,  85.14693183,  86.33075929,\n",
       "         46.69047012,  76.69419796,  63.3245608 ,  23.02172887,\n",
       "         43.10452412,  33.30165161,  53.00943312,  48.16637832],\n",
       "       [ 86.37129153,  46.17358552,  28.31960452,  87.80091116,\n",
       "         34.13209633,  27.07397274,  65.3911309 ,  62.28964601,\n",
       "         24.16609195,  46.5295605 ,  71.61005516,  80.28075735,\n",
       "         75.13321503,  55.73149917,  48.38388161,  45.48626166,\n",
       "         53.71219601,  56.30275304,  23.08679276,  34.98571137,\n",
       "         33.24154028,   6.08276253,  71.84010022,  56.32051136,\n",
       "         60.81118318,  29.96664813,  34.40930107,  29.06888371,\n",
       "         55.07267925,  44.77722635,  31.30495168,  19.79898987,\n",
       "         28.01785145,  60.44005295,  58.69412236,  64.56004957,\n",
       "         34.05877273,  50.44799302,  69.7782201 ,  40.80441153,\n",
       "         46.38965402,  73.1641989 ,  14.86606875,  61.58733636,\n",
       "         54.5710546 ,  48.05205511,  47.38143096,  38.20994635,\n",
       "         35.60898763,  73.35529974,  72.44998275,  77.62087348,\n",
       "         10.04987562,  69.97142274,  39.01281841,  37.73592453,\n",
       "         14.31782106,  29.27456234,  24.16609195,  53.        ,\n",
       "         24.41311123,  30.61045573,  31.38470965,  19.02629759,\n",
       "         65.8634952 ,  35.4682957 ,   0.        ,  41.23105626,\n",
       "         16.2788206 ,  65.19202405,  60.92618485,  51.4781507 ,\n",
       "         78.87331615,  26.30589288,  44.14748011,  70.77428912,\n",
       "         23.08679276,  55.71355311,  53.46026562,  47.5394573 ,\n",
       "         56.35601121,  78.87331615,  45.54119015,  34.88552709,\n",
       "         56.92099788,  29.54657341,  73.        ,  21.02379604,\n",
       "         13.45362405,  72.86288493,  70.        ,  52.88667129,\n",
       "         77.36924454,  41.23105626,  34.525353  ,  14.56021978,\n",
       "         72.49827584,  48.25971405,  66.12110102,  77.47257579],\n",
       "       [ 56.92099788,  42.80186912,  66.64833081,  52.43090692,\n",
       "         44.77722635,  17.69180601,  41.18252056,  36.05551275,\n",
       "         51.41984053,   6.70820393,  48.0416486 ,  53.15072906,\n",
       "         51.623638  ,  54.64430437,  65.73431372,  15.13274595,\n",
       "         36.67424164,  15.8113883 ,  48.50773134,  29.73213749,\n",
       "         61.52235366,  35.17101079,  38.48376281,  57.20139858,\n",
       "         33.13608305,  67.06713055,  62.64183905,  16.2788206 ,\n",
       "         18.78829423,  12.04159458,  66.03029608,  35.38361203,\n",
       "         68.8839604 ,  28.86173938,  35.84689666,  35.60898763,\n",
       "         10.        ,  42.01190308,  53.93514624,  45.88027899,\n",
       "         49.51767361,  46.40043103,  50.009999  ,  25.94224354,\n",
       "         26.41968963,  21.1896201 ,  59.03388857,  76.94153625,\n",
       "         72.71863585,  34.6554469 ,  44.82186966,  51.623638  ,\n",
       "         31.95309062,  32.80243893,   9.05538514,  12.80624847,\n",
       "         51.42956348,  58.79625838,  65.1459899 ,  16.40121947,\n",
       "         20.39607805,  60.63827174,  14.31782106,  22.84731932,\n",
       "         28.60069929,  40.71854614,  41.23105626,   0.        ,\n",
       "         35.        ,  81.05553652,  21.26029163,  13.03840481,\n",
       "         51.97114584,  46.81879964,  59.9082632 ,  45.48626166,\n",
       "         56.8594759 ,  15.62049935,  54.20332093,  40.49691346,\n",
       "         37.36308338,  51.97114584,   5.83095189,  27.51363298,\n",
       "         72.80109889,  32.75667871,  45.70557953,  49.81967483,\n",
       "         36.89173349,  44.14748011,  46.04345773,  67.80117993,\n",
       "         53.53503526,  69.57010852,  41.61730409,  43.26661531,\n",
       "         47.70744177,  17.        ,  26.68332813,  51.4003891 ],\n",
       "       [ 87.98295289,  55.03635162,  32.57299495,  86.37129153,\n",
       "         18.97366596,  17.49285568,  50.28916384,  64.41273166,\n",
       "         39.66106403,  38.47076812,  75.23961722,  82.76472679,\n",
       "         59.61543424,  66.06814664,  63.07138812,  44.40720662,\n",
       "         38.07886553,  50.80354318,  38.07886553,  19.31320792,\n",
       "         27.20294102,  13.41640786,  71.21797526,  67.26812024,\n",
       "         62.2655603 ,  45.79301257,  50.44799302,  19.23538406,\n",
       "         52.34500931,  42.63801121,  31.06444913,   3.60555128,\n",
       "         41.23105626,  60.21627687,  43.68065934,  50.48762225,\n",
       "         25.55386468,  34.20526275,  76.15773106,  25.05992817,\n",
       "         57.31491952,  58.24087911,  31.11269837,  59.46427499,\n",
       "         41.0487515 ,  35.0142828 ,  60.7289058 ,  42.72001873,\n",
       "         38.01315562,  69.52697318,  57.72347876,  80.49844719,\n",
       "         10.19803903,  67.17886572,  29.54657341,  36.89173349,\n",
       "         18.11077028,  24.08318916,  34.0147027 ,  42.44997055,\n",
       "         26.2488095 ,  46.75467891,  30.88689042,  13.89244399,\n",
       "         62.93647591,  19.41648784,  16.2788206 ,  35.        ,\n",
       "          0.        ,  80.05623024,  56.22277119,  47.42362281,\n",
       "         81.41252975,  40.31128874,  58.30951895,  55.6596802 ,\n",
       "         21.9544984 ,  50.60632372,  64.19501538,  55.32630477,\n",
       "         40.85339643,  81.41252975,  40.45985665,  19.6468827 ,\n",
       "         71.58910532,  38.        ,  75.17978452,  14.86606875,\n",
       "          3.16227766,  74.43117626,  73.40980861,  67.23094526,\n",
       "         61.84658438,  57.38466694,  45.39823785,   8.54400375,\n",
       "         57.24508713,  36.49657518,  56.04462508,  62.29767251],\n",
       "       [ 81.05553652,  40.71854614,  82.09750301,  93.34345183,\n",
       "         98.89893832,  80.43009387, 120.24142381,  66.70832032,\n",
       "         41.10960958,  87.6184912 ,  65.06919394,  74.00675645,\n",
       "        130.86252328,  32.55764119,  17.        ,  70.83078427,\n",
       "        111.6646766 ,  86.83317338,  42.15447782,  95.13148795,\n",
       "         95.90099061,  66.64082833,  80.60397013,  29.42787794,\n",
       "         68.41052551,  48.16637832,  33.13608305,  81.68843247,\n",
       "         78.72102642,  73.24616031,  89.45389874,  83.63013811,\n",
       "         62.20128616,  73.68174808, 113.95174417, 116.04309544,\n",
       "         82.03657721, 111.77208954,  53.03772242, 105.09519494,\n",
       "         32.64965543, 126.58988901,  51.66236541,  80.05623024,\n",
       "        106.07544485,  99.70456359,  22.02271555,  87.14355972,\n",
       "         89.0056178 ,  92.04890005, 125.20782723,  71.        ,\n",
       "         70.23531875,  86.68333173,  86.27861844,  68.60029154,\n",
       "         75.92759709,  91.98369421,  71.0070419 ,  97.45255256,\n",
       "         63.70243323,  37.21558813,  67.26812024,  73.23933369,\n",
       "         84.7584804 ,  99.2975327 ,  65.19202405,  81.05553652,\n",
       "         80.05623024,   0.        ,  87.23531395,  80.62257748,\n",
       "         73.        ,  39.8246155 ,  22.20360331, 125.15989773,\n",
       "         84.52810184,  85.47514259,  31.04834939,  44.38468204,\n",
       "        113.56936207,  73.        ,  80.44874144,  94.04786016,\n",
       "          8.60232527,  48.7954916 ,  71.25307011,  85.44003745,\n",
       "         77.87810989,  73.43704787,  65.19202405,  13.45362405,\n",
       "        132.96616111,  29.15475947,  39.62322551,  79.71198153,\n",
       "        127.28707711,  96.9381246 , 105.68822072, 131.52946438],\n",
       "       [ 40.04996879,  46.5188134 ,  87.46427842,  32.20248438,\n",
       "         65.21502894,  38.94868419,  50.15974482,  26.07680962,\n",
       "         66.03029608,  19.72308292,  36.76955262,  38.32753579,\n",
       "         59.03388857,  56.30275304,  74.33034374,  18.02775638,\n",
       "         50.80354318,   5.83095189,  63.03173804,  49.39635614,\n",
       "         82.75868534,  55.03635162,  21.        ,  59.36328832,\n",
       "         23.02172887,  83.72574276,  76.10519036,  37.48332963,\n",
       "          8.54400375,  17.11724277,  87.20091743,  56.63920903,\n",
       "         87.64131446,  16.64331698,  47.04253395,  42.42640687,\n",
       "         31.11269837,  58.52349955,  46.87216658,  65.36818798,\n",
       "         54.62600113,  52.39274759,  67.26812024,   9.8488578 ,\n",
       "         37.12142239,  35.17101079,  66.12866247,  97.75479528,\n",
       "         93.74433316,  13.45362405,  50.44799302,  37.85498646,\n",
       "         52.35456045,  12.64911064,  28.60069929,  24.33105012,\n",
       "         72.20110802,  80.05623024,  85.08818954,  24.18677324,\n",
       "         37.36308338,  75.        ,  30.08321791,  43.56604182,\n",
       "          9.05538514,  60.74537019,  60.92618485,  21.26029163,\n",
       "         56.22277119,  87.23531395,   0.        ,   9.48683298,\n",
       "         37.48332963,  60.03332408,  68.68041933,  52.77309921,\n",
       "         78.00640999,   5.65685425,  56.93856338,  42.94182111,\n",
       "         50.35871325,  37.48332963,  15.8113883 ,  47.16990566,\n",
       "         79.84985911,  44.10215414,  32.01562119,  71.06335202,\n",
       "         58.00862005,  29.61418579,  34.92849839,  75.02666193,\n",
       "         60.41522987,  82.3893197 ,  50.99019514,  64.40496875,\n",
       "         54.91812087,  30.08321791,  22.36067977,  57.00877125],\n",
       "       [ 44.38468204,  40.22437072,  78.23042886,  39.40812099,\n",
       "         57.80138407,  30.47950131,  48.76474136,  25.49509757,\n",
       "         57.00877125,  14.03566885,  37.33630941,  41.19465985,\n",
       "         58.52349955,  50.99019514,  66.85057965,   9.8488578 ,\n",
       "         47.        ,   6.32455532,  54.00925847,  42.54409477,\n",
       "         74.27651042,  45.61797891,  25.63201124,  53.90732789,\n",
       "         22.36067977,  74.43117626,  67.36467917,  29.20616373,\n",
       "          6.08276253,   8.06225775,  78.24321057,  48.10405388,\n",
       "         78.16009212,  17.        ,  44.55333882,  41.78516483,\n",
       "         23.02172887,  53.60037313,  45.31004304,  58.69412236,\n",
       "         48.02082881,  52.39274759,  57.87054518,  13.        ,\n",
       "         34.525353  ,  31.        ,  59.03388857,  88.50988645,\n",
       "         84.62860037,  22.20360331,  50.56678752,  40.01249805,\n",
       "         43.0464865 ,  19.84943324,  21.54065923,  15.03329638,\n",
       "         62.96824597,  71.42128534,  75.6439026 ,  21.84032967,\n",
       "         27.89265136,  66.06814664,  20.61552813,  34.40930107,\n",
       "         15.62049935,  53.66563146,  51.4781507 ,  13.03840481,\n",
       "         47.42362281,  80.62257748,   9.48683298,   0.        ,\n",
       "         40.11234224,  51.2445119 ,  61.09828148,  52.20153254,\n",
       "         69.02897942,   5.09901951,  51.2249939 ,  37.01351105,\n",
       "         47.09564736,  40.11234224,   7.21110255,  40.31128874,\n",
       "         72.89718787,  35.51056181,  34.0147027 ,  62.28964601,\n",
       "         49.04079934,  32.14031736,  35.35533906,  67.9779376 ,\n",
       "         60.16643583,  73.8241153 ,  43.01162634,  55.4436651 ,\n",
       "         54.4242593 ,  26.01922366,  25.49509757,  57.27128425],\n",
       "       [  8.54400375,  39.81205847, 107.16809227,  21.54065923,\n",
       "         95.51963149,  67.06713055,  87.57282684,  17.        ,\n",
       "         71.56116265,  54.14794548,   8.54400375,   1.41421356,\n",
       "         96.50906693,  41.43669871,  66.70832032,  37.94733192,\n",
       "         87.05170877,  42.10700654,  69.0651866 ,  81.49233093,\n",
       "        108.40664186,  74.40430095,  17.08800749,  44.28317965,\n",
       "         19.31320792,  90.73588044,  77.38862966,  66.40783086,\n",
       "         34.05877273,  40.52159918, 109.62207807,  83.19254774,\n",
       "         99.63934966,  23.19482701,  84.09518417,  79.906195  ,\n",
       "         61.13100686,  93.64827815,  20.09975124,  97.52948272,\n",
       "         46.4865572 ,  89.82204629,  78.10249676,  28.0713377 ,\n",
       "         74.06078585,  71.06335202,  57.72347876, 116.84605256,\n",
       "        114.47707194,  30.88689042,  87.86353055,   2.        ,\n",
       "         73.78346698,  26.92582404,  61.        ,  44.77722635,\n",
       "         92.80086206, 104.95713411, 101.11874208,  61.07372594,\n",
       "         55.75840744,  78.29431652,  50.53711507,  67.53517602,\n",
       "         28.86173938,  92.04890005,  78.87331615,  51.97114584,\n",
       "         81.41252975,  73.        ,  37.48332963,  40.11234224,\n",
       "          0.        ,  64.35060217,  62.64183905,  90.25519376,\n",
       "        100.68763579,  41.0487515 ,  43.73785546,  36.23534186,\n",
       "         87.        ,   0.        ,  46.5295605 ,  79.30952024,\n",
       "         68.35934464,  50.99019514,   6.32455532,  95.52486587,\n",
       "         81.98780397,   8.        ,   9.43398113,  64.77653896,\n",
       "         97.86214794,  81.34494453,  51.623638  ,  87.98295289,\n",
       "         92.39588735,  66.03029608,  59.20304046,  94.36630755],\n",
       "       [ 72.71863585,  25.45584412,  49.33558553,  78.77182237,\n",
       "         59.23681288,  41.77319715,  82.46211251,  50.15974482,\n",
       "          7.21110255,  53.48831648,  56.0357029 ,  65.73431372,\n",
       "         92.9569793 ,  31.78049716,  22.82542442,  42.01190308,\n",
       "         72.83543094,  57.42821606,   5.        ,  55.6057551 ,\n",
       "         59.        ,  26.92582404,  62.93647591,  31.6227766 ,\n",
       "         49.979996  ,  26.41968963,  16.1245155 ,  43.27817002,\n",
       "         52.0096145 ,  43.18564576,  54.91812087,  43.8634244 ,\n",
       "         36.12478374,  52.39274759,  75.92759709,  79.32212806,\n",
       "         44.94441011,  72.20110802,  50.24937811,  65.30696747,\n",
       "         22.36067977,  89.40357935,  16.15549442,  56.43580424,\n",
       "         69.0651866 ,  62.42595614,  21.09502311,  57.27128425,\n",
       "         56.92099788,  69.46221995,  88.23264702,  62.68173578,\n",
       "         30.41381265,  64.77653896,  49.73932046,  36.49657518,\n",
       "         39.05124838,  55.        ,  40.24922359,  62.64982043,\n",
       "         26.83281573,  15.13274595,  32.57299495,  33.9705755 ,\n",
       "         61.40032573,  59.48108943,  26.30589288,  46.81879964,\n",
       "         40.31128874,  39.8246155 ,  60.03332408,  51.2445119 ,\n",
       "         64.35060217,   0.        ,  18.02775638,  87.6184912 ,\n",
       "         48.09365863,  56.32051136,  29.15475947,  28.42534081,\n",
       "         74.96665926,  64.35060217,  48.27007354,  54.67174773,\n",
       "         31.30495168,  16.03121954,  59.53990259,  47.26520919,\n",
       "         38.27531842,  60.37383539,  54.91812087,  26.92582404,\n",
       "         95.13148795,  22.8035085 ,  12.80624847,  40.79215611,\n",
       "         89.64373932,  60.53924347,  73.37574531,  94.20191081],\n",
       "       [ 71.16881339,  24.0208243 ,  64.62971453,  80.62257748,\n",
       "         77.25283166,  58.25804665,  98.2903861 ,  52.08646657,\n",
       "         21.        ,  66.57326791,  54.12023651,  63.89053138,\n",
       "        108.8944443 ,  22.47220505,   5.83095189,  51.26402247,\n",
       "         89.49860334,  67.41661516,  21.21320344,  72.9451849 ,\n",
       "         76.23647421,  44.94441011,  66.03029608,  20.61552813,\n",
       "         53.        ,  34.4818793 ,  18.02775638,  59.54829972,\n",
       "         60.16643583,  53.31041174,  71.11258679,  61.84658438,\n",
       "         47.5394573 ,  57.218878  ,  91.93475948,  94.36630755,\n",
       "         60.14149982,  89.58794562,  44.72135955,  83.25863319,\n",
       "         16.2788206 , 104.80458005,  32.        ,  62.80127387,\n",
       "         84.29116205,  77.83315489,   5.65685425,  71.30918594,\n",
       "         72.00694411,  75.53806987, 103.47946656,  60.7289058 ,\n",
       "         48.33218389,  70.34912935,  64.5368112 ,  47.88527958,\n",
       "         56.14267539,  72.24956747,  54.34151268,  76.2758153 ,\n",
       "         41.72529209,  21.02379604,  45.80392996,  51.03920062,\n",
       "         67.74215822,  77.38862966,  44.14748011,  59.9082632 ,\n",
       "         58.30951895,  22.20360331,  68.68041933,  61.09828148,\n",
       "         62.64183905,  18.02775638,   0.        , 103.27632836,\n",
       "         65.06919394,  66.12866247,  19.72308292,  28.01785145,\n",
       "         91.43850392,  62.64183905,  59.94163828,  71.84705979,\n",
       "         13.60147051,  27.20294102,  59.22837158,  64.93843238,\n",
       "         56.30275304,  60.8276253 ,  53.60037313,   8.94427191,\n",
       "        111.01801656,  19.41648784,  18.35755975,  58.69412236,\n",
       "        105.38026381,  75.2861209 ,  85.42247948, 109.71326264],\n",
       "       [ 92.26592004,  88.23264702,  84.29116205,  81.15417426,\n",
       "         47.01063709,  46.04345773,   5.38516481,  77.49193506,\n",
       "         90.13878189,  39.8246155 ,  89.02246907,  91.08238029,\n",
       "          6.32455532, 100.12492197, 108.97706181,  59.48108943,\n",
       "         18.11077028,  48.50773134,  87.658428  ,  36.40054945,\n",
       "         69.18092223,  65.74191966,  73.55270219, 102.6498904 ,\n",
       "         74.33034374, 100.72239076, 101.78899744,  44.40720662,\n",
       "         57.56735186,  56.35601121,  79.        ,  52.88667129,\n",
       "         96.84007435,  68.41052551,  12.08304597,  10.44030651,\n",
       "         43.13930922,  26.30589288,  97.49871794,  41.30375286,\n",
       "         94.64142856,   3.16227766,  84.53401682,  62.36986452,\n",
       "         19.20937271,  25.45584412, 103.27632836,  93.02150289,\n",
       "         87.        ,  62.        ,   4.24264069,  90.60905032,\n",
       "         61.26989473,  64.19501538,  38.94868419,  58.24946352,\n",
       "         72.56721023,  69.007246  ,  88.84255737,  30.46309242,\n",
       "         61.55485359,  98.79271228,  58.13776741,  54.3783045 ,\n",
       "         61.52235366,  42.01190308,  70.77428912,  45.48626166,\n",
       "         55.6596802 , 125.15989773,  52.77309921,  52.20153254,\n",
       "         90.25519376,  87.6184912 , 103.27632836,   0.        ,\n",
       "         72.24956747,  49.72926704,  99.62429423,  85.98255637,\n",
       "         15.13274595,  90.25519376,  48.3011387 ,  36.05551275,\n",
       "        116.67476162,  76.38062582,  84.72307832,  64.38167441,\n",
       "         58.82176468,  82.37718131,  87.09190548, 111.72287143,\n",
       "          8.06225775, 109.        ,  85.58621384,  62.58594091,\n",
       "          2.23606798,  28.60069929,  32.01562119,   6.70820393],\n",
       "       [107.80074211,  69.26037828,  12.04159458, 107.48953437,\n",
       "         25.96150997,  39.44616585,  67.11929678,  83.81527307,\n",
       "         44.10215414,  60.41522987,  93.81364506, 102.07840124,\n",
       "         74.96665926,  78.64477096,  68.46897107,  65.06919394,\n",
       "         54.14794548,  72.6704892 ,  44.        ,  37.21558813,\n",
       "         11.40175425,  26.41968963,  91.96738552,  79.07591289,\n",
       "         82.00609733,  40.31128874,  51.66236541,  41.18252056,\n",
       "         73.66138744,  63.65532185,   9.21954446,  22.47220505,\n",
       "         29.69848481,  80.72174428,  61.00819617,  69.11584478,\n",
       "         47.50789408,  47.07440918,  92.70382948,  32.89376841,\n",
       "         69.23149572,  75.16648189,  33.13608305,  80.65977932,\n",
       "         60.67124525,  55.31726674,  69.007246  ,  21.37755833,\n",
       "         16.15549442,  91.21403401,  75.05997602,  99.5690715 ,\n",
       "         27.01851217,  88.6171541 ,  51.42956348,  57.31491952,\n",
       "          9.05538514,   7.61577311,  19.20937271,  63.90618123,\n",
       "         45.        ,  47.5394573 ,  50.99019514,  34.71310992,\n",
       "         84.3860178 ,  30.41381265,  23.08679276,  56.8594759 ,\n",
       "         21.9544984 ,  84.52810184,  78.00640999,  69.02897942,\n",
       "        100.68763579,  48.09365863,  65.06919394,  72.24956747,\n",
       "          0.        ,  72.42237223,  76.29547824,  70.57619995,\n",
       "         57.14017851, 100.68763579,  62.20128616,  38.47076812,\n",
       "         76.79192666,  52.55473337,  94.62557794,   8.06225775,\n",
       "         20.        ,  94.20191081,  92.11405973,  73.33484847,\n",
       "         77.1038261 ,  57.24508713,  57.48912941,  13.60147051,\n",
       "         73.43704787,  57.56735186,  77.49193506,  78.51751397],\n",
       "       [ 44.40720662,  44.94441011,  81.98780397,  37.58989226,\n",
       "         59.6405902 ,  33.30165161,  46.69047012,  27.85677655,\n",
       "         62.03224968,  14.31782106,  39.29376541,  42.01190308,\n",
       "         56.04462508,  55.4436651 ,  71.86793444,  14.86606875,\n",
       "         46.27094121,   1.41421356,  59.03388857,  43.9089968 ,\n",
       "         77.1038261 ,  49.76946855,  25.3179778 ,  58.41232747,\n",
       "         24.69817807,  79.30952024,  72.44308111,  31.82766093,\n",
       "          8.06225775,  13.15294644,  81.60882305,  50.99019514,\n",
       "         82.71033793,  18.68154169,  43.0464865 ,  39.29376541,\n",
       "         25.45584412,  53.60037313,  48.3011387 ,  59.94163828,\n",
       "         52.83937925,  49.64876635,  62.64982043,  13.        ,\n",
       "         33.01514804,  30.41381265,  63.97655821,  92.28217596,\n",
       "         88.20430828,  19.10497317,  47.75981575,  41.19465985,\n",
       "         46.95742753,  17.88854382,  23.02172887,  20.        ,\n",
       "         66.73080248,  74.41102069,  79.84985911,  20.02498439,\n",
       "         32.55764119,  71.11258679,  25.3179778 ,  38.07886553,\n",
       "         13.92838828,  55.22680509,  55.71355311,  15.62049935,\n",
       "         50.60632372,  85.47514259,   5.65685425,   5.09901951,\n",
       "         41.0487515 ,  56.32051136,  66.12866247,  49.72926704,\n",
       "         72.42237223,   0.        ,  55.80322571,  41.61730409,\n",
       "         46.04345773,  41.0487515 ,  10.29563014,  41.67733197,\n",
       "         77.82030583,  40.60788101,  35.22782991,  65.4369926 ,\n",
       "         52.43090692,  33.06055051,  37.36308338,  72.9177619 ,\n",
       "         57.56735186,  78.91767863,  48.08326112,  58.82176468,\n",
       "         51.92301994,  25.3179778 ,  21.26029163,  54.4242593 ],\n",
       "       [ 52.17278984,  11.40175425,  78.4346862 ,  63.        ,\n",
       "         82.73451517,  58.52349955,  95.13148795,  35.6931366 ,\n",
       "         35.35533906,  60.30754513,  35.35533906,  44.91102315,\n",
       "        105.68348972,   2.82842712,  23.08679276,  41.77319715,\n",
       "         88.54942123,  57.20139858,  34.0147027 ,  74.63243263,\n",
       "         86.70063437,  52.0096145 ,  49.64876635,   3.16227766,\n",
       "         37.36308338,  52.49761899,  36.79673899,  59.23681288,\n",
       "         48.54894438,  44.55333882,  83.67795409,  67.36467917,\n",
       "         64.35060217,  42.72001873,  89.35882721,  89.81091248,\n",
       "         57.70615219,  90.82400564,  25.07987241,  87.66413178,\n",
       "          7.07106781, 100.60318086,  45.31004304,  49.24428901,\n",
       "         80.44874144,  74.62573283,  14.31782106,  86.40601831,\n",
       "         86.03487665,  61.03277808,  99.02019996,  41.77319715,\n",
       "         54.08326913,  55.6596802 ,  61.05735009,  41.40048309,\n",
       "         67.26812024,  82.73451517,  69.35416354,  70.17834424,\n",
       "         41.10960958,  38.94868419,  42.05948169,  53.36665626,\n",
       "         53.85164807,  81.58431222,  53.46026562,  54.20332093,\n",
       "         64.19501538,  31.04834939,  56.93856338,  51.2249939 ,\n",
       "         43.73785546,  29.15475947,  19.72308292,  99.62429423,\n",
       "         76.29547824,  55.80322571,   0.        ,  14.2126704 ,\n",
       "         89.94442729,  43.73785546,  52.34500931,  73.05477397,\n",
       "         25.01999201,  26.47640459,  41.0487515 ,  74.24284477,\n",
       "         63.03173804,  43.        ,  35.12833614,  21.09502311,\n",
       "        107.64757313,  39.11521443,  19.02629759,  67.06713055,\n",
       "        101.83319694,  71.02816343,  76.69419796, 105.60303026],\n",
       "       [ 44.72135955,   4.        ,  74.79304781,  52.77309921,\n",
       "         73.        ,  46.87216658,  81.63332653,  24.08318916,\n",
       "         35.60898763,  46.40043103,  27.78488798,  37.58989226,\n",
       "         92.11405973,  14.2126704 ,  33.06055051,  27.58622845,\n",
       "         75.76938696,  43.01162634,  33.30165161,  63.15061362,\n",
       "         80.08120878,  44.64302857,  38.01315562,  16.97056275,\n",
       "         25.01999201,  54.64430437,  41.23105626,  47.29693436,\n",
       "         34.4818793 ,  30.41381265,  78.79086241,  58.13776741,\n",
       "         64.35060217,  29.61418579,  76.05918748,  76.02631123,\n",
       "         44.94441011,  78.84795495,  22.47220505,  77.23341246,\n",
       "         12.16552506,  86.83893136,  43.27817002,  35.73513677,\n",
       "         66.88796603,  61.29437168,  24.18677324,  83.76156637,\n",
       "         82.36504113,  48.05205511,  85.21150157,  34.4818793 ,\n",
       "         45.70557953,  42.75511665,  47.85394446,  27.78488798,\n",
       "         61.84658438,  76.24303247,  67.20119047,  56.22277119,\n",
       "         30.06659276,  42.05948169,  29.41088234,  43.01162634,\n",
       "         40.52159918,  71.1758386 ,  47.5394573 ,  40.49691346,\n",
       "         55.32630477,  44.38468204,  42.94182111,  37.01351105,\n",
       "         36.23534186,  28.42534081,  28.01785145,  85.98255637,\n",
       "         70.57619995,  41.61730409,  14.2126704 ,   0.        ,\n",
       "         76.96752562,  36.23534186,  38.28837944,  61.39218191,\n",
       "         37.36308338,  18.02775638,  31.95309062,  67.18630813,\n",
       "         54.74486277,  33.24154028,  26.83281573,  32.75667871,\n",
       "         94.03190948,  45.607017  ,  15.62049935,  59.66573556,\n",
       "         88.20430828,  57.45432969,  62.48199741,  91.83681179],\n",
       "       [ 90.35485598,  78.71467462,  69.18092223,  81.49233093,\n",
       "         32.14031736,  33.24154028,  10.        ,  72.44308111,\n",
       "         76.83749085,  33.24154028,  84.38009244,  88.00568163,\n",
       "         18.78829423,  90.78546139,  97.        ,  52.39274759,\n",
       "          3.        ,  45.09988914,  74.51845409,  21.54065923,\n",
       "         54.45181356,  51.623638  ,  71.25307011,  93.05912099,\n",
       "         69.35416354,  86.31338251,  88.40814442,  31.89043744,\n",
       "         53.03772242,  49.24428901,  64.03124237,  37.94733192,\n",
       "         81.90848552,  64.07027392,   5.        ,  14.4222051 ,\n",
       "         32.24903099,  12.52996409,  91.21951546,  26.92582404,\n",
       "         84.38009244,  18.02775638,  70.49113419,  59.03388857,\n",
       "         13.34166406,  16.2788206 ,  92.00543462,  78.        ,\n",
       "         72.02777242,  61.84658438,  18.02775638,  87.02298547,\n",
       "         47.16990566,  62.80127387,  29.15475947,  49.39635614,\n",
       "         57.48912941,  54.08326913,  73.75635566,  26.17250466,\n",
       "         50.        ,  85.21150157,  47.88527958,  41.10960958,\n",
       "         59.41380311,  27.01851217,  56.35601121,  37.36308338,\n",
       "         40.85339643, 113.56936207,  50.35871325,  47.09564736,\n",
       "         87.        ,  74.96665926,  91.43850392,  15.13274595,\n",
       "         57.14017851,  46.04345773,  89.94442729,  76.96752562,\n",
       "          0.        ,  87.        ,  41.59326869,  21.47091055,\n",
       "        104.99523799,  65.21502894,  81.0246876 ,  49.25444142,\n",
       "         44.01136217,  79.        ,  82.3893197 , 100.12492197,\n",
       "         21.02379604,  95.60334722,  74.40430095,  47.5394573 ,\n",
       "         16.4924225 ,  21.09502311,  34.        ,  21.58703314],\n",
       "       [  8.54400375,  39.81205847, 107.16809227,  21.54065923,\n",
       "         95.51963149,  67.06713055,  87.57282684,  17.        ,\n",
       "         71.56116265,  54.14794548,   8.54400375,   1.41421356,\n",
       "         96.50906693,  41.43669871,  66.70832032,  37.94733192,\n",
       "         87.05170877,  42.10700654,  69.0651866 ,  81.49233093,\n",
       "        108.40664186,  74.40430095,  17.08800749,  44.28317965,\n",
       "         19.31320792,  90.73588044,  77.38862966,  66.40783086,\n",
       "         34.05877273,  40.52159918, 109.62207807,  83.19254774,\n",
       "         99.63934966,  23.19482701,  84.09518417,  79.906195  ,\n",
       "         61.13100686,  93.64827815,  20.09975124,  97.52948272,\n",
       "         46.4865572 ,  89.82204629,  78.10249676,  28.0713377 ,\n",
       "         74.06078585,  71.06335202,  57.72347876, 116.84605256,\n",
       "        114.47707194,  30.88689042,  87.86353055,   2.        ,\n",
       "         73.78346698,  26.92582404,  61.        ,  44.77722635,\n",
       "         92.80086206, 104.95713411, 101.11874208,  61.07372594,\n",
       "         55.75840744,  78.29431652,  50.53711507,  67.53517602,\n",
       "         28.86173938,  92.04890005,  78.87331615,  51.97114584,\n",
       "         81.41252975,  73.        ,  37.48332963,  40.11234224,\n",
       "          0.        ,  64.35060217,  62.64183905,  90.25519376,\n",
       "        100.68763579,  41.0487515 ,  43.73785546,  36.23534186,\n",
       "         87.        ,   0.        ,  46.5295605 ,  79.30952024,\n",
       "         68.35934464,  50.99019514,   6.32455532,  95.52486587,\n",
       "         81.98780397,   8.        ,   9.43398113,  64.77653896,\n",
       "         97.86214794,  81.34494453,  51.623638  ,  87.98295289,\n",
       "         92.39588735,  66.03029608,  59.20304046,  94.36630755],\n",
       "       [ 51.2445119 ,  41.01219331,  71.69379332,  46.61544808,\n",
       "         50.60632372,  23.34523506,  44.38468204,  31.01612484,\n",
       "         53.46026562,   8.54400375,  43.01162634,  47.67598976,\n",
       "         54.56189146,  52.49761899,  65.76473219,  11.18033989,\n",
       "         41.19465985,  10.77032961,  50.48762225,  35.4682957 ,\n",
       "         67.17886572,  39.56008089,  32.69556545,  55.22680509,\n",
       "         28.        ,  70.0285656 ,  64.32728814,  22.02271555,\n",
       "         13.        ,   8.06225775,  71.40028011,  41.01219331,\n",
       "         72.78049189,  23.34523506,  39.56008089,  38.07886553,\n",
       "         15.8113883 ,  47.16990566,  49.72926704,  51.623638  ,\n",
       "         48.27007354,  48.87739764,  53.15072906,  20.1246118 ,\n",
       "         29.73213749,  25.3179778 ,  58.52349955,  81.98780397,\n",
       "         77.93587107,  29.06888371,  47.16990566,  46.27094121,\n",
       "         36.67424164,  27.01851217,  14.56021978,  12.08304597,\n",
       "         56.43580424,  64.38167441,  69.64194139,  18.02775638,\n",
       "         23.02172887,  62.64982043,  16.03121954,  27.78488798,\n",
       "         22.8035085 ,  46.5188134 ,  45.54119015,   5.83095189,\n",
       "         40.45985665,  80.44874144,  15.8113883 ,   7.21110255,\n",
       "         46.5295605 ,  48.27007354,  59.94163828,  48.3011387 ,\n",
       "         62.20128616,  10.29563014,  52.34500931,  38.28837944,\n",
       "         41.59326869,  46.5295605 ,   0.        ,  33.24154028,\n",
       "         72.40165744,  33.24154028,  40.31128874,  55.31726674,\n",
       "         42.20189569,  38.63935817,  41.01219331,  67.41661516,\n",
       "         56.35601121,  71.06335202,  41.59326869,  48.60041152,\n",
       "         50.53711507,  20.61552813,  25.49509757,  53.85164807],\n",
       "       [ 84.43340571,  62.36184731,  50.24937811,  79.25906888,\n",
       "         18.38477631,  14.56021978,  30.6757233 ,  62.96824597,\n",
       "         55.90169944,  27.45906044,  74.81310046,  80.52328856,\n",
       "         40.24922359,  74.33034374,  77.20103626,  41.59326869,\n",
       "         18.86796226,  41.34005322,  53.74011537,   2.23606798,\n",
       "         38.91015292,  30.23243292,  65.9241989 ,  76.21679605,\n",
       "         60.20797289,  64.84597135,  67.35725648,  14.14213562,\n",
       "         46.23851209,  38.83297568,  46.57252409,  17.11724277,\n",
       "         60.87692502,  56.32051136,  24.04163056,  31.06444913,\n",
       "         18.24828759,  17.88854382,  79.00632886,  18.38477631,\n",
       "         66.85057965,  38.60051813,  49.09175083,  53.31041174,\n",
       "         22.20360331,  17.08800749,  73.06161783,  59.8414572 ,\n",
       "         54.34151268,  60.46486583,  38.07886553,  78.85429601,\n",
       "         25.8069758 ,  59.53990259,  18.78829423,  36.01388621,\n",
       "         37.12142239,  37.33630941,  53.33854141,  27.20294102,\n",
       "         31.95309062,  64.03124237,  32.24903099,  20.80865205,\n",
       "         55.47071299,  13.60147051,  34.88552709,  27.51363298,\n",
       "         19.6468827 ,  94.04786016,  47.16990566,  40.31128874,\n",
       "         79.30952024,  54.67174773,  71.84705979,  36.05551275,\n",
       "         38.47076812,  41.67733197,  73.05477397,  61.39218191,\n",
       "         21.47091055,  79.30952024,  33.24154028,   0.        ,\n",
       "         85.44588931,  47.01063709,  73.00684899,  30.41381265,\n",
       "         22.8035085 ,  71.56814934,  72.83543094,  80.7093551 ,\n",
       "         42.48529157,  74.51845409,  55.90169944,  27.07397274,\n",
       "         37.69615365,  20.24845673,  40.31128874,  42.72001873],\n",
       "       [ 76.65507159,  33.52610923,  75.00666637,  88.00568163,\n",
       "         90.47098983,  71.84010022, 111.73182179,  60.5309838 ,\n",
       "         32.984845  ,  79.40403012,  60.13318551,  69.46221995,\n",
       "        122.34786471,  27.01851217,   8.54400375,  63.0634601 ,\n",
       "        103.07764064,  79.15806971,  33.83784863,  86.53323061,\n",
       "         88.1192374 ,  58.18075283,  74.54528825,  24.08318916,\n",
       "         61.98386887,  41.97618372,  26.07680962,  73.10950691,\n",
       "         71.30918594,  65.36818798,  82.09750301,  75.15317691,\n",
       "         55.90169944,  66.94027188, 105.41821474, 107.62899238,\n",
       "         73.53910524, 103.17460928,  48.83646179,  96.60745313,\n",
       "         25.29822128, 118.13974776,  43.73785546,  73.08214556,\n",
       "         97.62171889,  91.21951546,  13.89244399,  80.62257748,\n",
       "         82.09750301,  85.37564055, 116.77756634,  66.37017402,\n",
       "         61.7170965 ,  80.04998438,  77.83315489,  60.46486583,\n",
       "         68.0661443 ,  84.17244205,  64.12487817,  89.20201791,\n",
       "         55.1724569 ,  30.01666204,  58.89821729,  64.63745044,\n",
       "         77.88452991,  90.78546139,  56.92099788,  72.80109889,\n",
       "         71.58910532,   8.60232527,  79.84985911,  72.89718787,\n",
       "         68.35934464,  31.30495168,  13.60147051, 116.67476162,\n",
       "         76.79192666,  77.82030583,  25.01999201,  37.36308338,\n",
       "        104.99523799,  68.35934464,  72.40165744,  85.44588931,\n",
       "          0.        ,  40.36087214,  66.00757532,  77.36924454,\n",
       "         69.46221995,  68.00735254,  60.03332408,   5.        ,\n",
       "        124.45882853,  23.40939982,  31.2409987 ,  71.47027354,\n",
       "        118.79393924,  88.52683209,  97.75479528, 123.06908629],\n",
       "       [ 59.03388857,  17.11724277,  57.14017851,  63.56099433,\n",
       "         56.32051136,  32.64965543,  71.50524456,  35.51056181,\n",
       "         22.56102835,  39.44616585,  43.13930922,  52.40229003,\n",
       "         82.13403679,  28.16025568,  33.01514804,  26.07680962,\n",
       "         63.51377803,  41.77319715,  19.6468827 ,  48.46648326,\n",
       "         62.09669879,  26.68332813,  47.5394573 ,  29.61418579,\n",
       "         34.88552709,  41.43669871,  32.01562119,  33.61547263,\n",
       "         36.        ,  27.45906044,  60.8358447 ,  41.0487515 ,\n",
       "         48.82622246,  36.68787266,  65.29931087,  67.26812024,\n",
       "         33.30165161,  64.88451279,  40.24922359,  61.18823416,\n",
       "         19.92485885,  77.79460136,  27.20294102,  40.44749683,\n",
       "         57.28001397,  50.93132631,  26.90724809,  66.4003012 ,\n",
       "         64.66065264,  53.46026562,  76.4198927 ,  49.51767361,\n",
       "         28.0713377 ,  48.83646179,  37.48332963,  21.1896201 ,\n",
       "         43.8634244 ,  58.24087911,  50.24937811,  49.09175083,\n",
       "         15.26433752,  31.144823  ,  18.60107524,  26.92582404,\n",
       "         45.39823785,  55.10898293,  29.54657341,  32.75667871,\n",
       "         38.        ,  48.7954916 ,  44.10215414,  35.51056181,\n",
       "         50.99019514,  16.03121954,  27.20294102,  76.38062582,\n",
       "         52.55473337,  40.60788101,  26.47640459,  18.02775638,\n",
       "         65.21502894,  50.99019514,  33.24154028,  47.01063709,\n",
       "         40.36087214,   0.        ,  45.607017  ,  49.24428901,\n",
       "         37.12142239,  46.04345773,  41.72529209,  35.38361203,\n",
       "         84.21995013,  38.32753579,   9.21954446,  41.77319715,\n",
       "         78.51751397,  48.16637832,  58.69412236,  82.73451517],\n",
       "       [ 13.45362405,  35.73513677, 101.31633629,  22.09072203,\n",
       "         89.19641248,  60.74537019,  81.88406438,  10.81665383,\n",
       "         66.73080248,  48.0416486 ,   6.70820393,   7.61577311,\n",
       "         91.00549434,  39.        ,  63.63961031,  31.6227766 ,\n",
       "         81.0061726 ,  36.34556369,  64.14047084,  75.18643495,\n",
       "        102.21545871,  68.41052551,  12.80624847,  42.01190308,\n",
       "         13.        ,  85.95929269,  73.1641989 ,  60.08327554,\n",
       "         28.        ,  34.20526275, 103.60019305,  76.92203845,\n",
       "         94.40338977,  17.02938637,  78.23042886,  74.33034374,\n",
       "         54.81788029,  87.46427842,  19.6977156 ,  91.21403401,\n",
       "         42.95346319,  84.40379138,  72.80109889,  22.36067977,\n",
       "         68.18357573,  65.00769185,  54.58937626, 111.07204869,\n",
       "        108.5771615 ,  27.01851217,  82.46211251,   6.        ,\n",
       "         67.67569726,  22.47220505,  54.74486277,  38.48376281,\n",
       "         86.83317338,  98.79271228,  95.52486587,  55.22680509,\n",
       "         49.64876635,  73.8241153 ,  44.29446918,  61.29437168,\n",
       "         23.76972865,  85.72630868,  73.        ,  45.70557953,\n",
       "         75.17978452,  71.25307011,  32.01562119,  34.0147027 ,\n",
       "          6.32455532,  59.53990259,  59.22837158,  84.72307832,\n",
       "         94.62557794,  35.22782991,  41.0487515 ,  31.95309062,\n",
       "         81.0246876 ,   6.32455532,  40.31128874,  73.00684899,\n",
       "         66.00757532,  45.607017  ,   0.        ,  89.35882721,\n",
       "         75.80237463,   2.82842712,   6.08276253,  62.12889827,\n",
       "         92.4175308 ,  77.49193506,  46.95742753,  81.83520025,\n",
       "         86.88498144,  60.        ,  54.08326913,  89.02246907],\n",
       "       [102.34256202,  66.28725368,  20.        , 101.17806086,\n",
       "         18.78829423,  32.20248438,  59.21148537,  78.54934755,\n",
       "         44.38468204,  53.        ,  89.0056178 ,  96.89685237,\n",
       "         67.26812024,  76.4198927 ,  68.8839604 ,  59.03388857,\n",
       "         46.27094121,  65.60487787,  43.73785546,  29.15475947,\n",
       "         13.        ,  22.56102835,  85.91274643,  77.1621669 ,\n",
       "         76.55063684,  44.04543109,  53.31041174,  33.83784863,\n",
       "         67.17886572,  57.38466694,  16.55294536,  14.76482306,\n",
       "         35.22782991,  74.81310046,  53.03772242,  61.07372594,\n",
       "         40.22437072,  39.56008089,  88.86506625,  25.94224354,\n",
       "         67.18630813,  67.26812024,  33.83784863,  74.27651042,\n",
       "         52.61178575,  47.29693436,  68.35934464,  29.42787794,\n",
       "         24.04163056,  84.3860178 ,  67.11929678,  94.51454914,\n",
       "         21.9317122 ,  82.03657721,  43.9089968 ,  51.4003891 ,\n",
       "         10.63014581,   9.43398113,  25.49509757,  56.08029957,\n",
       "         39.8246155 ,  49.24428901,  45.22167622,  28.42534081,\n",
       "         77.79460136,  22.8035085 ,  21.02379604,  49.81967483,\n",
       "         14.86606875,  85.44003745,  71.06335202,  62.28964601,\n",
       "         95.52486587,  47.26520919,  64.93843238,  64.38167441,\n",
       "          8.06225775,  65.4369926 ,  74.24284477,  67.18630813,\n",
       "         49.25444142,  95.52486587,  55.31726674,  30.41381265,\n",
       "         77.36924454,  49.24428901,  89.35882721,   0.        ,\n",
       "         13.60147051,  88.75246475,  87.23531395,  73.54590403,\n",
       "         69.42621983,  59.48108943,  55.22680509,   7.61577311,\n",
       "         65.62011887,  49.64876635,  69.64194139,  70.71067812],\n",
       "       [ 88.75246475,  54.23098745,  30.08321791,  87.69264507,\n",
       "         21.02379604,  19.6977156 ,  53.45091206,  65.        ,\n",
       "         37.21558813,  40.71854614,  75.58438992,  83.35466394,\n",
       "         62.76941931,  65.        ,  60.92618485,  45.45327271,\n",
       "         41.23105626,  52.69724851,  35.77708764,  22.47220505,\n",
       "         26.41968963,  11.40175425,  72.34638899,  66.06814664,\n",
       "         62.96824597,  42.72001873,  47.80167361,  21.54065923,\n",
       "         53.75872022,  43.8634244 ,  29.20616373,   6.40312424,\n",
       "         38.07886553,  61.22091146,  46.84015371,  53.60037313,\n",
       "         27.73084925,  37.20215048,  75.96051606,  27.45906044,\n",
       "         56.08029957,  61.40032573,  28.31960452,  60.81118318,\n",
       "         44.10215414,  38.        ,  58.94064811,  40.31128874,\n",
       "         35.84689666,  71.21797526,  60.87692502,  81.0061726 ,\n",
       "          9.05538514,  68.68041933,  31.95309062,  37.80211634,\n",
       "         15.29705854,  23.02172887,  31.        ,  45.12205669,\n",
       "         26.40075756,  44.04543109,  31.6227766 ,  14.86606875,\n",
       "         64.44377394,  22.02271555,  13.45362405,  36.89173349,\n",
       "          3.16227766,  77.87810989,  58.00862005,  49.04079934,\n",
       "         81.98780397,  38.27531842,  56.30275304,  58.82176468,\n",
       "         20.        ,  52.43090692,  63.03173804,  54.74486277,\n",
       "         44.01136217,  81.98780397,  42.20189569,  22.8035085 ,\n",
       "         69.46221995,  37.12142239,  75.80237463,  13.60147051,\n",
       "          0.        ,  75.16648189,  73.79024326,  65.19202405,\n",
       "         65.        ,  54.67174773,  44.10215414,   6.40312424,\n",
       "         60.40695324,  39.3192065 ,  58.69412236,  65.4599114 ],\n",
       "       [ 13.60147051,  37.10795063, 101.17806086,  20.        ,\n",
       "         88.02272434,  59.61543424,  79.63039621,  10.63014581,\n",
       "         67.53517602,  46.17358552,   9.43398113,   9.05538514,\n",
       "         88.64536085,  41.0487515 ,  65.37583651,  30.46309242,\n",
       "         79.0569415 ,  34.13209633,  64.88451279,  73.76313442,\n",
       "        101.5480182 ,  68.11754546,  10.        ,  44.10215414,\n",
       "         12.20655562,  86.76981042,  74.33034374,  58.87274412,\n",
       "         26.07680962,  32.89376841, 103.23274674,  76.05918748,\n",
       "         94.86832981,  15.29705854,  76.10519036,  72.00694411,\n",
       "         53.45091206,  85.70880935,  22.36067977,  89.84430978,\n",
       "         44.55333882,  82.        ,  73.23933369,  20.09975124,\n",
       "         66.06814664,  63.07138812,  56.32051136, 111.01801656,\n",
       "        108.37435121,  24.20743687,  80.04998438,   8.24621125,\n",
       "         67.20119047,  19.72308292,  53.15072906,  37.58989226,\n",
       "         86.55634003,  98.18350167,  95.67131231,  53.08483776,\n",
       "         49.2036584 ,  74.8465096 ,  43.56604182,  60.53924347,\n",
       "         21.1896201 ,  84.43340571,  72.86288493,  44.14748011,\n",
       "         74.43117626,  73.43704787,  29.61418579,  32.14031736,\n",
       "          8.        ,  60.37383539,  60.8276253 ,  82.37718131,\n",
       "         94.20191081,  33.06055051,  43.        ,  33.24154028,\n",
       "         79.        ,   8.        ,  38.63935817,  71.56814934,\n",
       "         68.00735254,  46.04345773,   2.82842712,  88.75246475,\n",
       "         75.16648189,   0.        ,   8.54400375,  64.03124237,\n",
       "         90.02777349,  78.84795495,  47.92702787,  81.27115109,\n",
       "         84.52810184,  58.03447251,  51.54609588,  86.58521814],\n",
       "       [ 17.88854382,  30.46309242,  98.23441352,  28.16025568,\n",
       "         88.32326987,  59.9082632 ,  83.95236745,  10.        ,\n",
       "         62.12889827,  49.16299421,   2.        ,  10.81665383,\n",
       "         93.40770846,  33.01514804,  57.87054518,  31.25699922,\n",
       "         82.15229759,  38.60051813,  59.6405902 ,  74.96665926,\n",
       "        100.18482919,  65.73431372,  17.80449381,  36.        ,\n",
       "         13.03840481,  81.3019065 ,  68.02940541,  59.43904441,\n",
       "         29.61418579,  34.13209633, 100.95543571,  75.3923073 ,\n",
       "         90.27181177,  18.68154169,  79.906195  ,  76.65507159,\n",
       "         54.58937626,  88.05112151,  13.89244399,  90.80198236,\n",
       "         37.36308338,  86.97700846,  68.76772499,  25.07987241,\n",
       "         69.87131028,  66.18912297,  48.83646179, 107.81465578,\n",
       "        105.60303026,  31.82766093,  85.07055895,   7.81024968,\n",
       "         65.36818798,  26.90724809,  55.08175742,  37.36308338,\n",
       "         84.05355436,  96.64884893,  91.93475948,  57.07013229,\n",
       "         47.41307836,  68.8839604 ,  42.72001873,  59.61543424,\n",
       "         27.45906044,  85.14693183,  70.        ,  46.04345773,\n",
       "         73.40980861,  65.19202405,  34.92849839,  35.35533906,\n",
       "          9.43398113,  54.91812087,  53.60037313,  87.09190548,\n",
       "         92.11405973,  37.36308338,  35.12833614,  26.83281573,\n",
       "         82.3893197 ,   9.43398113,  41.01219331,  72.83543094,\n",
       "         60.03332408,  41.72529209,   6.08276253,  87.23531395,\n",
       "         73.79024326,   8.54400375,   0.        ,  56.22277119,\n",
       "         94.9210198 ,  72.11102551,  42.19004622,  79.64923101,\n",
       "         89.28605714,  61.29437168,  57.27128425,  91.70605214],\n",
       "       [ 73.1641989 ,  28.86173938,  72.1734023 ,  84.02380615,\n",
       "         86.16263691,  67.00746227, 106.7941946 ,  56.22277119,\n",
       "         29.27456234,  74.40430095,  56.43580424,  65.9241989 ,\n",
       "        117.41379817,  23.34523506,   5.09901951,  58.13776741,\n",
       "         98.23441352,  74.24957912,  29.83286778,  81.83520025,\n",
       "         84.59314393,  53.85164807,  70.25667228,  20.61552813,\n",
       "         57.55866572,  40.16217126,  23.76972865,  68.24954212,\n",
       "         66.48308055,  60.41522987,  79.        ,  70.77428912,\n",
       "         53.85164807,  62.36986452, 100.49875621, 102.6498904 ,\n",
       "         68.59300256,  98.47842403,  45.607017  ,  92.19544457,\n",
       "         20.61552813, 113.17243481,  40.19950248,  68.41052551,\n",
       "         92.65527508,  86.2670273 ,   8.94427191,  78.26237921,\n",
       "         79.40403012,  80.8084154 , 111.80339887,  62.80127387,\n",
       "         57.27128425,  75.50496672,  72.86288493,  55.47071299,\n",
       "         64.49806199,  80.62257748,  61.52235366,  84.20213774,\n",
       "         50.24937811,  27.45906044,  53.90732789,  59.9082632 ,\n",
       "         73.24616031,  86.33075929,  52.88667129,  67.80117993,\n",
       "         67.23094526,  13.45362405,  75.02666193,  67.9779376 ,\n",
       "         64.77653896,  26.92582404,   8.94427191, 111.72287143,\n",
       "         73.33484847,  72.9177619 ,  21.09502311,  32.75667871,\n",
       "        100.12492197,  64.77653896,  67.41661516,  80.7093551 ,\n",
       "          5.        ,  35.38361203,  62.12889827,  73.54590403,\n",
       "         65.19202405,  64.03124237,  56.22277119,   0.        ,\n",
       "        119.51987282,  22.47220505,  26.2488095 ,  67.44627492,\n",
       "        113.84638773,  83.5463943 ,  92.78469701, 118.1058847 ],\n",
       "       [ 99.60923652,  96.26006441,  89.10667764,  88.00568163,\n",
       "         51.35172831,  53.41348144,  12.72792206,  85.38149682,\n",
       "         97.41663102,  47.88527958,  96.84007435,  98.65596789,\n",
       "          2.23606798, 108.16653826, 116.69190203,  67.53517602,\n",
       "         23.76972865,  56.32051136,  95.        ,  42.54409477,\n",
       "         73.02739212,  72.56031973,  81.04936767, 110.67971811,\n",
       "         82.21921916, 107.33126292, 109.04127659,  51.85556865,\n",
       "         65.4599114 ,  64.41273166,  83.29465769,  58.87274412,\n",
       "        102.78618584,  76.24303247,  19.20937271,  18.38477631,\n",
       "         50.93132631,  30.14962686, 105.47511555,  45.04442252,\n",
       "        102.61578826,   8.06225775,  91.41662868,  70.09279564,\n",
       "         27.20294102,  33.30165161, 111.12605455,  97.41663102,\n",
       "         91.26883367,  69.11584478,  10.04987562,  98.27003612,\n",
       "         68.09552114,  71.56814934,  46.86149806,  66.28725368,\n",
       "         78.16009212,  73.24616031,  94.3716059 ,  38.48376281,\n",
       "         69.29646456, 105.9481005 ,  66.06814664,  61.6116872 ,\n",
       "         69.05070601,  46.69047012,  77.36924454,  53.53503526,\n",
       "         61.84658438, 132.96616111,  60.41522987,  60.16643583,\n",
       "         97.86214794,  95.13148795, 111.01801656,   8.06225775,\n",
       "         77.1038261 ,  57.56735186, 107.64757313,  94.03190948,\n",
       "         21.02379604,  97.86214794,  56.35601121,  42.48529157,\n",
       "        124.45882853,  84.21995013,  92.4175308 ,  69.42621983,\n",
       "         65.        ,  90.02777349,  94.9210198 , 119.51987282,\n",
       "          0.        , 116.24973118,  93.43446901,  68.30812543,\n",
       "          5.83095189,  36.61966685,  39.11521443,   4.47213595],\n",
       "       [ 89.88882022,  41.76122604,  53.46026562,  98.27003612,\n",
       "         75.21303079,  62.96824597, 103.73041984,  69.42621983,\n",
       "         18.86796226,  76.21679605,  72.80109889,  82.63776376,\n",
       "        114.03946685,  41.88078318,  17.80449381,  64.38167441,\n",
       "         93.23625904,  80.0624756 ,  21.47091055,  75.07329752,\n",
       "         68.62215386,  44.55333882,  83.02409289,  40.        ,\n",
       "         69.87131028,  19.02629759,   7.21110255,  64.66065264,\n",
       "         74.16872656,  65.76473219,  61.18823416,  60.95900262,\n",
       "         33.06055051,  73.24616031,  97.08243919, 101.21264743,\n",
       "         67.08203932,  91.21951546,  64.00781202,  82.00609733,\n",
       "         34.92849839, 110.98198052,  26.40075756,  78.00640999,\n",
       "         90.91754506,  84.21995013,  25.        ,  58.03447251,\n",
       "         60.13318551,  91.02197537, 109.93179704,  79.47955712,\n",
       "         48.83646179,  86.092973  ,  72.01388755,  59.22837158,\n",
       "         49.24428901,  64.84597135,  42.19004622,  85.23496935,\n",
       "         49.39635614,  10.63014581,  55.36244214,  54.64430437,\n",
       "         83.00602388,  76.69419796,  41.23105626,  69.57010852,\n",
       "         57.38466694,  29.15475947,  82.3893197 ,  73.8241153 ,\n",
       "         81.34494453,  22.8035085 ,  19.41648784, 109.        ,\n",
       "         57.24508713,  78.91767863,  39.11521443,  45.607017  ,\n",
       "         95.60334722,  81.34494453,  71.06335202,  74.51845409,\n",
       "         23.40939982,  38.32753579,  77.49193506,  59.48108943,\n",
       "         54.67174773,  78.84795495,  72.11102551,  22.47220505,\n",
       "        116.24973118,   0.        ,  32.06243908,  54.91812087,\n",
       "        110.94142599,  82.73451517,  96.16652224, 115.66330447],\n",
       "       [ 60.03332408,  12.80624847,  60.41522987,  66.76076692,\n",
       "         64.13267498,  41.67733197,  80.72174428,  37.94733192,\n",
       "         20.        ,  48.25971405,  43.26661531,  53.        ,\n",
       "         91.35097153,  21.21320344,  24.18677324,  33.24154028,\n",
       "         72.6704892 ,  49.33558553,  17.69180601,  57.27128425,\n",
       "         67.74215822,  33.        ,  51.19570294,  22.        ,\n",
       "         38.07886553,  39.11521443,  26.68332813,  42.72001873,\n",
       "         42.57933771,  35.11409973,  65.1459899 ,  48.66210024,\n",
       "         48.7954916 ,  41.19465985,  74.51845409,  76.4198927 ,\n",
       "         42.52058325,  73.79024326,  37.64306045,  69.37578828,\n",
       "         12.        ,  86.97700846,  28.01785145,  46.01086828,\n",
       "         66.46803743,  60.14149982,  17.69180601,  68.9637586 ,\n",
       "         68.02940541,  59.        ,  85.58621384,  49.92995093,\n",
       "         35.22782991,  54.03702434,  46.66904756,  29.52964612,\n",
       "         48.50773134,  63.78871374,  52.15361924,  58.00862005,\n",
       "         24.41311123,  26.92582404,  27.65863337,  35.4682957 ,\n",
       "         51.00980298,  63.3245608 ,  34.525353  ,  41.61730409,\n",
       "         45.39823785,  39.62322551,  50.99019514,  43.01162634,\n",
       "         51.623638  ,  12.80624847,  18.35755975,  85.58621384,\n",
       "         57.48912941,  48.08326112,  19.02629759,  15.62049935,\n",
       "         74.40430095,  51.623638  ,  41.59326869,  55.90169944,\n",
       "         31.2409987 ,   9.21954446,  46.95742753,  55.22680509,\n",
       "         44.10215414,  47.92702787,  42.19004622,  26.2488095 ,\n",
       "         93.43446901,  32.06243908,   0.        ,  48.0416486 ,\n",
       "         87.7268488 ,  57.31491952,  67.08203932,  91.92388155],\n",
       "       [ 94.86832981,  58.85575588,  24.04163056,  94.04786016,\n",
       "         20.51828453,  25.94224354,  57.27128425,  71.02112362,\n",
       "         38.62641583,  46.95742753,  81.41252975,  89.35882721,\n",
       "         66.09841148,  69.18092223,  62.93647591,  51.73973328,\n",
       "         44.64302857,  59.07622195,  37.64306045,  26.30589288,\n",
       "         20.61552813,  15.13274595,  78.64477096,  70.0285656 ,\n",
       "         69.0651866 ,  41.10960958,  48.37354649,  27.73084925,\n",
       "         60.14149982,  50.20956084,  22.8035085 ,  10.        ,\n",
       "         34.53983208,  67.47592163,  50.80354318,  58.13776741,\n",
       "         34.        ,  39.35733731,  81.27115109,  27.58622845,\n",
       "         60.03332408,  65.30696747,  28.65309756,  67.17886572,\n",
       "         49.01020302,  43.18564576,  61.81423784,  34.17601498,\n",
       "         29.52964612,  77.62087348,  64.93843238,  86.95401083,\n",
       "         14.31782106,  75.07329752,  38.07886553,  44.04543109,\n",
       "         10.04987562,  17.        ,  26.30589288,  50.96076922,\n",
       "         32.24903099,  44.41846463,  37.80211634,  21.21320344,\n",
       "         70.83784299,  23.02172887,  14.56021978,  43.26661531,\n",
       "          8.54400375,  79.71198153,  64.40496875,  55.4436651 ,\n",
       "         87.98295289,  40.79215611,  58.69412236,  62.58594091,\n",
       "         13.60147051,  58.82176468,  67.06713055,  59.66573556,\n",
       "         47.5394573 ,  87.98295289,  48.60041152,  27.07397274,\n",
       "         71.47027354,  41.77319715,  81.83520025,   7.61577311,\n",
       "          6.40312424,  81.27115109,  79.64923101,  67.44627492,\n",
       "         68.30812543,  54.91812087,  48.0416486 ,   0.        ,\n",
       "         64.03124237,  44.91102315,  64.56004957,  69.12307864],\n",
       "       [ 94.33981132,  90.44335244,  85.47514259,  83.09632964,\n",
       "         48.01041554,  48.01041554,   7.21110255,  79.69943538,\n",
       "         92.08691547,  42.05948169,  91.21403401,  93.21480569,\n",
       "          4.12310563, 102.34256202, 111.07204869,  61.7170965 ,\n",
       "         19.41648784,  50.69516742,  89.62700486,  37.94733192,\n",
       "         70.06425622,  67.53517602,  75.66372975, 104.86181383,\n",
       "         76.53757247, 102.45974819, 103.73041984,  46.40043103,\n",
       "         59.77457654,  58.5918083 ,  80.02499609,  54.40588203,\n",
       "         98.37174391,  70.60453243,  13.89244399,  12.64911064,\n",
       "         45.254834  ,  27.07397274,  99.72462083,  42.10700654,\n",
       "         96.8297475 ,   3.60555128,  86.3539229 ,  64.5368112 ,\n",
       "         21.40093456,  27.58622845, 105.41821474,  94.08506789,\n",
       "         88.02272434,  64.00781202,   5.38516481,  92.76313923,\n",
       "         63.0634601 ,  66.2721661 ,  41.10960958,  60.46486583,\n",
       "         73.97972695,  70.00714249,  90.24411338,  32.69556545,\n",
       "         63.65532185, 100.70253224,  60.30754513,  56.30275304,\n",
       "         63.63961031,  43.10452412,  72.49827584,  47.70744177,\n",
       "         57.24508713, 127.28707711,  54.91812087,  54.4242593 ,\n",
       "         92.39588735,  89.64373932, 105.38026381,   2.23606798,\n",
       "         73.43704787,  51.92301994, 101.83319694,  88.20430828,\n",
       "         16.4924225 ,  92.39588735,  50.53711507,  37.69615365,\n",
       "        118.79393924,  78.51751397,  86.88498144,  65.62011887,\n",
       "         60.40695324,  84.52810184,  89.28605714, 113.84638773,\n",
       "          5.83095189, 110.94142599,  87.7268488 ,  64.03124237,\n",
       "          0.        ,  30.8058436 ,  34.        ,   5.09901951],\n",
       "       [ 69.72087205,  59.6405902 ,  68.8839604 ,  62.03224968,\n",
       "         38.41874542,  21.21320344,  24.18677324,  51.35172831,\n",
       "         63.97655821,  12.16552506,  63.28506933,  67.06713055,\n",
       "         34.66987165,  71.56116265,  81.05553652,  31.6227766 ,\n",
       "         21.02379604,  24.51530134,  61.26989473,  22.20360331,\n",
       "         59.05929224,  42.42640687,  50.6359556 ,  74.06078585,\n",
       "         48.25971405,  77.12976079,  75.58438992,  19.23538406,\n",
       "         32.        ,  28.46049894,  66.12866247,  35.17101079,\n",
       "         76.10519036,  43.01162634,  18.97366596,  19.10497317,\n",
       "         15.65247584,  28.46049894,  70.34202158,  36.87817783,\n",
       "         66.06814664,  29.73213749,  60.16643583,  38.20994635,\n",
       "          9.43398113,   5.09901951,  74.96665926,  78.84795495,\n",
       "         73.68174808,  42.54409477,  28.28427125,  66.        ,\n",
       "         38.20994635,  42.72001873,  10.81665383,  29.68164416,\n",
       "         54.58937626,  57.27128425,  70.17834424,   7.07106781,\n",
       "         33.83784863,  73.00684899,  29.69848481,  29.61418579,\n",
       "         39.05124838,  33.30165161,  48.25971405,  17.        ,\n",
       "         36.49657518,  96.9381246 ,  30.08321791,  26.01922366,\n",
       "         66.03029608,  60.53924347,  75.2861209 ,  28.60069929,\n",
       "         57.56735186,  25.3179778 ,  71.02816343,  57.45432969,\n",
       "         21.09502311,  66.03029608,  20.61552813,  20.24845673,\n",
       "         88.52683209,  48.16637832,  60.        ,  49.64876635,\n",
       "         39.3192065 ,  58.03447251,  61.29437168,  83.5463943 ,\n",
       "         36.61966685,  82.73451517,  57.31491952,  44.91102315,\n",
       "         30.8058436 ,   0.        ,  20.1246118 ,  34.71310992],\n",
       "       [ 60.5309838 ,  65.60487787,  88.60022573,  49.16299421,\n",
       "         58.24946352,  39.45883931,  30.59411708,  48.37354649,\n",
       "         78.10249676,  20.22374842,  59.09314681,  59.9082632 ,\n",
       "         38.01315562,  76.4852927 ,  91.24143795,  35.        ,\n",
       "         35.51056181,  19.84943324,  75.18643495,  42.19004622,\n",
       "         79.17701687,  60.07495318,  42.20189569,  79.39773297,\n",
       "         45.27692569,  93.43446901,  89.28605714,  37.48332963,\n",
       "         29.20616373,  32.44996148,  86.16263691,  55.02726597,\n",
       "         94.1328848 ,  38.94868419,  29.54657341,  22.36067977,\n",
       "         32.06243908,  45.        ,  69.11584478,  55.97320788,\n",
       "         73.23933369,  31.06444913,  76.32168761,  32.20248438,\n",
       "         21.40093456,  23.60084744,  83.86298349,  98.67117107,\n",
       "         93.63759929,  30.01666204,  29.06888371,  59.77457654,\n",
       "         56.22277119,  32.55764119,  27.16615541,  37.57658846,\n",
       "         73.97972695,  77.38862966,  89.10667764,  13.60147051,\n",
       "         47.07440918,  87.32124598,  40.80441153,  47.09564736,\n",
       "         30.3644529 ,  53.00943312,  66.12110102,  26.68332813,\n",
       "         56.04462508, 105.68822072,  22.36067977,  25.49509757,\n",
       "         59.20304046,  73.37574531,  85.42247948,  32.01562119,\n",
       "         77.49193506,  21.26029163,  76.69419796,  62.48199741,\n",
       "         34.        ,  59.20304046,  25.49509757,  40.31128874,\n",
       "         97.75479528,  58.69412236,  54.08326913,  69.64194139,\n",
       "         58.69412236,  51.54609588,  57.27128425,  92.78469701,\n",
       "         39.11521443,  96.16652224,  67.08203932,  64.56004957,\n",
       "         34.        ,  20.1246118 ,   0.        ,  35.35533906],\n",
       "       [ 95.8853482 ,  94.20191081,  90.55385138,  84.00595217,\n",
       "         53.03772242,  52.69724851,  12.08304597,  82.28000972,\n",
       "         96.79876032,  45.48626166,  93.60555539,  95.12623192,\n",
       "          5.        , 106.01886625, 115.43396381,  65.        ,\n",
       "         24.51530134,  53.14132102,  94.3027041 ,  43.01162634,\n",
       "         75.02666193,  72.44998275,  77.46612163, 108.60018416,\n",
       "         79.12016178, 107.42439202, 108.45275469,  51.03920062,\n",
       "         62.39390996,  61.91122677,  85.0529247 ,  59.48108943,\n",
       "        103.4456379 ,  73.05477397,  18.78829423,  15.8113883 ,\n",
       "         49.57822102,  32.01562119, 102.55242562,  47.04253395,\n",
       "        100.76705811,   5.        ,  91.24143795,  66.76076692,\n",
       "         25.45584412,  31.89043744, 109.60383205,  99.12618221,\n",
       "         93.04837452,  65.27633568,   6.70820393,  94.83142939,\n",
       "         67.9779376 ,  67.89698079,  45.254834  ,  64.20280368,\n",
       "         79.07591289,  75.02666193,  95.34149149,  35.84689666,\n",
       "         68.01470429, 105.47511555,  64.38167441,  61.05735009,\n",
       "         65.51335742,  48.16637832,  77.47257579,  51.4003891 ,\n",
       "         62.29767251, 131.52946438,  57.00877125,  57.27128425,\n",
       "         94.36630755,  94.20191081, 109.71326264,   6.70820393,\n",
       "         78.51751397,  54.4242593 , 105.60303026,  91.83681179,\n",
       "         21.58703314,  94.36630755,  53.85164807,  42.72001873,\n",
       "        123.06908629,  82.73451517,  89.02246907,  70.71067812,\n",
       "         65.4599114 ,  86.58521814,  91.70605214, 118.1058847 ,\n",
       "          4.47213595, 115.66330447,  91.92388155,  69.12307864,\n",
       "          5.09901951,  34.71310992,  35.35533906,   0.        ]])"
      ]
     },
     "execution_count": 52,
     "metadata": {},
     "output_type": "execute_result"
    }
   ],
   "source": [
    "rand = np.random.randint(0,100, (100,2))\n",
    "X = rand[:,0].reshape(1,-1)\n",
    "Y = rand[:,1].reshape(1,-1)\n",
    "D = np.sqrt((X - X.T)**2 + (Y - Y.T)**2)\n",
    "D"
   ]
  },
  {
   "cell_type": "markdown",
   "id": "0e2990a0",
   "metadata": {},
   "source": [
    "#### 53. How to convert a float (32 bits) array into an integer (32 bits) array in place?"
   ]
  },
  {
   "cell_type": "code",
   "execution_count": 53,
   "id": "8d7e441e",
   "metadata": {},
   "outputs": [
    {
     "data": {
      "text/plain": [
       "array([67, 36, 43, 51, 80], dtype=int32)"
      ]
     },
     "execution_count": 53,
     "metadata": {},
     "output_type": "execute_result"
    }
   ],
   "source": [
    "fl_ar = (np.random.rand(5) * 100).astype(np.float32)\n",
    "fl_ar = fl_ar.astype(np.int32)\n",
    "fl_ar"
   ]
  },
  {
   "cell_type": "markdown",
   "id": "9e3fae09",
   "metadata": {},
   "source": [
    "#### 54. How to read the following file? (★★☆)\n",
    "```\n",
    "1, 2, 3, 4, 5\n",
    "6,  ,  , 7, 8\n",
    " ,  , 9,10,11\n",
    "```"
   ]
  },
  {
   "cell_type": "code",
   "execution_count": 54,
   "id": "5ce8d677",
   "metadata": {},
   "outputs": [
    {
     "data": {
      "text/plain": [
       "array([[ 1,  2,  3,  4,  5],\n",
       "       [ 6, -1, -1,  7,  8],\n",
       "       [-1, -1,  9, 10, 11]])"
      ]
     },
     "execution_count": 54,
     "metadata": {},
     "output_type": "execute_result"
    }
   ],
   "source": [
    "from io import StringIO\n",
    "file_str = StringIO(\"\"\"\n",
    "1, 2, 3, 4, 5\n",
    "6,  ,  , 7, 8\n",
    " ,  , 9,10,11\n",
    "\"\"\")\n",
    "np.genfromtxt(file_str, delimiter=',', dtype=int)"
   ]
  },
  {
   "cell_type": "markdown",
   "id": "dc8e013a",
   "metadata": {},
   "source": [
    "#### 55. What is the equivalent of enumerate for numpy arrays? (★★☆)"
   ]
  },
  {
   "cell_type": "code",
   "execution_count": 55,
   "id": "6b46c440",
   "metadata": {},
   "outputs": [
    {
     "name": "stdout",
     "output_type": "stream",
     "text": [
      "(0,) 1\n",
      "(1,) 2\n",
      "(2,) 3\n"
     ]
    }
   ],
   "source": [
    "for i, x in np.ndenumerate([1,2,3]):\n",
    "    print(i,x)"
   ]
  },
  {
   "cell_type": "markdown",
   "id": "acdcd8d9",
   "metadata": {},
   "source": [
    "#### 56. Generate a generic 2D Gaussian-like array (★★☆)"
   ]
  },
  {
   "cell_type": "code",
   "execution_count": 56,
   "id": "c00f8b49",
   "metadata": {},
   "outputs": [
    {
     "name": "stdout",
     "output_type": "stream",
     "text": [
      "[[3.67879441e-01 8.20849986e-02 6.73794700e-03 2.03468369e-04\n",
      "  2.26032941e-06 9.23744966e-09 1.38879439e-11 7.68120469e-15\n",
      "  1.56288219e-18 1.16984592e-22]\n",
      " [8.20849986e-02 1.83156389e-02 1.50343919e-03 4.53999298e-05\n",
      "  5.04347663e-07 2.06115362e-09 3.09881914e-12 1.71390843e-15\n",
      "  3.48726153e-19 2.61027907e-23]\n",
      " [6.73794700e-03 1.50343919e-03 1.23409804e-04 3.72665317e-06\n",
      "  4.13993772e-08 1.69189792e-10 2.54366565e-13 1.40686171e-16\n",
      "  2.86251858e-20 2.14264754e-24]\n",
      " [2.03468369e-04 4.53999298e-05 3.72665317e-06 1.12535175e-07\n",
      "  1.25015287e-09 5.10908903e-12 7.68120469e-15 4.24835426e-18\n",
      "  8.64405711e-22 6.47023493e-26]\n",
      " [2.26032941e-06 5.04347663e-07 4.13993772e-08 1.25015287e-09\n",
      "  1.38879439e-11 5.67568523e-14 8.53304763e-17 4.71949527e-20\n",
      "  9.60268005e-24 7.18778174e-28]\n",
      " [9.23744966e-09 2.06115362e-09 1.69189792e-10 5.10908903e-12\n",
      "  5.67568523e-14 2.31952283e-16 3.48726153e-19 1.92874985e-22\n",
      "  3.92439586e-26 2.93748211e-30]\n",
      " [1.38879439e-11 3.09881914e-12 2.54366565e-13 7.68120469e-15\n",
      "  8.53304763e-17 3.48726153e-19 5.24288566e-22 2.89975811e-25\n",
      "  5.90009054e-29 4.41632574e-33]\n",
      " [7.68120469e-15 1.71390843e-15 1.40686171e-16 4.24835426e-18\n",
      "  4.71949527e-20 1.92874985e-22 2.89975811e-25 1.60381089e-28\n",
      "  3.26324786e-32 2.44260074e-36]\n",
      " [1.56288219e-18 3.48726153e-19 2.86251858e-20 8.64405711e-22\n",
      "  9.60268005e-24 3.92439586e-26 5.90009054e-29 3.26324786e-32\n",
      "  6.63967720e-36 4.96991988e-40]\n",
      " [1.16984592e-22 2.61027907e-23 2.14264754e-24 6.47023493e-26\n",
      "  7.18778174e-28 2.93748211e-30 4.41632574e-33 2.44260074e-36\n",
      "  4.96991988e-40 3.72007598e-44]]\n"
     ]
    }
   ],
   "source": [
    "X, Y = np.meshgrid(np.linspace(1,10,10), np.linspace(1,10,10))\n",
    "D = np.sqrt(X*X+Y*Y)\n",
    "sigma, mu = 1.0, 0.0\n",
    "G = np.exp(-( (D-mu)**2 / ( 2.0 * sigma**2 ) ) )\n",
    "print(G)"
   ]
  },
  {
   "cell_type": "markdown",
   "id": "3f0bf645",
   "metadata": {},
   "source": [
    "#### 57. How to randomly place p elements in a 2D array? (★★☆)"
   ]
  },
  {
   "cell_type": "code",
   "execution_count": 57,
   "id": "bac7ed71",
   "metadata": {},
   "outputs": [
    {
     "data": {
      "text/plain": [
       "array([[99., 58.,  3., 50., 77., 94., 69., 18., 47., 40.],\n",
       "       [52.,  0., 40., 52., 50., 95., 21., 94., 84., 54.],\n",
       "       [80., 44., 62., 51., 46., 67., 61., 89.,  5., 21.],\n",
       "       [60., 17.,  0.,  3., 39., 77.,  6., 46., 76., 74.],\n",
       "       [88., 99., 28., 45.,  4., 94., 27., 77., 73.,  5.],\n",
       "       [95., 70., 64., 52., 44.,  0.,  7., 73., 43., 13.],\n",
       "       [58., 24., 92., 95., 24., 22., 36., 63., 80.,  7.],\n",
       "       [26., 22., 66., 32., 29., 73., 96., 26., 17., 63.],\n",
       "       [75., 65., 46., 35., 10., 53., 75.,  0., 71., 97.],\n",
       "       [71., 96.,  2., 66., 45., 35., 62., 62., 75., 94.]])"
      ]
     },
     "execution_count": 57,
     "metadata": {},
     "output_type": "execute_result"
    }
   ],
   "source": [
    "p_elem = (np.random.rand(100) * 100).astype(int)\n",
    "\n",
    "arr = np.zeros((10,10))\n",
    "\n",
    "xs = np.random.choice(10, 10, replace=False)\n",
    "ys = np.random.choice(10, 10, replace=False)\n",
    "x, y = np.meshgrid(xs,ys)\n",
    "x = x.reshape(-1)\n",
    "y = y.reshape(-1)\n",
    "\n",
    "for i in range(len(p_elem)):\n",
    "    arr[x[i], y[i]] = p_elem[i]\n",
    "\n",
    "arr"
   ]
  },
  {
   "cell_type": "markdown",
   "id": "b9ac42fc",
   "metadata": {},
   "source": [
    "#### 58. Subtract the mean of each row of a matrix (★★☆)"
   ]
  },
  {
   "cell_type": "code",
   "execution_count": 63,
   "id": "0cac0138",
   "metadata": {},
   "outputs": [
    {
     "name": "stdout",
     "output_type": "stream",
     "text": [
      "[[8 7 9 8]\n",
      " [4 6 3 6]\n",
      " [3 3 3 1]\n",
      " [7 5 9 7]]\n",
      "[[8.  ]\n",
      " [4.75]\n",
      " [2.5 ]\n",
      " [7.  ]]\n"
     ]
    },
    {
     "data": {
      "text/plain": [
       "array([[ 0.  , -1.  ,  1.  ,  0.  ],\n",
       "       [-0.75,  1.25, -1.75,  1.25],\n",
       "       [ 0.5 ,  0.5 ,  0.5 , -1.5 ],\n",
       "       [ 0.  , -2.  ,  2.  ,  0.  ]])"
      ]
     },
     "execution_count": 63,
     "metadata": {},
     "output_type": "execute_result"
    }
   ],
   "source": [
    "mat = np.random.randint(1,10,(4,4))\n",
    "print(mat)\n",
    "\n",
    "means = np.mean(mat, axis = 1, keepdims=True)\n",
    "print(means)\n",
    "\n",
    "mat_mean = np.subtract(mat, means)\n",
    "mat_mean"
   ]
  },
  {
   "cell_type": "markdown",
   "id": "f2c2e314",
   "metadata": {},
   "source": [
    "#### 59. How to sort an array by the nth column? (★★☆)"
   ]
  },
  {
   "cell_type": "code",
   "execution_count": 67,
   "id": "61739197",
   "metadata": {},
   "outputs": [
    {
     "name": "stdout",
     "output_type": "stream",
     "text": [
      "[[2 9 4 5]\n",
      " [4 5 1 2]\n",
      " [5 9 4 5]\n",
      " [9 3 5 5]]\n"
     ]
    },
    {
     "data": {
      "text/plain": [
       "array([[4, 5, 1, 2],\n",
       "       [2, 9, 4, 5],\n",
       "       [5, 9, 4, 5],\n",
       "       [9, 3, 5, 5]])"
      ]
     },
     "execution_count": 67,
     "metadata": {},
     "output_type": "execute_result"
    }
   ],
   "source": [
    "mat = np.random.randint(1,10,(4,4))\n",
    "print(mat)\n",
    "\n",
    "n = 2\n",
    "\n",
    "mat[mat[:,n].argsort()]"
   ]
  },
  {
   "cell_type": "markdown",
   "id": "e8311ecb",
   "metadata": {},
   "source": [
    "#### 60. How to tell if a given 2D array has null columns? (★★☆)"
   ]
  },
  {
   "cell_type": "code",
   "execution_count": 81,
   "id": "a3fd8a79",
   "metadata": {},
   "outputs": [
    {
     "name": "stdout",
     "output_type": "stream",
     "text": [
      "[[0.54892347        nan 0.28885275 0.0806971 ]\n",
      " [0.76027568        nan 0.55459879 0.762784  ]\n",
      " [0.4699028         nan 0.02681919 0.98999172]\n",
      " [0.40439288        nan 0.50277631 0.17038237]]\n",
      "[[False  True False False]\n",
      " [False  True False False]\n",
      " [False  True False False]\n",
      " [False  True False False]]\n",
      "[0 4 0 0]\n"
     ]
    },
    {
     "data": {
      "text/plain": [
       "np.True_"
      ]
     },
     "execution_count": 81,
     "metadata": {},
     "output_type": "execute_result"
    }
   ],
   "source": [
    "mat = np.random.rand(4,4)\n",
    "mat[:, 1] = np.nan\n",
    "\n",
    "print(mat)\n",
    "\n",
    "isna = np.isnan(mat)\n",
    "print(isna)\n",
    "\n",
    "sum = np.sum(isna, axis=0)\n",
    "print(sum)\n",
    "\n",
    "result = (np.sum(sum == mat.shape[1]) > 0)\n",
    "result\n"
   ]
  },
  {
   "cell_type": "code",
   "execution_count": 83,
   "id": "b9d1e4b8",
   "metadata": {},
   "outputs": [
    {
     "name": "stdout",
     "output_type": "stream",
     "text": [
      "[False  True False False]\n"
     ]
    }
   ],
   "source": [
    "print(isna.all(axis=0))"
   ]
  },
  {
   "cell_type": "markdown",
   "id": "e9617f44",
   "metadata": {},
   "source": [
    "#### 61. Find the nearest value from a given value in an array (★★☆)"
   ]
  },
  {
   "cell_type": "code",
   "execution_count": null,
   "id": "2fb40d45",
   "metadata": {},
   "outputs": [],
   "source": []
  },
  {
   "cell_type": "markdown",
   "id": "892813ba",
   "metadata": {},
   "source": [
    "#### 62. Considering two arrays with shape (1,3) and (3,1), how to compute their sum using an iterator? (★★☆)"
   ]
  },
  {
   "cell_type": "code",
   "execution_count": null,
   "id": "0ec3c1ee",
   "metadata": {},
   "outputs": [],
   "source": []
  },
  {
   "cell_type": "markdown",
   "id": "467ff234",
   "metadata": {},
   "source": [
    "#### 63. Create an array class that has a name attribute (★★☆)"
   ]
  },
  {
   "cell_type": "code",
   "execution_count": null,
   "id": "43d6ba35",
   "metadata": {},
   "outputs": [],
   "source": []
  },
  {
   "cell_type": "markdown",
   "id": "af15b01a",
   "metadata": {},
   "source": [
    "#### 64. Consider a given vector, how to add 1 to each element indexed by a second vector (be careful with repeated indices)? (★★★)"
   ]
  },
  {
   "cell_type": "code",
   "execution_count": null,
   "id": "52d9315d",
   "metadata": {},
   "outputs": [],
   "source": []
  },
  {
   "cell_type": "markdown",
   "id": "62d21ba4",
   "metadata": {},
   "source": [
    "#### 65. How to accumulate elements of a vector (X) to an array (F) based on an index list (I)? (★★★)"
   ]
  },
  {
   "cell_type": "code",
   "execution_count": null,
   "id": "56497ebc",
   "metadata": {},
   "outputs": [],
   "source": []
  },
  {
   "cell_type": "markdown",
   "id": "fd7e0104",
   "metadata": {},
   "source": [
    "#### 66. Considering a (w,h,3) image of (dtype=ubyte), compute the number of unique colors (★★☆)"
   ]
  },
  {
   "cell_type": "code",
   "execution_count": null,
   "id": "1cf3edec",
   "metadata": {},
   "outputs": [],
   "source": []
  },
  {
   "cell_type": "markdown",
   "id": "dd70e081",
   "metadata": {},
   "source": [
    "#### 67. Considering a four dimensions array, how to get sum over the last two axis at once? (★★★)"
   ]
  },
  {
   "cell_type": "code",
   "execution_count": null,
   "id": "e36af36e",
   "metadata": {},
   "outputs": [],
   "source": []
  },
  {
   "cell_type": "markdown",
   "id": "58333fa3",
   "metadata": {},
   "source": [
    "#### 68. Considering a one-dimensional vector D, how to compute means of subsets of D using a vector S of same size describing subset  indices? (★★★)"
   ]
  },
  {
   "cell_type": "code",
   "execution_count": null,
   "id": "acfc823e",
   "metadata": {},
   "outputs": [],
   "source": []
  },
  {
   "cell_type": "markdown",
   "id": "afbf2ff8",
   "metadata": {},
   "source": [
    "#### 69. How to get the diagonal of a dot product? (★★★)"
   ]
  },
  {
   "cell_type": "code",
   "execution_count": null,
   "id": "8b44d9cb",
   "metadata": {},
   "outputs": [],
   "source": []
  },
  {
   "cell_type": "markdown",
   "id": "01a1aeea",
   "metadata": {},
   "source": [
    "#### 70. Consider the vector [1, 2, 3, 4, 5], how to build a new vector with 3 consecutive zeros interleaved between each value? (★★★)"
   ]
  },
  {
   "cell_type": "code",
   "execution_count": null,
   "id": "2105434f",
   "metadata": {},
   "outputs": [],
   "source": []
  },
  {
   "cell_type": "markdown",
   "id": "1da61b2c",
   "metadata": {},
   "source": [
    "#### 71. Consider an array of dimension (5,5,3), how to multiply it by an array with dimensions (5,5)? (★★★)"
   ]
  },
  {
   "cell_type": "code",
   "execution_count": null,
   "id": "0f257760",
   "metadata": {},
   "outputs": [],
   "source": []
  },
  {
   "cell_type": "markdown",
   "id": "d465a23a",
   "metadata": {},
   "source": [
    "#### 72. How to swap two rows of an array? (★★★)"
   ]
  },
  {
   "cell_type": "code",
   "execution_count": null,
   "id": "85dbac4a",
   "metadata": {},
   "outputs": [],
   "source": []
  },
  {
   "cell_type": "markdown",
   "id": "64916675",
   "metadata": {},
   "source": [
    "#### 73. Consider a set of 10 triplets describing 10 triangles (with shared vertices), find the set of unique line segments composing all the  triangles (★★★)"
   ]
  },
  {
   "cell_type": "code",
   "execution_count": null,
   "id": "22cf4ff6",
   "metadata": {},
   "outputs": [],
   "source": []
  },
  {
   "cell_type": "markdown",
   "id": "5ac69993",
   "metadata": {},
   "source": [
    "#### 74. Given a sorted array C that corresponds to a bincount, how to produce an array A such that np.bincount(A) == C? (★★★)"
   ]
  },
  {
   "cell_type": "code",
   "execution_count": null,
   "id": "6e2b4a3b",
   "metadata": {},
   "outputs": [],
   "source": []
  },
  {
   "cell_type": "markdown",
   "id": "41ae2500",
   "metadata": {},
   "source": [
    "#### 75. How to compute averages using a sliding window over an array? (★★★)"
   ]
  },
  {
   "cell_type": "code",
   "execution_count": null,
   "id": "460cdb46",
   "metadata": {},
   "outputs": [],
   "source": []
  },
  {
   "cell_type": "markdown",
   "id": "8a968a39",
   "metadata": {},
   "source": [
    "#### 76. Consider a one-dimensional array Z, build a two-dimensional array whose first row is (Z[0],Z[1],Z[2]) and each subsequent row is  shifted by 1 (last row should be (Z[-3],Z[-2],Z[-1]) (★★★)"
   ]
  },
  {
   "cell_type": "code",
   "execution_count": null,
   "id": "5d37d9b3",
   "metadata": {},
   "outputs": [],
   "source": []
  },
  {
   "cell_type": "markdown",
   "id": "d8c056da",
   "metadata": {},
   "source": [
    "#### 77. How to negate a boolean, or to change the sign of a float inplace? (★★★)"
   ]
  },
  {
   "cell_type": "code",
   "execution_count": null,
   "id": "3a0ba740",
   "metadata": {},
   "outputs": [],
   "source": []
  },
  {
   "cell_type": "markdown",
   "id": "6a2632c8",
   "metadata": {},
   "source": [
    "#### 78. Consider 2 sets of points P0,P1 describing lines (2d) and a point p, how to compute distance from p to each line i (P0[i],P1[i])? (★★★)"
   ]
  },
  {
   "cell_type": "code",
   "execution_count": null,
   "id": "cce12b75",
   "metadata": {},
   "outputs": [],
   "source": []
  },
  {
   "cell_type": "markdown",
   "id": "7cba6ae9",
   "metadata": {},
   "source": [
    "#### 79. Consider 2 sets of points P0,P1 describing lines (2d) and a set of points P, how to compute distance from each point j (P[j]) to each line i (P0[i],P1[i])? (★★★)"
   ]
  },
  {
   "cell_type": "code",
   "execution_count": null,
   "id": "576c542d",
   "metadata": {},
   "outputs": [],
   "source": []
  },
  {
   "cell_type": "markdown",
   "id": "1402e9db",
   "metadata": {},
   "source": [
    "#### 80. Consider an arbitrary array, write a function that extracts a subpart with a fixed shape and centered on a given element (pad with a `fill` value when necessary) (★★★)"
   ]
  },
  {
   "cell_type": "code",
   "execution_count": null,
   "id": "8aa89c72",
   "metadata": {},
   "outputs": [],
   "source": []
  },
  {
   "cell_type": "markdown",
   "id": "159a6dff",
   "metadata": {},
   "source": [
    "#### 81. Consider an array Z = [1,2,3,4,5,6,7,8,9,10,11,12,13,14], how to generate an array R = [[1,2,3,4], [2,3,4,5], [3,4,5,6], ..., [11,12,13,14]]? (★★★)"
   ]
  },
  {
   "cell_type": "code",
   "execution_count": null,
   "id": "ce160b57",
   "metadata": {},
   "outputs": [],
   "source": []
  },
  {
   "cell_type": "markdown",
   "id": "9479f684",
   "metadata": {},
   "source": [
    "#### 82. Compute a matrix rank (★★★)"
   ]
  },
  {
   "cell_type": "code",
   "execution_count": null,
   "id": "9a6e088c",
   "metadata": {},
   "outputs": [],
   "source": []
  },
  {
   "cell_type": "markdown",
   "id": "5b6a81c5",
   "metadata": {},
   "source": [
    "#### 83. How to find the most frequent value in an array?"
   ]
  },
  {
   "cell_type": "code",
   "execution_count": null,
   "id": "cf1864ba",
   "metadata": {},
   "outputs": [],
   "source": []
  },
  {
   "cell_type": "markdown",
   "id": "8142c362",
   "metadata": {},
   "source": [
    "#### 84. Extract all the contiguous 3x3 blocks from a random 10x10 matrix (★★★)"
   ]
  },
  {
   "cell_type": "code",
   "execution_count": null,
   "id": "18b475ed",
   "metadata": {},
   "outputs": [],
   "source": []
  },
  {
   "cell_type": "markdown",
   "id": "6870a477",
   "metadata": {},
   "source": [
    "#### 85. Create a 2D array subclass such that Z[i,j] == Z[j,i] (★★★)"
   ]
  },
  {
   "cell_type": "code",
   "execution_count": null,
   "id": "13de2582",
   "metadata": {},
   "outputs": [],
   "source": []
  },
  {
   "cell_type": "markdown",
   "id": "502a6bb6",
   "metadata": {},
   "source": [
    "#### 86. Consider a set of p matrices with shape (n,n) and a set of p vectors with shape (n,1). How to compute the sum of of the p matrix products at once? (result has shape (n,1)) (★★★)"
   ]
  },
  {
   "cell_type": "code",
   "execution_count": null,
   "id": "5f575c8e",
   "metadata": {},
   "outputs": [],
   "source": []
  },
  {
   "cell_type": "markdown",
   "id": "b974e01e",
   "metadata": {},
   "source": [
    "#### 87. Consider a 16x16 array, how to get the block-sum (block size is 4x4)? (★★★)"
   ]
  },
  {
   "cell_type": "code",
   "execution_count": null,
   "id": "6e691289",
   "metadata": {},
   "outputs": [],
   "source": []
  },
  {
   "cell_type": "markdown",
   "id": "0b8c10c7",
   "metadata": {},
   "source": [
    "#### 88. How to implement the Game of Life using numpy arrays? (★★★)"
   ]
  },
  {
   "cell_type": "code",
   "execution_count": null,
   "id": "cd02f7f3",
   "metadata": {},
   "outputs": [],
   "source": []
  },
  {
   "cell_type": "markdown",
   "id": "e3f82541",
   "metadata": {},
   "source": [
    "#### 89. How to get the n largest values of an array (★★★)"
   ]
  },
  {
   "cell_type": "code",
   "execution_count": null,
   "id": "4fbd0146",
   "metadata": {},
   "outputs": [],
   "source": []
  },
  {
   "cell_type": "markdown",
   "id": "a7539391",
   "metadata": {},
   "source": [
    "#### 90. Given an arbitrary number of vectors, build the cartesian product (every combination of every item) (★★★)"
   ]
  },
  {
   "cell_type": "code",
   "execution_count": null,
   "id": "c6981e30",
   "metadata": {},
   "outputs": [],
   "source": []
  },
  {
   "cell_type": "markdown",
   "id": "faf28eb3",
   "metadata": {},
   "source": [
    "#### 91. How to create a record array from a regular array? (★★★)"
   ]
  },
  {
   "cell_type": "code",
   "execution_count": null,
   "id": "bf3c36e8",
   "metadata": {},
   "outputs": [],
   "source": []
  },
  {
   "cell_type": "markdown",
   "id": "bd45d52b",
   "metadata": {},
   "source": [
    "#### 92. Consider a large vector Z, compute Z to the power of 3 using 3 different methods (★★★)"
   ]
  },
  {
   "cell_type": "code",
   "execution_count": null,
   "id": "57add736",
   "metadata": {},
   "outputs": [],
   "source": []
  },
  {
   "cell_type": "markdown",
   "id": "6403bb1e",
   "metadata": {},
   "source": [
    "#### 93. Consider two arrays A and B of shape (8,3) and (2,2). How to find rows of A that contain elements of each row of B regardless of the order of the elements in B? (★★★)"
   ]
  },
  {
   "cell_type": "code",
   "execution_count": null,
   "id": "5e99e376",
   "metadata": {},
   "outputs": [],
   "source": []
  },
  {
   "cell_type": "markdown",
   "id": "2b1a4d2d",
   "metadata": {},
   "source": [
    "#### 94. Considering a 10x3 matrix, extract rows with unequal values (e.g. [2,2,3]) (★★★)"
   ]
  },
  {
   "cell_type": "code",
   "execution_count": null,
   "id": "9d12a8cd",
   "metadata": {},
   "outputs": [],
   "source": []
  },
  {
   "cell_type": "markdown",
   "id": "523fbb20",
   "metadata": {},
   "source": [
    "#### 95. Convert a vector of ints into a matrix binary representation (★★★)"
   ]
  },
  {
   "cell_type": "code",
   "execution_count": null,
   "id": "b17c2ce8",
   "metadata": {},
   "outputs": [],
   "source": []
  },
  {
   "cell_type": "markdown",
   "id": "3eb5ef69",
   "metadata": {},
   "source": [
    "#### 96. Given a two dimensional array, how to extract unique rows? (★★★)"
   ]
  },
  {
   "cell_type": "code",
   "execution_count": null,
   "id": "092c2c20",
   "metadata": {},
   "outputs": [],
   "source": []
  },
  {
   "cell_type": "markdown",
   "id": "c0e13fe1",
   "metadata": {},
   "source": [
    "#### 97. Considering 2 vectors A & B, write the einsum equivalent of inner, outer, sum, and mul function (★★★)"
   ]
  },
  {
   "cell_type": "code",
   "execution_count": null,
   "id": "b7b697cd",
   "metadata": {},
   "outputs": [],
   "source": []
  },
  {
   "cell_type": "markdown",
   "id": "cc071dbe",
   "metadata": {},
   "source": [
    "#### 98. Considering a path described by two vectors (X,Y), how to sample it using equidistant samples (★★★)?"
   ]
  },
  {
   "cell_type": "code",
   "execution_count": null,
   "id": "fec9fe86",
   "metadata": {},
   "outputs": [],
   "source": []
  },
  {
   "cell_type": "markdown",
   "id": "972f9dc3",
   "metadata": {},
   "source": [
    "#### 99. Given an integer n and a 2D array X, select from X the rows which can be interpreted as draws from a multinomial distribution with n degrees, i.e., the rows which only contain integers and which sum to n. (★★★)"
   ]
  },
  {
   "cell_type": "code",
   "execution_count": null,
   "id": "5b284c86",
   "metadata": {},
   "outputs": [],
   "source": []
  },
  {
   "cell_type": "markdown",
   "id": "afad9d6e",
   "metadata": {},
   "source": [
    "#### 100. Compute bootstrapped 95% confidence intervals for the mean of a 1D array X (i.e., resample the elements of an array with replacement N times, compute the mean of each sample, and then compute percentiles over the means). (★★★)"
   ]
  },
  {
   "cell_type": "code",
   "execution_count": null,
   "id": "f1885c64",
   "metadata": {},
   "outputs": [],
   "source": []
  }
 ],
 "metadata": {
  "kernelspec": {
   "display_name": "Python 3",
   "language": "python",
   "name": "python3"
  },
  "language_info": {
   "codemirror_mode": {
    "name": "ipython",
    "version": 3
   },
   "file_extension": ".py",
   "mimetype": "text/x-python",
   "name": "python",
   "nbconvert_exporter": "python",
   "pygments_lexer": "ipython3",
   "version": "3.9.6"
  }
 },
 "nbformat": 4,
 "nbformat_minor": 5
}
